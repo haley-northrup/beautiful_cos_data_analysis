{
 "cells": [
  {
   "cell_type": "markdown",
   "id": "6c6a4d6c-2d6d-4b9f-a53f-f28a10befcd9",
   "metadata": {},
   "source": [
    "## People Centered COS\n",
    "\n",
    "### CDOT Data - Convert 2007 to 2020 csv files to match 2021+ format and save to csv \n",
    "#### The goal is to make it easier for others to use this data prior to 2021 with later data formats together more easily. \n"
   ]
  },
  {
   "cell_type": "markdown",
   "id": "572dc5e9-ab45-4c82-b8c9-8a8186a0b0a0",
   "metadata": {},
   "source": [
    "### Set Up"
   ]
  },
  {
   "cell_type": "code",
   "execution_count": 7,
   "id": "e98a49ed-2372-4a40-b54c-d5a9a9a407ec",
   "metadata": {},
   "outputs": [
    {
     "name": "stdout",
     "output_type": "stream",
     "text": [
      "Note: you may need to restart the kernel to use updated packages.\n"
     ]
    }
   ],
   "source": [
    "pip install pandas -q"
   ]
  },
  {
   "cell_type": "code",
   "execution_count": 8,
   "id": "3dd5c45b-b9b5-481a-ade5-dedee79058b8",
   "metadata": {},
   "outputs": [
    {
     "name": "stdout",
     "output_type": "stream",
     "text": [
      "Note: you may need to restart the kernel to use updated packages.\n"
     ]
    }
   ],
   "source": [
    "pip install openpyxl -q"
   ]
  },
  {
   "cell_type": "code",
   "execution_count": 9,
   "id": "31bd37db-b630-46e9-865b-34c219465e96",
   "metadata": {},
   "outputs": [],
   "source": [
    "import pandas as pd\n",
    "pd.set_option('display.max_rows', 500)\n",
    "\n",
    "import warnings\n",
    "warnings.filterwarnings('ignore')"
   ]
  },
  {
   "cell_type": "markdown",
   "id": "95eec926-ddd6-44d4-ac86-c83b0e3a165d",
   "metadata": {},
   "source": [
    "### Load Data"
   ]
  },
  {
   "cell_type": "code",
   "execution_count": 10,
   "id": "97e174d0-a1c2-4ae5-8615-21365b6728de",
   "metadata": {},
   "outputs": [],
   "source": [
    "import sys  \n",
    "sys.path.insert(1, '../')\n",
    "\n",
    "from convert_old_cdot_format_to_new_format import convert_old_cdot_format_to_new_format"
   ]
  },
  {
   "cell_type": "code",
   "execution_count": 11,
   "id": "ab424dd0-1201-47ef-86c5-f0976443619a",
   "metadata": {},
   "outputs": [
    {
     "name": "stdout",
     "output_type": "stream",
     "text": [
      "year 2007\n",
      "input path /Users/haley.northrup/Desktop/PeopleCenteredCOS/cdot_data/original/CDOTRM_CD_Crash_Listing_-_2007.xlsx\n",
      "['SYSTEM', 'RTE', 'SEC', 'MP', 'DATE']\n",
      "(112191, 85)\n",
      "output path /Users/haley.northrup/Desktop/PeopleCenteredCOS/cdot_data/converted_to_2021_format/CDOTRM_CD_Crash_Listing_-_2007_formatted.csv\n",
      "year 2008\n",
      "input path /Users/haley.northrup/Desktop/PeopleCenteredCOS/cdot_data/original/CDOTRM_CD_Crash_Listing_-_2008.xlsx\n",
      "['SYSTEM', 'RTE', 'SEC', 'MP', 'DATE']\n",
      "(104966, 85)\n",
      "output path /Users/haley.northrup/Desktop/PeopleCenteredCOS/cdot_data/converted_to_2021_format/CDOTRM_CD_Crash_Listing_-_2008_formatted.csv\n",
      "year 2009\n",
      "input path /Users/haley.northrup/Desktop/PeopleCenteredCOS/cdot_data/original/CDOTRM_CD_Crash_Listing_-_2009.xlsx\n",
      "['SYSTEM', 'RTE', 'SEC', 'MP', 'DATE']\n",
      "(101813, 85)\n",
      "output path /Users/haley.northrup/Desktop/PeopleCenteredCOS/cdot_data/converted_to_2021_format/CDOTRM_CD_Crash_Listing_-_2009_formatted.csv\n",
      "year 2010\n",
      "input path /Users/haley.northrup/Desktop/PeopleCenteredCOS/cdot_data/original/CDOTRM_CD_Crash_Listing_-_2010.xlsx\n",
      "['SYSTEM', 'RTE', 'SEC', 'MP', 'DATE']\n",
      "(99265, 85)\n",
      "output path /Users/haley.northrup/Desktop/PeopleCenteredCOS/cdot_data/converted_to_2021_format/CDOTRM_CD_Crash_Listing_-_2010_formatted.csv\n",
      "year 2011\n",
      "input path /Users/haley.northrup/Desktop/PeopleCenteredCOS/cdot_data/original/CDOTRM_CD_Crash_Listing_-_2011.xlsx\n",
      "['SYSTEM', 'RTE', 'SEC', 'MP', 'DATE']\n",
      "(101236, 85)\n",
      "output path /Users/haley.northrup/Desktop/PeopleCenteredCOS/cdot_data/converted_to_2021_format/CDOTRM_CD_Crash_Listing_-_2011_formatted.csv\n",
      "year 2012\n",
      "input path /Users/haley.northrup/Desktop/PeopleCenteredCOS/cdot_data/original/CDOTRM_CD_Crash_Listing_-_2012.xlsx\n",
      "['SYSTEM', 'RTE', 'SEC', 'MP', 'DATE']\n",
      "(100984, 85)\n",
      "output path /Users/haley.northrup/Desktop/PeopleCenteredCOS/cdot_data/converted_to_2021_format/CDOTRM_CD_Crash_Listing_-_2012_formatted.csv\n",
      "year 2013\n",
      "input path /Users/haley.northrup/Desktop/PeopleCenteredCOS/cdot_data/original/CDOTRM_CD_Crash_Listing_-_2013.xlsx\n",
      "['SYSTEM', 'RTE', 'SEC', 'MP', 'DATE']\n",
      "(107674, 85)\n",
      "output path /Users/haley.northrup/Desktop/PeopleCenteredCOS/cdot_data/converted_to_2021_format/CDOTRM_CD_Crash_Listing_-_2013_formatted.csv\n",
      "year 2014\n",
      "input path /Users/haley.northrup/Desktop/PeopleCenteredCOS/cdot_data/original/CDOTRM_CD_Crash_Listing_-_2014.xlsx\n",
      "['SYSTEM', 'RTE', 'SEC', 'MP', 'DATE']\n",
      "(115556, 85)\n",
      "output path /Users/haley.northrup/Desktop/PeopleCenteredCOS/cdot_data/converted_to_2021_format/CDOTRM_CD_Crash_Listing_-_2014_formatted.csv\n",
      "year 2015\n",
      "input path /Users/haley.northrup/Desktop/PeopleCenteredCOS/cdot_data/original/CDOTRM_CD_Crash_Listing_-_2015.xlsx\n",
      "['SYSTEM', 'RTE', 'SEC', 'MP', 'DATE']\n",
      "(120926, 85)\n",
      "output path /Users/haley.northrup/Desktop/PeopleCenteredCOS/cdot_data/converted_to_2021_format/CDOTRM_CD_Crash_Listing_-_2015_formatted.csv\n",
      "year 2016\n",
      "input path /Users/haley.northrup/Desktop/PeopleCenteredCOS/cdot_data/original/CDOTRM_CD_Crash_Listing_-_2016.xlsx\n",
      "['SYSTEM', 'RTE', 'SEC', 'MP', 'DATE']\n",
      "(121063, 85)\n",
      "output path /Users/haley.northrup/Desktop/PeopleCenteredCOS/cdot_data/converted_to_2021_format/CDOTRM_CD_Crash_Listing_-_2016_formatted.csv\n",
      "year 2017\n",
      "input path /Users/haley.northrup/Desktop/PeopleCenteredCOS/cdot_data/original/CDOTRM_CD_Crash_Listing_-_2017.xlsx\n",
      "['SYSTEM', 'RTE', 'SEC', 'MP', 'DATE']\n",
      "(119251, 85)\n",
      "output path /Users/haley.northrup/Desktop/PeopleCenteredCOS/cdot_data/converted_to_2021_format/CDOTRM_CD_Crash_Listing_-_2017_formatted.csv\n",
      "year 2018\n",
      "input path /Users/haley.northrup/Desktop/PeopleCenteredCOS/cdot_data/original/CDOTRM_CD_Crash_Listing_-_2018.xlsx\n",
      "['SYSTEM', 'RTE', 'SEC', 'MP', 'DATE']\n",
      "(122597, 85)\n",
      "output path /Users/haley.northrup/Desktop/PeopleCenteredCOS/cdot_data/converted_to_2021_format/CDOTRM_CD_Crash_Listing_-_2018_formatted.csv\n",
      "year 2019\n",
      "input path /Users/haley.northrup/Desktop/PeopleCenteredCOS/cdot_data/original/CDOTRM_CD_Crash_Listing_-_2019.xlsx\n",
      "['SYSTEM', 'RTE', 'SEC', 'MP', 'DATE']\n",
      "(121805, 85)\n",
      "output path /Users/haley.northrup/Desktop/PeopleCenteredCOS/cdot_data/converted_to_2021_format/CDOTRM_CD_Crash_Listing_-_2019_formatted.csv\n",
      "year 2020\n",
      "input path /Users/haley.northrup/Desktop/PeopleCenteredCOS/cdot_data/original/CDOTRM_CD_Crash_Listing_-_2020.xlsx\n",
      "['SYSTEM', 'RTE', 'SEC', 'MP', 'DATE']\n",
      "(86304, 85)\n",
      "output path /Users/haley.northrup/Desktop/PeopleCenteredCOS/cdot_data/converted_to_2021_format/CDOTRM_CD_Crash_Listing_-_2020_formatted.csv\n"
     ]
    }
   ],
   "source": [
    "# Load CDOT Data for a list of years\n",
    "\n",
    "years = [2007, 2008, 2009, 2010, 2011, 2012, 2013, 2014, 2015, 2016, 2017, 2018, 2019, 2020]\n",
    "cdot_input_path = \"/Users/haley.northrup/Desktop/PeopleCenteredCOS/cdot_data/original/\"\n",
    "cdot_output_path = \"/Users/haley.northrup/Desktop/PeopleCenteredCOS/cdot_data/converted_to_2021_format/\"\n",
    "\n",
    "for y in years:\n",
    "    filename = f\"CDOTRM_CD_Crash_Listing_-_{y}.xlsx\"\n",
    "    full_path = cdot_input_path + filename\n",
    "    year_cdot_pdf = pd.read_excel(full_path)\n",
    "    year_cdot_pdf['Crash Year'] = y\n",
    "    \n",
    "    print('year', y)\n",
    "    print('input path', full_path)\n",
    "    print(list(year_cdot_pdf.columns)[0:5])\n",
    "    print(year_cdot_pdf.shape)\n",
    "    \n",
    "    if y < 2021:\n",
    "        # call conversion code \n",
    "        year_cdot_pdf = convert_old_cdot_format_to_new_format(year_cdot_pdf)\n",
    "\n",
    "    # Write to file\n",
    "    output_filepath = cdot_output_path + filename[:-5] + '_formatted.csv'\n",
    "    print('output path', output_filepath) \n",
    "    year_cdot_pdf.to_csv(output_filepath)"
   ]
  },
  {
   "cell_type": "code",
   "execution_count": 12,
   "id": "775b75ce-88d0-4e92-83fc-5573186c3d24",
   "metadata": {},
   "outputs": [
    {
     "name": "stdout",
     "output_type": "stream",
     "text": [
      "['CUID', 'System Code', 'Rd_Number', 'Rd_Section', 'City_Street', 'Crash Date', 'Crash Time', 'Agency Id', 'City', 'County', 'Latitude', 'Longitude', 'Location 1', 'Link', 'Location 2', 'Location', 'Road Description', 'First HE', 'Second HE', 'Third HE', 'Fourth HE', 'MHE', 'Crash Type', 'Approach Overtaking Turn', 'Wild Animal', 'Number Killed', 'Number Injured', 'Injury 00', 'Injury 01', 'Injury 02', 'Injury 03', 'Injury 04', 'Total Vehicles', 'Secondary Crash', 'Construction Zone', 'School Zone', 'Road Contour Curves', 'Road Contour Grade', 'Road Condition', 'Lighting Conditions', 'Weather Condition', 'Weather Condition 2', 'Lane Position', 'TU-1 Direction', 'TU-2 Direction', 'TU-1 Movement', 'TU-2 Movement', 'TU-1 Type', 'TU-2 Type', 'TU-1 Special Function', 'TU-2 Special Function', 'TU-1 Autonomous Vehicle', 'TU-2 Autonomous Vehicle', 'TU-1 Hit And Run', 'TU-2 Hit And Run', 'TU-1 Speed Limit', 'TU-2 Speed Limit', 'TU-1 Estimated Speed', 'TU-2 Estimated Speed', 'TU-1 Speed', 'TU-2 Speed', 'TU-1 Driver Action', 'TU-2 Driver Action', 'TU-1 Human Contributing Factor', 'TU-2 Human Contributing Factor', 'TU-1 Age', 'TU-2 Age', 'TU-1 Sex ', 'TU-2 Sex', 'TU-1 Safety System Available ', 'TU-2 Safety System Available ', 'TU-1 Safety restraint Use', 'TU-2 Safety restraint Use', 'TU-1 Safety Helmet', 'TU-2  Safety Helmet', 'TU-1 Alcohol Suspected', 'TU-2 Alcohol Suspected', 'TU-1  Marijuana Suspected', 'TU-2 Marijuana Suspected', 'TU-1 Other Drugs Suspected ', 'TU-2 Other Drugs Suspected ', 'TU-1 NM Direction', 'TU-2 NM Direction', 'TU-1 NM Movement', 'TU-2 NM Movement', 'TU-1 NM Facility Available', 'TU-2 NM Facility Available', 'TU-1 NM Location ', 'TU-2 NM Location ', 'TU-1 NM Type', 'TU-2 NM Type', 'TU-1 NM Age ', 'TU-2 NM Age ', 'TU-1 NM Sex ', 'TU-2 NM Sex ', 'TU-1 NM Action ', 'TU-2 NM Action ', 'TU-1 NM Human Contributing Factor ', 'TU-2 NM Human Contributing Factor ', 'TU-1 NM Safety Helmet ', 'TU-2 NM Safety Helmet ', 'TU-1 NM Alcohol Suspected ', 'TU-2 NM Alcohol Suspected ', 'TU-1 NM Marijuana Suspected ', 'TU-2 NM Marijuana Suspected ', 'TU-1 NM Other Drugs Suspected ', 'TU-2 NM Other Drugs Suspected ', 'Record Status', 'Processing Status', 'Last Updated', 'TU-3 Direction', 'TU-3 Movement', 'TU-3 Type', 'TU-3 Special Function', 'TU-3 Autonomous Vehicle', 'TU-3 Hit And Run', 'TU-3 Speed Limit', 'TU-3 Estimated Speed', 'TU-3 Speed', 'TU-3 Driver Action', 'TU-3 Human Contributing Factor', 'TU-3 Age', 'TU-3 Sex', 'TU-3 Safety System Available ', 'TU-3 Safety restraint Use', 'TU-3 Safety Helmet', 'TU-3 Alcohol Suspected', 'TU-3 Marijuana Suspected', 'TU-3 Other Drugs Suspected ', 'TU-3 NM Direction', 'TU-3 NM Movement', 'TU-3 NM Facility Available', 'TU-3 NM Location ', 'TU-3 NM Type', 'TU-3 NM Age ', 'TU-3 NM Sex ', 'TU-3 NM Action ', 'TU-3 NM Human Contributing Factor ', 'TU-3 NM Safety Helmet ', 'TU-3 NM Alcohol Suspected ', 'TU-3 NM Marijuana Suspected ', 'TU-3 NM Other Drugs Suspected ']\n"
     ]
    }
   ],
   "source": [
    "# Converted Column Order\n",
    "converted_columns = list(year_cdot_pdf.columns)\n",
    "print(converted_columns)"
   ]
  },
  {
   "cell_type": "code",
   "execution_count": null,
   "id": "11906de9-91f7-4ec6-8809-94d1fbcc4ed0",
   "metadata": {},
   "outputs": [],
   "source": []
  }
 ],
 "metadata": {
  "kernelspec": {
   "display_name": "Python 3 (ipykernel)",
   "language": "python",
   "name": "python3"
  },
  "language_info": {
   "codemirror_mode": {
    "name": "ipython",
    "version": 3
   },
   "file_extension": ".py",
   "mimetype": "text/x-python",
   "name": "python",
   "nbconvert_exporter": "python",
   "pygments_lexer": "ipython3",
   "version": "3.13.1"
  }
 },
 "nbformat": 4,
 "nbformat_minor": 5
}
