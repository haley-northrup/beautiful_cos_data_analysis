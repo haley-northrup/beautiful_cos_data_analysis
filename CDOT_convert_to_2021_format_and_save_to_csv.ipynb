{
 "cells": [
  {
   "cell_type": "markdown",
   "id": "6c6a4d6c-2d6d-4b9f-a53f-f28a10befcd9",
   "metadata": {},
   "source": [
    "## People Centered COS\n",
    "\n",
    "### CDOT Data - Convert 2007 to 2020 csv files to match 2021+ format and save to csv \n",
    "#### The goal is to make it easier for others to use this data prior to 2021 with later data formats together more easily. \n"
   ]
  },
  {
   "cell_type": "markdown",
   "id": "572dc5e9-ab45-4c82-b8c9-8a8186a0b0a0",
   "metadata": {},
   "source": [
    "### Set Up"
   ]
  },
  {
   "cell_type": "code",
   "execution_count": 7,
   "id": "e98a49ed-2372-4a40-b54c-d5a9a9a407ec",
   "metadata": {},
   "outputs": [
    {
     "name": "stdout",
     "output_type": "stream",
     "text": [
      "Note: you may need to restart the kernel to use updated packages.\n"
     ]
    }
   ],
   "source": [
    "pip install pandas -q"
   ]
  },
  {
   "cell_type": "code",
   "execution_count": 8,
   "id": "3dd5c45b-b9b5-481a-ade5-dedee79058b8",
   "metadata": {},
   "outputs": [
    {
     "name": "stdout",
     "output_type": "stream",
     "text": [
      "Note: you may need to restart the kernel to use updated packages.\n"
     ]
    }
   ],
   "source": [
    "pip install openpyxl -q"
   ]
  },
  {
   "cell_type": "code",
   "execution_count": 9,
   "id": "31bd37db-b630-46e9-865b-34c219465e96",
   "metadata": {},
   "outputs": [],
   "source": [
    "import pandas as pd\n",
    "pd.set_option('display.max_rows', 500)\n",
    "\n",
    "import warnings\n",
    "warnings.filterwarnings('ignore')"
   ]
  },
  {
   "cell_type": "markdown",
   "id": "95eec926-ddd6-44d4-ac86-c83b0e3a165d",
   "metadata": {},
   "source": [
    "### Load Data"
   ]
  },
  {
   "cell_type": "code",
   "execution_count": 10,
   "id": "97e174d0-a1c2-4ae5-8615-21365b6728de",
   "metadata": {},
   "outputs": [],
   "source": [
    "import sys  \n",
    "sys.path.insert(1, '../')\n",
    "\n",
    "from convert_old_cdot_format_to_new_format import convert_old_cdot_format_to_new_format"
   ]
  },
  {
   "cell_type": "code",
   "execution_count": null,
   "id": "ab424dd0-1201-47ef-86c5-f0976443619a",
   "metadata": {},
   "outputs": [
    {
     "name": "stdout",
     "output_type": "stream",
     "text": [
      "year 2007\n",
      "input path /Users/haley.northrup/Desktop/PeopleCenteredCOS/cdot_data/original/CDOTRM_CD_Crash_Listing_-_2007.xlsx\n",
      "['SYSTEM', 'RTE', 'SEC', 'MP', 'DATE']\n",
      "(112191, 85)\n",
      "output path /Users/haley.northrup/Desktop/PeopleCenteredCOS/cdot_data/converted_to_2021_format/CDOTRM_CD_Crash_Listing_-_2007_formatted.csv\n",
      "year 2008\n",
      "input path /Users/haley.northrup/Desktop/PeopleCenteredCOS/cdot_data/original/CDOTRM_CD_Crash_Listing_-_2008.xlsx\n",
      "['SYSTEM', 'RTE', 'SEC', 'MP', 'DATE']\n",
      "(104966, 85)\n",
      "output path /Users/haley.northrup/Desktop/PeopleCenteredCOS/cdot_data/converted_to_2021_format/CDOTRM_CD_Crash_Listing_-_2008_formatted.csv\n",
      "year 2009\n",
      "input path /Users/haley.northrup/Desktop/PeopleCenteredCOS/cdot_data/original/CDOTRM_CD_Crash_Listing_-_2009.xlsx\n",
      "['SYSTEM', 'RTE', 'SEC', 'MP', 'DATE']\n",
      "(101813, 85)\n",
      "output path /Users/haley.northrup/Desktop/PeopleCenteredCOS/cdot_data/converted_to_2021_format/CDOTRM_CD_Crash_Listing_-_2009_formatted.csv\n",
      "year 2010\n",
      "input path /Users/haley.northrup/Desktop/PeopleCenteredCOS/cdot_data/original/CDOTRM_CD_Crash_Listing_-_2010.xlsx\n",
      "['SYSTEM', 'RTE', 'SEC', 'MP', 'DATE']\n",
      "(99265, 85)\n"
     ]
    }
   ],
   "source": [
    "# Load CDOT Data for a list of years\n",
    "\n",
    "years = [2007, 2008, 2009, 2010, 2011, 2012, 2013, 2014, 2015, 2016, 2017, 2018, 2019, 2020]\n",
    "cdot_input_path = \"/Users/haley.northrup/Desktop/PeopleCenteredCOS/cdot_data/original/\"\n",
    "cdot_output_path = \"/Users/haley.northrup/Desktop/PeopleCenteredCOS/cdot_data/converted_to_2021_format/\"\n",
    "\n",
    "for y in years:\n",
    "    filename = f\"CDOTRM_CD_Crash_Listing_-_{y}.xlsx\"\n",
    "    full_path = cdot_input_path + filename\n",
    "    year_cdot_pdf = pd.read_excel(full_path)\n",
    "    year_cdot_pdf['Crash Year'] = y\n",
    "    \n",
    "    print('year', y)\n",
    "    print('input path', full_path)\n",
    "    print(list(year_cdot_pdf.columns)[0:5])\n",
    "    print(year_cdot_pdf.shape)\n",
    "    \n",
    "    if y < 2021:\n",
    "        # call conversion code \n",
    "        year_cdot_pdf = convert_old_cdot_format_to_new_format(year_cdot_pdf)\n",
    "\n",
    "    # Write to file\n",
    "    output_filepath = cdot_output_path + filename[:-5] + '_formatted.csv'\n",
    "    print('output path', output_filepath) \n",
    "    year_cdot_pdf.to_csv(output_filepath)"
   ]
  },
  {
   "cell_type": "code",
   "execution_count": null,
   "id": "775b75ce-88d0-4e92-83fc-5573186c3d24",
   "metadata": {},
   "outputs": [],
   "source": [
    "# Converted Column Order\n",
    "converted_columns = list(year_cdot_pdf.columns)\n",
    "print(converted_columns)"
   ]
  },
  {
   "cell_type": "code",
   "execution_count": null,
   "id": "11906de9-91f7-4ec6-8809-94d1fbcc4ed0",
   "metadata": {},
   "outputs": [],
   "source": []
  }
 ],
 "metadata": {
  "kernelspec": {
   "display_name": "Python 3 (ipykernel)",
   "language": "python",
   "name": "python3"
  },
  "language_info": {
   "codemirror_mode": {
    "name": "ipython",
    "version": 3
   },
   "file_extension": ".py",
   "mimetype": "text/x-python",
   "name": "python",
   "nbconvert_exporter": "python",
   "pygments_lexer": "ipython3",
   "version": "3.13.1"
  }
 },
 "nbformat": 4,
 "nbformat_minor": 5
}
