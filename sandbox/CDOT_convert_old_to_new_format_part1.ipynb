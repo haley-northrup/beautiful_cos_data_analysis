{
 "cells": [
  {
   "cell_type": "markdown",
   "id": "8a04ce42-ce3a-42e2-827a-37f40b87c2a8",
   "metadata": {},
   "source": [
    "## People Centered COS - Convert CDOT Data format (2007-2020) to the 2021+ data format \n",
    "\n",
    " #### Part 1 - (THIS NOTEBOOK) convert information on road condition, lighting, location, number of vehicles and people etc. \n",
    "\n",
    " #### Part 2 - in another notebook - will handle the mapping from vechile and non-motorist attributes and speeds etc. \n"
   ]
  },
  {
   "cell_type": "code",
   "execution_count": 1,
   "id": "75f0bfcd-e3e5-45cb-9d79-0b48fa205c60",
   "metadata": {},
   "outputs": [
    {
     "name": "stdout",
     "output_type": "stream",
     "text": [
      "Requirement already satisfied: pandas in /opt/homebrew/Cellar/jupyterlab/4.3.4_1/libexec/lib/python3.13/site-packages (2.2.3)\n",
      "Requirement already satisfied: numpy>=1.26.0 in /opt/homebrew/Cellar/jupyterlab/4.3.4_1/libexec/lib/python3.13/site-packages (from pandas) (2.2.1)\n",
      "Requirement already satisfied: python-dateutil>=2.8.2 in /opt/homebrew/Cellar/jupyterlab/4.3.4_1/libexec/lib/python3.13/site-packages (from pandas) (2.9.0.post0)\n",
      "Requirement already satisfied: pytz>=2020.1 in /opt/homebrew/Cellar/jupyterlab/4.3.4_1/libexec/lib/python3.13/site-packages (from pandas) (2024.2)\n",
      "Requirement already satisfied: tzdata>=2022.7 in /opt/homebrew/Cellar/jupyterlab/4.3.4_1/libexec/lib/python3.13/site-packages (from pandas) (2024.2)\n",
      "Requirement already satisfied: six>=1.5 in /opt/homebrew/Cellar/jupyterlab/4.3.4_1/libexec/lib/python3.13/site-packages (from python-dateutil>=2.8.2->pandas) (1.17.0)\n",
      "\n",
      "\u001b[1m[\u001b[0m\u001b[34;49mnotice\u001b[0m\u001b[1;39;49m]\u001b[0m\u001b[39;49m A new release of pip is available: \u001b[0m\u001b[31;49m24.3.1\u001b[0m\u001b[39;49m -> \u001b[0m\u001b[32;49m25.0.1\u001b[0m\n",
      "\u001b[1m[\u001b[0m\u001b[34;49mnotice\u001b[0m\u001b[1;39;49m]\u001b[0m\u001b[39;49m To update, run: \u001b[0m\u001b[32;49m/opt/homebrew/Cellar/jupyterlab/4.3.4_1/libexec/bin/python -m pip install --upgrade pip\u001b[0m\n",
      "Note: you may need to restart the kernel to use updated packages.\n"
     ]
    }
   ],
   "source": [
    "pip install pandas"
   ]
  },
  {
   "cell_type": "code",
   "execution_count": 2,
   "id": "625c97c1-9f40-4506-9699-966743ebf523",
   "metadata": {},
   "outputs": [
    {
     "name": "stdout",
     "output_type": "stream",
     "text": [
      "Requirement already satisfied: openpyxl in /opt/homebrew/Cellar/jupyterlab/4.3.4_1/libexec/lib/python3.13/site-packages (3.1.5)\n",
      "Requirement already satisfied: et-xmlfile in /opt/homebrew/Cellar/jupyterlab/4.3.4_1/libexec/lib/python3.13/site-packages (from openpyxl) (2.0.0)\n",
      "\n",
      "\u001b[1m[\u001b[0m\u001b[34;49mnotice\u001b[0m\u001b[1;39;49m]\u001b[0m\u001b[39;49m A new release of pip is available: \u001b[0m\u001b[31;49m24.3.1\u001b[0m\u001b[39;49m -> \u001b[0m\u001b[32;49m25.0.1\u001b[0m\n",
      "\u001b[1m[\u001b[0m\u001b[34;49mnotice\u001b[0m\u001b[1;39;49m]\u001b[0m\u001b[39;49m To update, run: \u001b[0m\u001b[32;49m/opt/homebrew/Cellar/jupyterlab/4.3.4_1/libexec/bin/python -m pip install --upgrade pip\u001b[0m\n",
      "Note: you may need to restart the kernel to use updated packages.\n"
     ]
    }
   ],
   "source": [
    "pip install openpyxl"
   ]
  },
  {
   "cell_type": "code",
   "execution_count": 3,
   "id": "ed2a201e-e4bc-48b7-b5b9-57a26c558a4c",
   "metadata": {},
   "outputs": [],
   "source": [
    "import pandas as pd"
   ]
  },
  {
   "cell_type": "markdown",
   "id": "5d4534f3-f5e3-45f3-8058-1416481d4a01",
   "metadata": {},
   "source": [
    "### Load CDOT csvs"
   ]
  },
  {
   "cell_type": "code",
   "execution_count": 4,
   "id": "9e9f1ad3-a322-49bf-864c-f65240b1a259",
   "metadata": {},
   "outputs": [],
   "source": [
    "cdot_base_path = \"/Users/haley.northrup/Desktop/PeopleCenteredCOS/cdot_data/\""
   ]
  },
  {
   "cell_type": "code",
   "execution_count": 5,
   "id": "87f753af-9620-4c7e-af4a-46b03556ccc8",
   "metadata": {},
   "outputs": [
    {
     "name": "stdout",
     "output_type": "stream",
     "text": [
      "/Users/haley.northrup/Desktop/PeopleCenteredCOS/cdot_data/CDOTRM_CD_Crash_Listing_-_2023.xlsx\n"
     ]
    },
    {
     "data": {
      "text/html": [
       "<div>\n",
       "<style scoped>\n",
       "    .dataframe tbody tr th:only-of-type {\n",
       "        vertical-align: middle;\n",
       "    }\n",
       "\n",
       "    .dataframe tbody tr th {\n",
       "        vertical-align: top;\n",
       "    }\n",
       "\n",
       "    .dataframe thead th {\n",
       "        text-align: right;\n",
       "    }\n",
       "</style>\n",
       "<table border=\"1\" class=\"dataframe\">\n",
       "  <thead>\n",
       "    <tr style=\"text-align: right;\">\n",
       "      <th></th>\n",
       "      <th>CUID</th>\n",
       "      <th>System Code</th>\n",
       "      <th>Rd_Number</th>\n",
       "      <th>Rd_Section</th>\n",
       "      <th>City_Street</th>\n",
       "      <th>Crash Date</th>\n",
       "      <th>Crash Time</th>\n",
       "      <th>Agency Id</th>\n",
       "      <th>City</th>\n",
       "      <th>County</th>\n",
       "      <th>...</th>\n",
       "      <th>TU-2 NM Safety Helmet</th>\n",
       "      <th>TU-1 NM Alcohol Suspected</th>\n",
       "      <th>TU-2 NM Alcohol Suspected</th>\n",
       "      <th>TU-1 NM Marijuana Suspected</th>\n",
       "      <th>TU-2 NM Marijuana Suspected</th>\n",
       "      <th>TU-1 NM Other Drugs Suspected</th>\n",
       "      <th>TU-2 NM Other Drugs Suspected</th>\n",
       "      <th>Record Status</th>\n",
       "      <th>Processing Status</th>\n",
       "      <th>Last Updated</th>\n",
       "    </tr>\n",
       "  </thead>\n",
       "  <tbody>\n",
       "    <tr>\n",
       "      <th>0</th>\n",
       "      <td>296027</td>\n",
       "      <td>City Street</td>\n",
       "      <td>0455</td>\n",
       "      <td>VERMO</td>\n",
       "      <td>TIMBE</td>\n",
       "      <td>2023-01-01</td>\n",
       "      <td>00:00:00</td>\n",
       "      <td>FTCPD</td>\n",
       "      <td>FORT COLLINS</td>\n",
       "      <td>LARIMER</td>\n",
       "      <td>...</td>\n",
       "      <td>NaN</td>\n",
       "      <td>NaN</td>\n",
       "      <td>NaN</td>\n",
       "      <td>NaN</td>\n",
       "      <td>NaN</td>\n",
       "      <td>NaN</td>\n",
       "      <td>NaN</td>\n",
       "      <td>Coded</td>\n",
       "      <td>Completed</td>\n",
       "      <td>Aug  4 2023 11:35PM</td>\n",
       "    </tr>\n",
       "    <tr>\n",
       "      <th>1</th>\n",
       "      <td>299624</td>\n",
       "      <td>City Street</td>\n",
       "      <td>0455</td>\n",
       "      <td>HARMO</td>\n",
       "      <td>TIMBE</td>\n",
       "      <td>2023-01-01</td>\n",
       "      <td>00:03:00</td>\n",
       "      <td>FTCPD</td>\n",
       "      <td>FORT COLLINS</td>\n",
       "      <td>LARIMER</td>\n",
       "      <td>...</td>\n",
       "      <td>NaN</td>\n",
       "      <td>NaN</td>\n",
       "      <td>NaN</td>\n",
       "      <td>NaN</td>\n",
       "      <td>NaN</td>\n",
       "      <td>NaN</td>\n",
       "      <td>NaN</td>\n",
       "      <td>Coded</td>\n",
       "      <td>Completed</td>\n",
       "      <td>Apr  6 2023 10:08PM</td>\n",
       "    </tr>\n",
       "    <tr>\n",
       "      <th>2</th>\n",
       "      <td>289075</td>\n",
       "      <td>City Street</td>\n",
       "      <td>0320</td>\n",
       "      <td>KALAM</td>\n",
       "      <td>CEDAR</td>\n",
       "      <td>2023-01-01</td>\n",
       "      <td>00:09:00</td>\n",
       "      <td>DPD</td>\n",
       "      <td>DENVER</td>\n",
       "      <td>DENVER</td>\n",
       "      <td>...</td>\n",
       "      <td>NaN</td>\n",
       "      <td>NaN</td>\n",
       "      <td>NaN</td>\n",
       "      <td>NaN</td>\n",
       "      <td>NaN</td>\n",
       "      <td>NaN</td>\n",
       "      <td>NaN</td>\n",
       "      <td>Coded</td>\n",
       "      <td>Completed</td>\n",
       "      <td>Feb  8 2023  8:29PM</td>\n",
       "    </tr>\n",
       "    <tr>\n",
       "      <th>3</th>\n",
       "      <td>293978</td>\n",
       "      <td>City Street</td>\n",
       "      <td>0055</td>\n",
       "      <td>LINVA</td>\n",
       "      <td>LARED</td>\n",
       "      <td>2023-01-01</td>\n",
       "      <td>00:16:00</td>\n",
       "      <td>AURPD</td>\n",
       "      <td>AURORA</td>\n",
       "      <td>ARAPAHOE</td>\n",
       "      <td>...</td>\n",
       "      <td>NaN</td>\n",
       "      <td>NaN</td>\n",
       "      <td>NaN</td>\n",
       "      <td>NaN</td>\n",
       "      <td>NaN</td>\n",
       "      <td>NaN</td>\n",
       "      <td>NaN</td>\n",
       "      <td>Coded</td>\n",
       "      <td>Completed</td>\n",
       "      <td>May  5 2023  8:02PM</td>\n",
       "    </tr>\n",
       "    <tr>\n",
       "      <th>4</th>\n",
       "      <td>299717</td>\n",
       "      <td>State Highway</td>\n",
       "      <td>095A</td>\n",
       "      <td>12.906</td>\n",
       "      <td>NaN</td>\n",
       "      <td>2023-01-01</td>\n",
       "      <td>00:34:00</td>\n",
       "      <td>WMPD</td>\n",
       "      <td>WESTMINSTER</td>\n",
       "      <td>JEFFERSON</td>\n",
       "      <td>...</td>\n",
       "      <td>NaN</td>\n",
       "      <td>NaN</td>\n",
       "      <td>NaN</td>\n",
       "      <td>NaN</td>\n",
       "      <td>NaN</td>\n",
       "      <td>NaN</td>\n",
       "      <td>NaN</td>\n",
       "      <td>Coded</td>\n",
       "      <td>Completed</td>\n",
       "      <td>Feb 15 2023  1:35PM</td>\n",
       "    </tr>\n",
       "  </tbody>\n",
       "</table>\n",
       "<p>5 rows × 110 columns</p>\n",
       "</div>"
      ],
      "text/plain": [
       "     CUID    System Code Rd_Number Rd_Section City_Street Crash Date  \\\n",
       "0  296027    City Street      0455      VERMO       TIMBE 2023-01-01   \n",
       "1  299624    City Street      0455      HARMO       TIMBE 2023-01-01   \n",
       "2  289075    City Street      0320      KALAM       CEDAR 2023-01-01   \n",
       "3  293978    City Street      0055      LINVA       LARED 2023-01-01   \n",
       "4  299717  State Highway      095A     12.906         NaN 2023-01-01   \n",
       "\n",
       "  Crash Time Agency Id          City     County  ...  TU-2 NM Safety Helmet   \\\n",
       "0   00:00:00     FTCPD  FORT COLLINS    LARIMER  ...                     NaN   \n",
       "1   00:03:00     FTCPD  FORT COLLINS    LARIMER  ...                     NaN   \n",
       "2   00:09:00       DPD        DENVER     DENVER  ...                     NaN   \n",
       "3   00:16:00     AURPD        AURORA   ARAPAHOE  ...                     NaN   \n",
       "4   00:34:00      WMPD   WESTMINSTER  JEFFERSON  ...                     NaN   \n",
       "\n",
       "   TU-1 NM Alcohol Suspected  TU-2 NM Alcohol Suspected   \\\n",
       "0                         NaN                        NaN   \n",
       "1                         NaN                        NaN   \n",
       "2                         NaN                        NaN   \n",
       "3                         NaN                        NaN   \n",
       "4                         NaN                        NaN   \n",
       "\n",
       "  TU-1 NM Marijuana Suspected  TU-2 NM Marijuana Suspected   \\\n",
       "0                          NaN                          NaN   \n",
       "1                          NaN                          NaN   \n",
       "2                          NaN                          NaN   \n",
       "3                          NaN                          NaN   \n",
       "4                          NaN                          NaN   \n",
       "\n",
       "  TU-1 NM Other Drugs Suspected  TU-2 NM Other Drugs Suspected  Record Status  \\\n",
       "0                            NaN                            NaN         Coded   \n",
       "1                            NaN                            NaN         Coded   \n",
       "2                            NaN                            NaN         Coded   \n",
       "3                            NaN                            NaN         Coded   \n",
       "4                            NaN                            NaN         Coded   \n",
       "\n",
       "  Processing Status         Last Updated  \n",
       "0         Completed  Aug  4 2023 11:35PM  \n",
       "1         Completed  Apr  6 2023 10:08PM  \n",
       "2         Completed  Feb  8 2023  8:29PM  \n",
       "3         Completed  May  5 2023  8:02PM  \n",
       "4         Completed  Feb 15 2023  1:35PM  \n",
       "\n",
       "[5 rows x 110 columns]"
      ]
     },
     "metadata": {},
     "output_type": "display_data"
    }
   ],
   "source": [
    "# Load CDOT Data from new data format (2021+) \n",
    "\n",
    "year_new = 2023\n",
    "filename_new = f\"CDOTRM_CD_Crash_Listing_-_{year_new}.xlsx\"\n",
    "\n",
    "full_path_new = cdot_base_path + filename_new\n",
    "print(full_path_new)\n",
    "\n",
    "cdot_new_pdf = pd.read_excel(full_path_new)\n",
    "display(cdot_new_pdf.head(5))"
   ]
  },
  {
   "cell_type": "code",
   "execution_count": 6,
   "id": "de528b38-70c3-4ac6-9681-8aac973f0f39",
   "metadata": {},
   "outputs": [
    {
     "name": "stdout",
     "output_type": "stream",
     "text": [
      "/Users/haley.northrup/Desktop/PeopleCenteredCOS/cdot_data/CDOTRM_CD_Crash_Listing_-_2007.xlsx\n"
     ]
    },
    {
     "data": {
      "text/html": [
       "<div>\n",
       "<style scoped>\n",
       "    .dataframe tbody tr th:only-of-type {\n",
       "        vertical-align: middle;\n",
       "    }\n",
       "\n",
       "    .dataframe tbody tr th {\n",
       "        vertical-align: top;\n",
       "    }\n",
       "\n",
       "    .dataframe thead th {\n",
       "        text-align: right;\n",
       "    }\n",
       "</style>\n",
       "<table border=\"1\" class=\"dataframe\">\n",
       "  <thead>\n",
       "    <tr style=\"text-align: right;\">\n",
       "      <th></th>\n",
       "      <th>SYSTEM</th>\n",
       "      <th>RTE</th>\n",
       "      <th>SEC</th>\n",
       "      <th>MP</th>\n",
       "      <th>DATE</th>\n",
       "      <th>TIME</th>\n",
       "      <th>SEVERITY</th>\n",
       "      <th>INJURY 00</th>\n",
       "      <th>INJURY 01</th>\n",
       "      <th>INJURY 02</th>\n",
       "      <th>...</th>\n",
       "      <th>DRVINJ_1</th>\n",
       "      <th>DRVINJ_2</th>\n",
       "      <th>DRVINJ_3</th>\n",
       "      <th>DUI_1</th>\n",
       "      <th>DUI_2</th>\n",
       "      <th>DUI_3</th>\n",
       "      <th>CITY</th>\n",
       "      <th>COUNTY</th>\n",
       "      <th>LATITUDE</th>\n",
       "      <th>LONGITUDE</th>\n",
       "    </tr>\n",
       "  </thead>\n",
       "  <tbody>\n",
       "    <tr>\n",
       "      <th>0</th>\n",
       "      <td>CITY STREET</td>\n",
       "      <td>0</td>\n",
       "      <td>NaN</td>\n",
       "      <td>0.0</td>\n",
       "      <td>2007-01-01</td>\n",
       "      <td>0.0</td>\n",
       "      <td>PDO</td>\n",
       "      <td>2</td>\n",
       "      <td>0</td>\n",
       "      <td>0</td>\n",
       "      <td>...</td>\n",
       "      <td>NO INJURY</td>\n",
       "      <td>NO INJURY</td>\n",
       "      <td>NaN</td>\n",
       "      <td>N</td>\n",
       "      <td>N</td>\n",
       "      <td>N</td>\n",
       "      <td>FORT COLLINS</td>\n",
       "      <td>LARIMER</td>\n",
       "      <td>40.55955</td>\n",
       "      <td>-105.045929</td>\n",
       "    </tr>\n",
       "    <tr>\n",
       "      <th>1</th>\n",
       "      <td>CITY STREET</td>\n",
       "      <td>0</td>\n",
       "      <td>NaN</td>\n",
       "      <td>0.0</td>\n",
       "      <td>2007-01-01</td>\n",
       "      <td>0.0</td>\n",
       "      <td>PDO</td>\n",
       "      <td>1</td>\n",
       "      <td>0</td>\n",
       "      <td>0</td>\n",
       "      <td>...</td>\n",
       "      <td>NO INJURY</td>\n",
       "      <td>NaN</td>\n",
       "      <td>NaN</td>\n",
       "      <td>N</td>\n",
       "      <td>N</td>\n",
       "      <td>N</td>\n",
       "      <td>PARKER</td>\n",
       "      <td>DOUGLAS</td>\n",
       "      <td>39.51831</td>\n",
       "      <td>-104.774870</td>\n",
       "    </tr>\n",
       "    <tr>\n",
       "      <th>2</th>\n",
       "      <td>CITY STREET</td>\n",
       "      <td>0</td>\n",
       "      <td>NaN</td>\n",
       "      <td>0.0</td>\n",
       "      <td>2007-01-01</td>\n",
       "      <td>0.0</td>\n",
       "      <td>PDO</td>\n",
       "      <td>1</td>\n",
       "      <td>0</td>\n",
       "      <td>0</td>\n",
       "      <td>...</td>\n",
       "      <td>NaN</td>\n",
       "      <td>NO INJURY</td>\n",
       "      <td>NaN</td>\n",
       "      <td>N</td>\n",
       "      <td>N</td>\n",
       "      <td>N</td>\n",
       "      <td>DENVER</td>\n",
       "      <td>DENVER</td>\n",
       "      <td>39.66372</td>\n",
       "      <td>-105.075380</td>\n",
       "    </tr>\n",
       "    <tr>\n",
       "      <th>3</th>\n",
       "      <td>INTERSTATE</td>\n",
       "      <td>70</td>\n",
       "      <td>A</td>\n",
       "      <td>387.3</td>\n",
       "      <td>2007-01-01</td>\n",
       "      <td>2.0</td>\n",
       "      <td>PDO</td>\n",
       "      <td>7</td>\n",
       "      <td>0</td>\n",
       "      <td>0</td>\n",
       "      <td>...</td>\n",
       "      <td>NO INJURY</td>\n",
       "      <td>NO INJURY</td>\n",
       "      <td>NaN</td>\n",
       "      <td>N</td>\n",
       "      <td>N</td>\n",
       "      <td>N</td>\n",
       "      <td>NaN</td>\n",
       "      <td>LINCOLN</td>\n",
       "      <td>39.28565</td>\n",
       "      <td>-103.196810</td>\n",
       "    </tr>\n",
       "    <tr>\n",
       "      <th>4</th>\n",
       "      <td>CITY STREET</td>\n",
       "      <td>0</td>\n",
       "      <td>NaN</td>\n",
       "      <td>0.0</td>\n",
       "      <td>2007-01-01</td>\n",
       "      <td>10.0</td>\n",
       "      <td>PDO</td>\n",
       "      <td>4</td>\n",
       "      <td>0</td>\n",
       "      <td>0</td>\n",
       "      <td>...</td>\n",
       "      <td>NO INJURY</td>\n",
       "      <td>NO INJURY</td>\n",
       "      <td>NaN</td>\n",
       "      <td>N</td>\n",
       "      <td>N</td>\n",
       "      <td>N</td>\n",
       "      <td>AURORA</td>\n",
       "      <td>ARAPAHOE</td>\n",
       "      <td>39.65800</td>\n",
       "      <td>-104.777000</td>\n",
       "    </tr>\n",
       "  </tbody>\n",
       "</table>\n",
       "<p>5 rows × 84 columns</p>\n",
       "</div>"
      ],
      "text/plain": [
       "        SYSTEM  RTE  SEC     MP       DATE  TIME SEVERITY  INJURY 00  \\\n",
       "0  CITY STREET    0  NaN    0.0 2007-01-01   0.0      PDO          2   \n",
       "1  CITY STREET    0  NaN    0.0 2007-01-01   0.0      PDO          1   \n",
       "2  CITY STREET    0  NaN    0.0 2007-01-01   0.0      PDO          1   \n",
       "3   INTERSTATE   70    A  387.3 2007-01-01   2.0      PDO          7   \n",
       "4  CITY STREET    0  NaN    0.0 2007-01-01  10.0      PDO          4   \n",
       "\n",
       "   INJURY 01  INJURY 02  ...   DRVINJ_1   DRVINJ_2 DRVINJ_3 DUI_1 DUI_2  \\\n",
       "0          0          0  ...  NO INJURY  NO INJURY      NaN     N     N   \n",
       "1          0          0  ...  NO INJURY        NaN      NaN     N     N   \n",
       "2          0          0  ...        NaN  NO INJURY      NaN     N     N   \n",
       "3          0          0  ...  NO INJURY  NO INJURY      NaN     N     N   \n",
       "4          0          0  ...  NO INJURY  NO INJURY      NaN     N     N   \n",
       "\n",
       "   DUI_3          CITY    COUNTY  LATITUDE   LONGITUDE  \n",
       "0      N  FORT COLLINS   LARIMER  40.55955 -105.045929  \n",
       "1      N        PARKER   DOUGLAS  39.51831 -104.774870  \n",
       "2      N        DENVER    DENVER  39.66372 -105.075380  \n",
       "3      N           NaN   LINCOLN  39.28565 -103.196810  \n",
       "4      N        AURORA  ARAPAHOE  39.65800 -104.777000  \n",
       "\n",
       "[5 rows x 84 columns]"
      ]
     },
     "metadata": {},
     "output_type": "display_data"
    }
   ],
   "source": [
    "# Load CDOT Data from old data format (2007-2020) \n",
    "\n",
    "year = 2007\n",
    "filename_old = f\"CDOTRM_CD_Crash_Listing_-_{year}.xlsx\"\n",
    "\n",
    "full_path_old = cdot_base_path + filename_old\n",
    "print(full_path_old)\n",
    "\n",
    "cdot_old_pdf = pd.read_excel(full_path_old)\n",
    "display(cdot_old_pdf.head(5))"
   ]
  },
  {
   "cell_type": "markdown",
   "id": "317f5873-b2cc-4a4a-8470-133614ee1ca6",
   "metadata": {},
   "source": [
    "### Inspect Data"
   ]
  },
  {
   "cell_type": "code",
   "execution_count": 7,
   "id": "e692adc6-827b-4877-9cca-cf11032acab4",
   "metadata": {},
   "outputs": [
    {
     "name": "stdout",
     "output_type": "stream",
     "text": [
      "<class 'pandas.core.frame.DataFrame'>\n",
      "RangeIndex: 102166 entries, 0 to 102165\n",
      "Data columns (total 110 columns):\n",
      " #    Column                              Non-Null Count   Dtype         \n",
      "---   ------                              --------------   -----         \n",
      " 0    CUID                                102166 non-null  int64         \n",
      " 1    System Code                         102166 non-null  object        \n",
      " 2    Rd_Number                           102166 non-null  object        \n",
      " 3    Rd_Section                          102015 non-null  object        \n",
      " 4    City_Street                         56097 non-null   object        \n",
      " 5    Crash Date                          102166 non-null  datetime64[ns]\n",
      " 6    Crash Time                          101951 non-null  object        \n",
      " 7    Agency Id                           102120 non-null  object        \n",
      " 8    City                                72982 non-null   object        \n",
      " 9    County                              102166 non-null  object        \n",
      " 10   Latitude                            94184 non-null   float64       \n",
      " 11   Longitude                           94184 non-null   float64       \n",
      " 12   Location 1                          102166 non-null  object        \n",
      " 13   Link                                102166 non-null  object        \n",
      " 14   Location 2                          102151 non-null  object        \n",
      " 15   Location                            102166 non-null  object        \n",
      " 16   Road Description                    102161 non-null  object        \n",
      " 17   First HE                            102166 non-null  object        \n",
      " 18   Second HE                           22404 non-null   object        \n",
      " 19   Third HE                            5825 non-null    object        \n",
      " 20   Fourth HE                           1649 non-null    object        \n",
      " 21   MHE                                 102166 non-null  object        \n",
      " 22   Crash Type                          102166 non-null  object        \n",
      " 23   Approach Overtaking Turn            102166 non-null  object        \n",
      " 24   Wild Animal                         3459 non-null    object        \n",
      " 25   Number Killed                       102166 non-null  int64         \n",
      " 26   Number Injured                      102166 non-null  int64         \n",
      " 27   Injury 00                           102166 non-null  int64         \n",
      " 28   Injury 01                           102166 non-null  int64         \n",
      " 29   Injury 02                           102166 non-null  int64         \n",
      " 30   Injury 03                           102166 non-null  int64         \n",
      " 31   Injury 04                           102166 non-null  int64         \n",
      " 32   Total Vehicles                      102165 non-null  float64       \n",
      " 33   Secondary Crash                     102165 non-null  float64       \n",
      " 34   Construction Zone                   102166 non-null  bool          \n",
      " 35   School Zone                         102165 non-null  float64       \n",
      " 36   Road Contour Curves                 93403 non-null   object        \n",
      " 37   Road Contour Grade                  93564 non-null   object        \n",
      " 38   Road Condition                      101568 non-null  object        \n",
      " 39   Lighting Conditions                 101519 non-null  object        \n",
      " 40   Weather Condition                   101130 non-null  object        \n",
      " 41   Weather Condition 2                 6478 non-null    object        \n",
      " 42   Lane Position                       90241 non-null   object        \n",
      " 43   TU-1 Direction                      101089 non-null  object        \n",
      " 44   TU-2 Direction                      78362 non-null   object        \n",
      " 45   TU-1 Movement                       101088 non-null  object        \n",
      " 46   TU-2 Movement                       78497 non-null   object        \n",
      " 47   TU-1 Type                           101079 non-null  object        \n",
      " 48   TU-2 Type                           78509 non-null   object        \n",
      " 49   TU-1 Special Function               91407 non-null   object        \n",
      " 50   TU-2 Special Function               74235 non-null   object        \n",
      " 51   TU-1 Autonomous Vehicle             93629 non-null   object        \n",
      " 52   TU-2 Autonomous Vehicle             75689 non-null   object        \n",
      " 53   TU-1 Hit And Run                    102166 non-null  bool          \n",
      " 54   TU-2 Hit And Run                    102166 non-null  bool          \n",
      " 55   TU-1 Speed Limit                    102166 non-null  int64         \n",
      " 56   TU-2 Speed Limit                    102166 non-null  int64         \n",
      " 57   TU-1 Estimated Speed                102166 non-null  int64         \n",
      " 58   TU-2 Estimated Speed                102166 non-null  int64         \n",
      " 59   TU-1 Speed                          102166 non-null  int64         \n",
      " 60   TU-2 Speed                          102166 non-null  int64         \n",
      " 61   TU-1 Driver Action                  93655 non-null   object        \n",
      " 62   TU-2 Driver Action                  73333 non-null   object        \n",
      " 63   TU-1 Human Contributing Factor      89065 non-null   object        \n",
      " 64   TU-2 Human Contributing Factor      72917 non-null   object        \n",
      " 65   TU-1 Age                            102166 non-null  int64         \n",
      " 66   TU-2 Age                            102166 non-null  int64         \n",
      " 67   TU-1 Sex                            89070 non-null   object        \n",
      " 68   TU-2 Sex                            71016 non-null   object        \n",
      " 69   TU-1 Safety System Available        78583 non-null   object        \n",
      " 70   TU-2 Safety System Available        61262 non-null   object        \n",
      " 71   TU-1 Safety restraint Use           80178 non-null   object        \n",
      " 72   TU-2 Safety restraint Use           61877 non-null   object        \n",
      " 73   TU-1 Safety Helmet                  81159 non-null   object        \n",
      " 74   TU-2  Safety Helmet                 62836 non-null   object        \n",
      " 75   TU-1 Alcohol Suspected              83757 non-null   object        \n",
      " 76   TU-2 Alcohol Suspected              66932 non-null   object        \n",
      " 77   TU-1  Marijuana Suspected           86871 non-null   object        \n",
      " 78   TU-2 Marijuana Suspected            67768 non-null   object        \n",
      " 79   TU-1 Other Drugs Suspected          81691 non-null   object        \n",
      " 80   TU-2 Other Drugs Suspected          65103 non-null   object        \n",
      " 81   TU-1 NM Direction                   1068 non-null    object        \n",
      " 82   TU-2 NM Direction                   1694 non-null    object        \n",
      " 83   TU-1 NM Movement                    1068 non-null    object        \n",
      " 84   TU-2 NM Movement                    1697 non-null    object        \n",
      " 85   TU-1 NM Facility Available          1693 non-null    object        \n",
      " 86   TU-2 NM Facility Available          1693 non-null    object        \n",
      " 87   TU-1 NM Location                    1068 non-null    object        \n",
      " 88   TU-2 NM Location                    1696 non-null    object        \n",
      " 89   TU-1 NM Type                        1068 non-null    object        \n",
      " 90   TU-2 NM Type                        1698 non-null    object        \n",
      " 91   TU-1 NM Age                         983 non-null     float64       \n",
      " 92   TU-2 NM Age                         1554 non-null    float64       \n",
      " 93   TU-1 NM Sex                         1067 non-null    object        \n",
      " 94   TU-2 NM Sex                         1692 non-null    object        \n",
      " 95   TU-1 NM Action                      1067 non-null    object        \n",
      " 96   TU-2 NM Action                      1690 non-null    object        \n",
      " 97   TU-1 NM Human Contributing Factor   996 non-null     object        \n",
      " 98   TU-2 NM Human Contributing Factor   1549 non-null    object        \n",
      " 99   TU-1 NM Safety Helmet               826 non-null     object        \n",
      " 100  TU-2 NM Safety Helmet               1328 non-null    object        \n",
      " 101  TU-1 NM Alcohol Suspected           943 non-null     object        \n",
      " 102  TU-2 NM Alcohol Suspected           1531 non-null    object        \n",
      " 103  TU-1 NM Marijuana Suspected         974 non-null     object        \n",
      " 104  TU-2 NM Marijuana Suspected         1560 non-null    object        \n",
      " 105  TU-1 NM Other Drugs Suspected       925 non-null     object        \n",
      " 106  TU-2 NM Other Drugs Suspected       1516 non-null    object        \n",
      " 107  Record Status                       102166 non-null  object        \n",
      " 108  Processing Status                   102166 non-null  object        \n",
      " 109  Last Updated                        102166 non-null  object        \n",
      "dtypes: bool(3), datetime64[ns](1), float64(7), int64(16), object(83)\n",
      "memory usage: 83.7+ MB\n",
      "None\n"
     ]
    }
   ],
   "source": [
    "print(cdot_new_pdf.info(verbose=True, show_counts=True))"
   ]
  },
  {
   "cell_type": "code",
   "execution_count": 8,
   "id": "e7b87ee0-68e7-45c7-a4a2-3f68d412708e",
   "metadata": {},
   "outputs": [
    {
     "name": "stdout",
     "output_type": "stream",
     "text": [
      "<class 'pandas.core.frame.DataFrame'>\n",
      "RangeIndex: 112191 entries, 0 to 112190\n",
      "Data columns (total 84 columns):\n",
      " #   Column      Non-Null Count   Dtype         \n",
      "---  ------      --------------   -----         \n",
      " 0   SYSTEM      112191 non-null  object        \n",
      " 1   RTE         112191 non-null  int64         \n",
      " 2   SEC         51897 non-null   object        \n",
      " 3   MP          112191 non-null  float64       \n",
      " 4   DATE        112191 non-null  datetime64[ns]\n",
      " 5   TIME        112139 non-null  float64       \n",
      " 6   SEVERITY    112191 non-null  object        \n",
      " 7   INJURY 00   112191 non-null  int64         \n",
      " 8   INJURY 01   112191 non-null  int64         \n",
      " 9   INJURY 02   112191 non-null  int64         \n",
      " 10  INJURY 03   112191 non-null  int64         \n",
      " 11  INJURY 04   112191 non-null  int64         \n",
      " 12  AGENCYNAME  112171 non-null  object        \n",
      " 13  LOCATION    112191 non-null  object        \n",
      " 14  ROAD_DESC   112191 non-null  object        \n",
      " 15  VEHICLES    112191 non-null  int64         \n",
      " 16  CONTOUR     112191 non-null  object        \n",
      " 17  CONDITION   112191 non-null  object        \n",
      " 18  LIGHTING    112191 non-null  object        \n",
      " 19  WEATHER     112191 non-null  object        \n",
      " 20  LIMIT1      112191 non-null  object        \n",
      " 21  LIMIT2      112191 non-null  object        \n",
      " 22  LIMIT3      112191 non-null  object        \n",
      " 23  RAMP        112191 non-null  object        \n",
      " 24  REGION      112191 non-null  int64         \n",
      " 25  RUCODE      112191 non-null  object        \n",
      " 26  EVENT_1     112161 non-null  object        \n",
      " 27  EVENT_2     18172 non-null   object        \n",
      " 28  EVENT_3     1031 non-null    object        \n",
      " 29  MHE         111999 non-null  object        \n",
      " 30  ACCTYPE     112142 non-null  object        \n",
      " 31  DIR_1       112191 non-null  object        \n",
      " 32  VEHICLE_1   112191 non-null  object        \n",
      " 33  DRIVER_1    112191 non-null  object        \n",
      " 34  FACTOR_1    112186 non-null  object        \n",
      " 35  SPEED_1     112191 non-null  object        \n",
      " 36  VEH_MOVE_1  112191 non-null  object        \n",
      " 37  AGE_1       112191 non-null  int64         \n",
      " 38  SEX_1       102911 non-null  object        \n",
      " 39  STATE_1     104007 non-null  object        \n",
      " 40  BELT_1      96022 non-null   object        \n",
      " 41  DIR_2       85547 non-null   object        \n",
      " 42  VEHICLE_2   85565 non-null   object        \n",
      " 43  DRIVER_2    112191 non-null  object        \n",
      " 44  FACTOR_2    112175 non-null  object        \n",
      " 45  SPEED_2     85501 non-null   object        \n",
      " 46  VEH_MOVE_2  85550 non-null   object        \n",
      " 47  AGE_2       112191 non-null  int64         \n",
      " 48  SEX_2       77154 non-null   object        \n",
      " 49  STATE_2     83377 non-null   object        \n",
      " 50  BELT_2      72184 non-null   object        \n",
      " 51  DIR_3       8893 non-null    object        \n",
      " 52  VEHICLE_3   8887 non-null    object        \n",
      " 53  DRIVER_3    112191 non-null  object        \n",
      " 54  FACTOR_3    112186 non-null  object        \n",
      " 55  SPEED_3     8884 non-null    object        \n",
      " 56  VEH_MOVE_3  8893 non-null    object        \n",
      " 57  AGE_3       112191 non-null  int64         \n",
      " 58  SEX_3       7631 non-null    object        \n",
      " 59  STATE_3     8479 non-null    object        \n",
      " 60  BELT_3      7369 non-null    object        \n",
      " 61  WAN_TYPE    3679 non-null    object        \n",
      " 62  LOC_01      112157 non-null  object        \n",
      " 63  LINK        111398 non-null  object        \n",
      " 64  LOC_02      110743 non-null  object        \n",
      " 65  HAZMAT_1    112191 non-null  object        \n",
      " 66  HAZMAT_2    112191 non-null  object        \n",
      " 67  HAZMAT_3    112191 non-null  object        \n",
      " 68  VIOLCODE_1  88107 non-null   object        \n",
      " 69  VIOLCODE_2  4569 non-null    object        \n",
      " 70  VIOLCODE_3  430 non-null     object        \n",
      " 71  CYCPROT_1   111844 non-null  object        \n",
      " 72  CYCPROT_2   84781 non-null   object        \n",
      " 73  CYCPROT_3   8486 non-null    object        \n",
      " 74  DRVINJ_1    104712 non-null  object        \n",
      " 75  DRVINJ_2    81598 non-null   object        \n",
      " 76  DRVINJ_3    8219 non-null    object        \n",
      " 77  DUI_1       112191 non-null  object        \n",
      " 78  DUI_2       112191 non-null  object        \n",
      " 79  DUI_3       112191 non-null  object        \n",
      " 80  CITY        83754 non-null   object        \n",
      " 81  COUNTY      112191 non-null  object        \n",
      " 82  LATITUDE    112191 non-null  float64       \n",
      " 83  LONGITUDE   112191 non-null  float64       \n",
      "dtypes: datetime64[ns](1), float64(4), int64(11), object(68)\n",
      "memory usage: 71.9+ MB\n",
      "None\n"
     ]
    }
   ],
   "source": [
    "print(cdot_old_pdf.info(verbose=True, show_counts=True))"
   ]
  },
  {
   "cell_type": "markdown",
   "id": "ee1a29d9-3a47-4956-a5eb-05c91a63ea0c",
   "metadata": {},
   "source": [
    "## Convert Data"
   ]
  },
  {
   "cell_type": "code",
   "execution_count": 9,
   "id": "680c0337-fdb5-498d-bf0b-74ff4d76f14e",
   "metadata": {},
   "outputs": [],
   "source": [
    "# Make a copy to edit\n",
    "cdot_old_converted_pdf = cdot_old_pdf\n",
    "\n",
    "cdot_old_converted_pdf['CUID'] = None"
   ]
  },
  {
   "cell_type": "code",
   "execution_count": 80,
   "id": "32be400f-e7ca-46ce-ae26-b20a7aba53ff",
   "metadata": {},
   "outputs": [
    {
     "name": "stdout",
     "output_type": "stream",
     "text": [
      "Old format SYSTEM ['CITY STREET' 'INTERSTATE' 'COUNTY ROAD' 'STATE HIGHWAY' 'FRONTAGE ROAD']\n",
      "New format System Code ['City Street' 'State Highway' 'Interstate Highway' 'County Road'\n",
      " 'Frontage Road']\n",
      "Old converted format System Code ['City Street' 'Interstate Highway' 'County Road' 'State Highway'\n",
      " 'Frontage Road']\n",
      "Do formats match: True\n"
     ]
    },
    {
     "name": "stderr",
     "output_type": "stream",
     "text": [
      "/var/folders/wh/mh9pm3896vb556vt9fxjp6sc0000gq/T/ipykernel_2312/3162058501.py:9: FutureWarning: Setting an item of incompatible dtype is deprecated and will raise an error in a future version of pandas. Value 'Interstate Highway' has dtype incompatible with int64, please explicitly cast to a compatible dtype first.\n",
      "  cdot_old_converted_pdf.loc[cdot_old_converted_pdf[new_column] == 'Interstate'] = 'Interstate Highway'\n",
      "/var/folders/wh/mh9pm3896vb556vt9fxjp6sc0000gq/T/ipykernel_2312/3162058501.py:9: FutureWarning: Setting an item of incompatible dtype is deprecated and will raise an error in a future version of pandas. Value 'Interstate Highway' has dtype incompatible with float64, please explicitly cast to a compatible dtype first.\n",
      "  cdot_old_converted_pdf.loc[cdot_old_converted_pdf[new_column] == 'Interstate'] = 'Interstate Highway'\n",
      "/var/folders/wh/mh9pm3896vb556vt9fxjp6sc0000gq/T/ipykernel_2312/3162058501.py:9: FutureWarning: Setting an item of incompatible dtype is deprecated and will raise an error in a future version of pandas. Value 'Interstate Highway' has dtype incompatible with datetime64[ns], please explicitly cast to a compatible dtype first.\n",
      "  cdot_old_converted_pdf.loc[cdot_old_converted_pdf[new_column] == 'Interstate'] = 'Interstate Highway'\n",
      "/var/folders/wh/mh9pm3896vb556vt9fxjp6sc0000gq/T/ipykernel_2312/3162058501.py:9: FutureWarning: Setting an item of incompatible dtype is deprecated and will raise an error in a future version of pandas. Value 'Interstate Highway' has dtype incompatible with float64, please explicitly cast to a compatible dtype first.\n",
      "  cdot_old_converted_pdf.loc[cdot_old_converted_pdf[new_column] == 'Interstate'] = 'Interstate Highway'\n",
      "/var/folders/wh/mh9pm3896vb556vt9fxjp6sc0000gq/T/ipykernel_2312/3162058501.py:9: FutureWarning: Setting an item of incompatible dtype is deprecated and will raise an error in a future version of pandas. Value 'Interstate Highway' has dtype incompatible with int64, please explicitly cast to a compatible dtype first.\n",
      "  cdot_old_converted_pdf.loc[cdot_old_converted_pdf[new_column] == 'Interstate'] = 'Interstate Highway'\n",
      "/var/folders/wh/mh9pm3896vb556vt9fxjp6sc0000gq/T/ipykernel_2312/3162058501.py:9: FutureWarning: Setting an item of incompatible dtype is deprecated and will raise an error in a future version of pandas. Value 'Interstate Highway' has dtype incompatible with int64, please explicitly cast to a compatible dtype first.\n",
      "  cdot_old_converted_pdf.loc[cdot_old_converted_pdf[new_column] == 'Interstate'] = 'Interstate Highway'\n",
      "/var/folders/wh/mh9pm3896vb556vt9fxjp6sc0000gq/T/ipykernel_2312/3162058501.py:9: FutureWarning: Setting an item of incompatible dtype is deprecated and will raise an error in a future version of pandas. Value 'Interstate Highway' has dtype incompatible with int64, please explicitly cast to a compatible dtype first.\n",
      "  cdot_old_converted_pdf.loc[cdot_old_converted_pdf[new_column] == 'Interstate'] = 'Interstate Highway'\n",
      "/var/folders/wh/mh9pm3896vb556vt9fxjp6sc0000gq/T/ipykernel_2312/3162058501.py:9: FutureWarning: Setting an item of incompatible dtype is deprecated and will raise an error in a future version of pandas. Value 'Interstate Highway' has dtype incompatible with int64, please explicitly cast to a compatible dtype first.\n",
      "  cdot_old_converted_pdf.loc[cdot_old_converted_pdf[new_column] == 'Interstate'] = 'Interstate Highway'\n",
      "/var/folders/wh/mh9pm3896vb556vt9fxjp6sc0000gq/T/ipykernel_2312/3162058501.py:9: FutureWarning: Setting an item of incompatible dtype is deprecated and will raise an error in a future version of pandas. Value 'Interstate Highway' has dtype incompatible with int64, please explicitly cast to a compatible dtype first.\n",
      "  cdot_old_converted_pdf.loc[cdot_old_converted_pdf[new_column] == 'Interstate'] = 'Interstate Highway'\n",
      "/var/folders/wh/mh9pm3896vb556vt9fxjp6sc0000gq/T/ipykernel_2312/3162058501.py:9: FutureWarning: Setting an item of incompatible dtype is deprecated and will raise an error in a future version of pandas. Value 'Interstate Highway' has dtype incompatible with int64, please explicitly cast to a compatible dtype first.\n",
      "  cdot_old_converted_pdf.loc[cdot_old_converted_pdf[new_column] == 'Interstate'] = 'Interstate Highway'\n",
      "/var/folders/wh/mh9pm3896vb556vt9fxjp6sc0000gq/T/ipykernel_2312/3162058501.py:9: FutureWarning: Setting an item of incompatible dtype is deprecated and will raise an error in a future version of pandas. Value 'Interstate Highway' has dtype incompatible with int64, please explicitly cast to a compatible dtype first.\n",
      "  cdot_old_converted_pdf.loc[cdot_old_converted_pdf[new_column] == 'Interstate'] = 'Interstate Highway'\n",
      "/var/folders/wh/mh9pm3896vb556vt9fxjp6sc0000gq/T/ipykernel_2312/3162058501.py:9: FutureWarning: Setting an item of incompatible dtype is deprecated and will raise an error in a future version of pandas. Value 'Interstate Highway' has dtype incompatible with int64, please explicitly cast to a compatible dtype first.\n",
      "  cdot_old_converted_pdf.loc[cdot_old_converted_pdf[new_column] == 'Interstate'] = 'Interstate Highway'\n",
      "/var/folders/wh/mh9pm3896vb556vt9fxjp6sc0000gq/T/ipykernel_2312/3162058501.py:9: FutureWarning: Setting an item of incompatible dtype is deprecated and will raise an error in a future version of pandas. Value 'Interstate Highway' has dtype incompatible with int64, please explicitly cast to a compatible dtype first.\n",
      "  cdot_old_converted_pdf.loc[cdot_old_converted_pdf[new_column] == 'Interstate'] = 'Interstate Highway'\n",
      "/var/folders/wh/mh9pm3896vb556vt9fxjp6sc0000gq/T/ipykernel_2312/3162058501.py:9: FutureWarning: Setting an item of incompatible dtype is deprecated and will raise an error in a future version of pandas. Value 'Interstate Highway' has dtype incompatible with int64, please explicitly cast to a compatible dtype first.\n",
      "  cdot_old_converted_pdf.loc[cdot_old_converted_pdf[new_column] == 'Interstate'] = 'Interstate Highway'\n",
      "/var/folders/wh/mh9pm3896vb556vt9fxjp6sc0000gq/T/ipykernel_2312/3162058501.py:9: FutureWarning: Setting an item of incompatible dtype is deprecated and will raise an error in a future version of pandas. Value 'Interstate Highway' has dtype incompatible with float64, please explicitly cast to a compatible dtype first.\n",
      "  cdot_old_converted_pdf.loc[cdot_old_converted_pdf[new_column] == 'Interstate'] = 'Interstate Highway'\n",
      "/var/folders/wh/mh9pm3896vb556vt9fxjp6sc0000gq/T/ipykernel_2312/3162058501.py:9: FutureWarning: Setting an item of incompatible dtype is deprecated and will raise an error in a future version of pandas. Value 'Interstate Highway' has dtype incompatible with float64, please explicitly cast to a compatible dtype first.\n",
      "  cdot_old_converted_pdf.loc[cdot_old_converted_pdf[new_column] == 'Interstate'] = 'Interstate Highway'\n",
      "/var/folders/wh/mh9pm3896vb556vt9fxjp6sc0000gq/T/ipykernel_2312/3162058501.py:9: FutureWarning: Setting an item of incompatible dtype is deprecated and will raise an error in a future version of pandas. Value 'Interstate Highway' has dtype incompatible with datetime64[ns], please explicitly cast to a compatible dtype first.\n",
      "  cdot_old_converted_pdf.loc[cdot_old_converted_pdf[new_column] == 'Interstate'] = 'Interstate Highway'\n",
      "/var/folders/wh/mh9pm3896vb556vt9fxjp6sc0000gq/T/ipykernel_2312/3162058501.py:9: FutureWarning: Setting an item of incompatible dtype is deprecated and will raise an error in a future version of pandas. Value 'Interstate Highway' has dtype incompatible with float64, please explicitly cast to a compatible dtype first.\n",
      "  cdot_old_converted_pdf.loc[cdot_old_converted_pdf[new_column] == 'Interstate'] = 'Interstate Highway'\n",
      "/var/folders/wh/mh9pm3896vb556vt9fxjp6sc0000gq/T/ipykernel_2312/3162058501.py:9: FutureWarning: Setting an item of incompatible dtype is deprecated and will raise an error in a future version of pandas. Value 'Interstate Highway' has dtype incompatible with float64, please explicitly cast to a compatible dtype first.\n",
      "  cdot_old_converted_pdf.loc[cdot_old_converted_pdf[new_column] == 'Interstate'] = 'Interstate Highway'\n",
      "/var/folders/wh/mh9pm3896vb556vt9fxjp6sc0000gq/T/ipykernel_2312/3162058501.py:9: FutureWarning: Setting an item of incompatible dtype is deprecated and will raise an error in a future version of pandas. Value 'Interstate Highway' has dtype incompatible with int64, please explicitly cast to a compatible dtype first.\n",
      "  cdot_old_converted_pdf.loc[cdot_old_converted_pdf[new_column] == 'Interstate'] = 'Interstate Highway'\n",
      "/var/folders/wh/mh9pm3896vb556vt9fxjp6sc0000gq/T/ipykernel_2312/3162058501.py:9: FutureWarning: Setting an item of incompatible dtype is deprecated and will raise an error in a future version of pandas. Value 'Interstate Highway' has dtype incompatible with int64, please explicitly cast to a compatible dtype first.\n",
      "  cdot_old_converted_pdf.loc[cdot_old_converted_pdf[new_column] == 'Interstate'] = 'Interstate Highway'\n",
      "/var/folders/wh/mh9pm3896vb556vt9fxjp6sc0000gq/T/ipykernel_2312/3162058501.py:9: FutureWarning: Setting an item of incompatible dtype is deprecated and will raise an error in a future version of pandas. Value 'Interstate Highway' has dtype incompatible with int64, please explicitly cast to a compatible dtype first.\n",
      "  cdot_old_converted_pdf.loc[cdot_old_converted_pdf[new_column] == 'Interstate'] = 'Interstate Highway'\n",
      "/var/folders/wh/mh9pm3896vb556vt9fxjp6sc0000gq/T/ipykernel_2312/3162058501.py:9: FutureWarning: Setting an item of incompatible dtype is deprecated and will raise an error in a future version of pandas. Value 'Interstate Highway' has dtype incompatible with int64, please explicitly cast to a compatible dtype first.\n",
      "  cdot_old_converted_pdf.loc[cdot_old_converted_pdf[new_column] == 'Interstate'] = 'Interstate Highway'\n",
      "/var/folders/wh/mh9pm3896vb556vt9fxjp6sc0000gq/T/ipykernel_2312/3162058501.py:9: FutureWarning: Setting an item of incompatible dtype is deprecated and will raise an error in a future version of pandas. Value 'Interstate Highway' has dtype incompatible with int64, please explicitly cast to a compatible dtype first.\n",
      "  cdot_old_converted_pdf.loc[cdot_old_converted_pdf[new_column] == 'Interstate'] = 'Interstate Highway'\n",
      "/var/folders/wh/mh9pm3896vb556vt9fxjp6sc0000gq/T/ipykernel_2312/3162058501.py:9: FutureWarning: Setting an item of incompatible dtype is deprecated and will raise an error in a future version of pandas. Value 'Interstate Highway' has dtype incompatible with int64, please explicitly cast to a compatible dtype first.\n",
      "  cdot_old_converted_pdf.loc[cdot_old_converted_pdf[new_column] == 'Interstate'] = 'Interstate Highway'\n",
      "/var/folders/wh/mh9pm3896vb556vt9fxjp6sc0000gq/T/ipykernel_2312/3162058501.py:9: FutureWarning: Setting an item of incompatible dtype is deprecated and will raise an error in a future version of pandas. Value 'Interstate Highway' has dtype incompatible with float64, please explicitly cast to a compatible dtype first.\n",
      "  cdot_old_converted_pdf.loc[cdot_old_converted_pdf[new_column] == 'Interstate'] = 'Interstate Highway'\n"
     ]
    }
   ],
   "source": [
    "# Convert SYSTEM (old column) to System Code (new column)\n",
    "old_column = 'SYSTEM'\n",
    "new_column = 'System Code'\n",
    "\n",
    "print(f\"Old format {old_column}\", cdot_old_pdf[old_column].unique())\n",
    "print(f\"New format {new_column}\", cdot_new_pdf[new_column].unique())\n",
    "\n",
    "cdot_old_converted_pdf[new_column] = cdot_old_pdf[old_column].str.lower().str.title()\n",
    "cdot_old_converted_pdf.loc[cdot_old_converted_pdf[new_column] == 'Interstate'] = 'Interstate Highway'\n",
    "print(f\"Old converted format {new_column}\", cdot_old_converted_pdf[new_column].unique())\n",
    "\n",
    "print('Do formats match:', set(cdot_old_converted_pdf[new_column].unique()) == set(cdot_new_pdf[new_column].unique()))"
   ]
  },
  {
   "cell_type": "code",
   "execution_count": 75,
   "id": "0b9c0cac-893b-49ec-82cf-132cb3cf88a9",
   "metadata": {},
   "outputs": [],
   "source": [
    "# SEE SCRATCH PAD FOR SOLUTION - Rd_Number, City_Street, Rd_Section \n",
    "\n",
    "# REVISIT **** - RTE, SEC, MP -- Rd_Number and Rd_Section \n",
    "# Convert RTE (old column) to Rd_Number (new column)\n",
    "\n",
    "old_column = 'SEC'\n",
    "new_column = 'Rd_Section'\n",
    "\n",
    "#print(f\"Old format SEC\", cdot_old_pdf[\"SEC\"].unique())\n",
    "#print(f\"Old format RTE\", cdot_old_pdf[\"RTE\"].unique())\n",
    "#print(f\"Old format MP\", cdot_old_pdf[\"MP\"].unique())\n",
    "\n",
    "#print(f\"New format Rd_Number\", cdot_new_pdf[\"Rd_Number\"].unique())\n",
    "#print(f\"New format Rd_Number\", cdot_new_pdf[\"Rd_Section\"].unique())\n",
    "\n",
    "#cdot_old_converted_pdf[new_column] = cdot_old_pdf[old_column]\n",
    "#print(f\"Old converted format {new_column}\", cdot_old_converted_pdf[new_column].unique())"
   ]
  },
  {
   "cell_type": "code",
   "execution_count": 12,
   "id": "c9369611-d588-4752-801e-d5499de88854",
   "metadata": {},
   "outputs": [
    {
     "name": "stdout",
     "output_type": "stream",
     "text": [
      "Old format DATE <DatetimeArray>\n",
      "['2007-01-01 00:00:00', '2007-01-02 00:00:00', '2007-01-03 00:00:00',\n",
      " '2007-01-04 00:00:00', '2007-01-05 00:00:00', '2007-01-06 00:00:00',\n",
      " '2007-01-07 00:00:00', '2007-01-08 00:00:00', '2007-01-09 00:00:00',\n",
      " '2007-01-10 00:00:00',\n",
      " ...\n",
      " '2007-12-22 00:00:00', '2007-12-23 00:00:00', '2007-12-24 00:00:00',\n",
      " '2007-12-25 00:00:00', '2007-12-26 00:00:00', '2007-12-27 00:00:00',\n",
      " '2007-12-28 00:00:00', '2007-12-29 00:00:00', '2007-12-30 00:00:00',\n",
      " '2007-12-31 00:00:00']\n",
      "Length: 365, dtype: datetime64[ns]\n",
      "New format Crash Date <DatetimeArray>\n",
      "['2023-01-01 00:00:00', '2023-01-02 00:00:00', '2023-01-03 00:00:00',\n",
      " '2023-01-04 00:00:00', '2023-01-05 00:00:00', '2023-01-06 00:00:00',\n",
      " '2023-01-07 00:00:00', '2023-01-08 00:00:00', '2023-01-09 00:00:00',\n",
      " '2023-01-10 00:00:00',\n",
      " ...\n",
      " '2023-12-22 00:00:00', '2023-12-23 00:00:00', '2023-12-24 00:00:00',\n",
      " '2023-12-25 00:00:00', '2023-12-26 00:00:00', '2023-12-27 00:00:00',\n",
      " '2023-12-28 00:00:00', '2023-12-29 00:00:00', '2023-12-30 00:00:00',\n",
      " '2023-12-31 00:00:00']\n",
      "Length: 365, dtype: datetime64[ns]\n",
      "Old converted format Crash Date <DatetimeArray>\n",
      "['2007-01-01 00:00:00', '2007-01-02 00:00:00', '2007-01-03 00:00:00',\n",
      " '2007-01-04 00:00:00', '2007-01-05 00:00:00', '2007-01-06 00:00:00',\n",
      " '2007-01-07 00:00:00', '2007-01-08 00:00:00', '2007-01-09 00:00:00',\n",
      " '2007-01-10 00:00:00',\n",
      " ...\n",
      " '2007-12-22 00:00:00', '2007-12-23 00:00:00', '2007-12-24 00:00:00',\n",
      " '2007-12-25 00:00:00', '2007-12-26 00:00:00', '2007-12-27 00:00:00',\n",
      " '2007-12-28 00:00:00', '2007-12-29 00:00:00', '2007-12-30 00:00:00',\n",
      " '2007-12-31 00:00:00']\n",
      "Length: 365, dtype: datetime64[ns]\n"
     ]
    }
   ],
   "source": [
    "# Convert DATE (old column) to Crash Date (new column)\n",
    "# rename column \n",
    "old_column = 'DATE'\n",
    "new_column = 'Crash Date'\n",
    "\n",
    "print(f\"Old format {old_column}\", cdot_old_pdf[old_column].unique())\n",
    "print(f\"New format {new_column}\", cdot_new_pdf[new_column].unique())\n",
    "\n",
    "cdot_old_converted_pdf[new_column] = cdot_old_pdf[old_column]\n",
    "print(f\"Old converted format {new_column}\", cdot_old_converted_pdf[new_column].unique())"
   ]
  },
  {
   "cell_type": "code",
   "execution_count": 13,
   "id": "602d9d8d-5a8b-4d29-b527-e8daa3953f99",
   "metadata": {},
   "outputs": [
    {
     "name": "stdout",
     "output_type": "stream",
     "text": [
      "Old format TIME [0.000e+00 2.000e+00 1.000e+01 ... 2.339e+03 5.020e+02 3.460e+02]\n",
      "Old format TIME 0.0\n",
      "Old format TIME 2400.0\n"
     ]
    },
    {
     "data": {
      "text/plain": [
       "0         0.0\n",
       "1         0.0\n",
       "2         0.0\n",
       "3         2.0\n",
       "4        10.0\n",
       "        ...  \n",
       "195    2144.0\n",
       "196    2152.0\n",
       "197    2200.0\n",
       "198    2235.0\n",
       "199    2240.0\n",
       "Name: TIME, Length: 200, dtype: float64"
      ]
     },
     "metadata": {},
     "output_type": "display_data"
    },
    {
     "name": "stdout",
     "output_type": "stream",
     "text": [
      "New format Crash Time ['00:00:00' '00:03:00' '00:09:00' ... '05:59:00' '00:36:00' '03:34:00']\n"
     ]
    },
    {
     "data": {
      "text/plain": [
       "0      00:00:00\n",
       "1      00:03:00\n",
       "2      00:09:00\n",
       "3      00:16:00\n",
       "4      00:34:00\n",
       "         ...   \n",
       "195    03:45:00\n",
       "196    03:45:00\n",
       "197    03:49:00\n",
       "198    03:53:00\n",
       "199    03:55:00\n",
       "Name: Crash Time, Length: 200, dtype: object"
      ]
     },
     "metadata": {},
     "output_type": "display_data"
    }
   ],
   "source": [
    "# Convert TIME (old column) to Crash Time (new column)\n",
    "# TODO - convert float HHMM.SS to string HH:MM:SS\n",
    "old_column = 'TIME'\n",
    "new_column = 'Crash Time'\n",
    "\n",
    "print(f\"Old format {old_column}\", cdot_old_pdf[old_column].unique())\n",
    "print(f\"Old format {old_column}\", cdot_old_pdf[old_column].min())\n",
    "print(f\"Old format {old_column}\", cdot_old_pdf[old_column].max())\n",
    "display(cdot_old_pdf[old_column].head(200))\n",
    "print(f\"New format {new_column}\", cdot_new_pdf[new_column].unique())\n",
    "display(cdot_new_pdf[new_column].head(200))\n",
    "\n",
    "#cdot_old_converted_pdf[new_column] = cdot_old_pdf[old_column]\n",
    "#print(f\"Old converted format {new_column}\", cdot_old_converted_pdf[new_column].unique())"
   ]
  },
  {
   "cell_type": "raw",
   "id": "f7daae91-c734-4944-ad47-d21bd9cf0787",
   "metadata": {},
   "source": [
    "# Convert AGENCYNAME (old column) to Agency Id (new column)\n",
    "# rename column\n",
    "old_column = 'AGENCYNAME'\n",
    "new_column = 'Agency Id'\n",
    "\n",
    "print(f\"Old format {old_column}\", cdot_old_pdf[old_column].unique())\n",
    "print(f\"New format {new_column}\", cdot_new_pdf[new_column].unique())\n",
    "\n",
    "cdot_old_converted_pdf[new_column] = cdot_old_pdf[old_column]\n",
    "print(f\"Old converted format {new_column}\", cdot_old_converted_pdf[new_column].unique())\n",
    "\n",
    "print('Do formats match:', set(cdot_old_converted_pdf[new_column].unique()).intersect(set(cdot_new_pdf[new_column].unique())))"
   ]
  },
  {
   "cell_type": "code",
   "execution_count": 15,
   "id": "2f3108e8-5c17-46e1-ac73-b34a4bc88231",
   "metadata": {},
   "outputs": [
    {
     "name": "stdout",
     "output_type": "stream",
     "text": [
      "Old format CITY ['FORT COLLINS' 'PARKER' 'DENVER' nan 'AURORA' 'PUEBLO' 'SHERIDAN'\n",
      " 'GREENWOOD VILLAGE' 'COMMERCE CITY' 'NORTHGLENN' 'LONGMONT'\n",
      " 'CENTRAL CITY' 'LAKEWOOD' 'COLORADO SPRINGS' 'FORT MORGAN' 'LIMON'\n",
      " 'WESTCLIFFE' 'HARTSEL' 'EVANS' 'MANITOU SPRINGS' 'BOULDER' 'CASTLE ROCK'\n",
      " 'BROOMFIELD' 'ENGLEWOOD' 'DURANGO' 'ARVADA' 'FEDERAL HEIGHTS'\n",
      " 'BRECKENRIDGE' 'LITTLETON' 'GOLDEN' 'BRIGHTON' 'GEORGETOWN' 'THORNTON'\n",
      " 'ASPEN' 'PENROSE' 'WOODLAND PARK' 'RIFLE' 'WESTMINSTER' 'FOXFIELD'\n",
      " 'GRAND JUNCTION' 'ALAMOSA' 'FOUNTAIN' 'CORTEZ' 'LONE TREE' 'NEW CASTLE'\n",
      " 'EATON' 'BUENA VISTA' 'GLENWOOD SPRINGS' 'BRUSH' 'LAFAYETTE'\n",
      " 'WHEAT RIDGE' 'MONTROSE' 'WINDSOR' 'IDAHO SPRINGS' 'SILVERTHORNE'\n",
      " 'GUNNISON' 'CENTENNIAL' 'CRAIG' 'LA JUNTA' 'MONUMENT' 'GREELEY'\n",
      " 'GLENDALE' 'CARBONDALE' 'TRINIDAD' 'LAKESIDE' 'BASALT' 'CEDAREDGE'\n",
      " 'LOVELAND' 'SUPERIOR' 'ESTES PARK' 'FRUITA' 'LOUISVILLE' 'STERLING'\n",
      " 'TELLURIDE' 'KERSEY' 'CANON CITY' 'MEAD' 'NIWOT' 'FORT LUPTON' 'WRAY'\n",
      " 'BENNETT' 'AULT' 'VAIL' 'SPRINGFIELD' 'SALIDA' 'GRANBY' 'IGNACIO' 'AVON'\n",
      " 'STRATTON' 'LAMAR' 'PAGOSA SPRINGS' 'STEAMBOAT SPRINGS' 'ERIE' 'MEEKER'\n",
      " 'BAYFIELD' 'JOHNSTOWN' 'WALDEN' 'BERTHOUD' 'PLATTEVILLE' 'FIRESTONE'\n",
      " 'DELTA' 'BURLINGTON' 'CHERRY HILLS VILLAGE' 'PARACHUTE' 'WINTER PARK'\n",
      " 'EDGEWATER' 'FRISCO' 'FLORENCE' 'GARDEN CITY' 'JEFFERSON' 'DILLON'\n",
      " 'MORRISON' 'ROCKPORT' 'HIGHLANDS RANCH' 'LEADVILLE' 'ELIZABETH'\n",
      " 'MONTE VISTA' 'GYPSUM' 'MILLIKEN' 'ROCKY FORD' 'BOW MAR' 'AUSTIN'\n",
      " 'CRIPPLE CREEK' 'MANCOS' 'BLACK HAWK' 'CORY' 'YUMA' 'SILT' 'FREDERICK'\n",
      " 'BYERS' 'HOLYOKE' 'JULESBURG' 'HOLLY' 'EDWARDS' 'ELBERT' 'GILL'\n",
      " 'PALMER LAKE' 'KIOWA' 'DEL NORTE' 'PUEBLO WEST' 'FOWLER' 'MERINO'\n",
      " 'SNOWMASS VILLAGE' 'BLUE RIVER' 'HOT SULPHUR SPRINGS' 'CRESTED BUTTE'\n",
      " 'MINTURN' 'GILCREST' 'BEULAH' 'SAGUACHE' 'GREEN MOUNTAIN FALLS'\n",
      " 'COLORADO CITY' 'OURAY' 'HOTCHKISS' 'KIT CARSON' 'WALSENBURG' 'RANGELY'\n",
      " 'LAKE CITY' 'EAGLE' 'BOONE' 'COLUMBINE VALLEY' 'VILAS' 'BAILEY'\n",
      " 'MOUNTAIN VIEW' 'CLIFTON' 'CHEYENNE WELLS' 'LAS ANIMAS' 'LOCHBUIE'\n",
      " 'PALISADE' 'AKRON' 'CENTER' 'WELLINGTON' 'HUDSON' 'COPPER MOUNTAIN'\n",
      " 'VICTOR' 'LARKSPUR' 'SILVERTON' 'DACONO' 'SWINK' 'OVID' 'FAIRPLAY'\n",
      " 'WOODY CREEK' 'EADS' 'ROGGEN' 'GRAND VALLEY (PARACH' 'SEDALIA' 'HILLROSE'\n",
      " 'MANASSA' 'TIMNATH' 'BLANCA' 'FRASER' 'MOUNTAIN VILLAGE' 'RYE' 'WIGGINS'\n",
      " 'HAYDEN' 'MT CRESTED BUTTE' 'FLEMING' 'OLATHE' 'GROVER' 'AVONDALE'\n",
      " 'SEVERANCE' 'LYONS' 'EMPIRE' 'DOLORES' 'FLAGLER' 'LUCERNE' 'ORDWAY'\n",
      " 'ADAMS CITY' 'LOG LANE VILLAGE' 'GRAND LAKE' 'FRUITVALE' 'PAONIA'\n",
      " 'PIERCE' 'LOOKOUT MOUNTAIN' 'CALHAN' 'LA SALLE' 'WETMORE' 'WILD HORSE'\n",
      " 'CREEDE' 'GRANT' 'KEENESBURG' 'RAMAH' 'CAPULIN' 'CARR' 'RICO' 'BELLVUE'\n",
      " 'STRASBURG' 'SIMLA' 'TABERNASH' 'DINOSAUR' 'LAWSON' 'BONDAD' 'GALETON'\n",
      " 'ROLLINSVILLE' 'NUNN' 'DOVE CREEK' 'CROWLEY' 'COLLBRAN' 'FRANKTOWN'\n",
      " 'EL JEBEL' 'PETERSON FIELD' 'SAN LUIS' 'NEW RAYMER' 'SUGAR CITY'\n",
      " 'RIDGWAY' 'BATTLEMENT MESA' 'MANZANOLA' 'CHIPITA PARK' 'EVERGREEN'\n",
      " 'HEREFORD' 'PONCHA SPRINGS' 'BRIGGSDALE' 'MOSCA' 'TOWAOC' 'DEER TRAIL'\n",
      " 'SECURITY' 'NEDERLAND' 'OAK CREEK' 'SILVER PLUME' 'SEIBERT' 'MILNER'\n",
      " 'GARFIELD' 'SOUTH FORK' 'SILVER CLIFF' 'CRESTONE' 'HUGO' 'ECKLEY'\n",
      " 'ATWOOD' 'KIM' 'PROSPECT VALLEY' 'LA JARA' 'VONA' 'KIRK' 'SNOWMASS'\n",
      " 'GRANADA' 'PITKIN' 'CRAWFORD' 'ANTONITO' 'ARBOLES' 'REDSTONE']\n",
      "New format City ['FORT COLLINS' 'DENVER' 'AURORA' 'WESTMINSTER' 'THORNTON' 'PUEBLO' nan\n",
      " 'GRAND JUNCTION' 'GREELEY' 'BROOMFIELD' 'LAKEWOOD' 'COLORADO SPRINGS'\n",
      " 'MANITOU SPRINGS' 'CENTENNIAL' 'FRISCO' 'FOUNTAIN' 'FRASER' 'LOVELAND'\n",
      " 'GOLDEN' 'VAIL' 'DURANGO' 'BRIGHTON' 'CANON CITY' 'TELLURIDE' 'ASPEN'\n",
      " 'PARKER' 'ARVADA' 'MONTE VISTA' 'DILLON' 'LONGMONT' 'EVANS'\n",
      " 'GREENWOOD VILLAGE' 'MOUNTAIN VILLAGE' 'COMMERCE CITY' 'BOULDER'\n",
      " 'NORTHGLENN' 'FORT LUPTON' 'STEAMBOAT SPRINGS' 'WOODLAND PARK'\n",
      " 'SNOWMASS VILLAGE' 'CHERRY HILLS VILLAGE' 'CRESTED BUTTE' 'ENGLEWOOD'\n",
      " 'MEAD' 'BRECKENRIDGE' 'LONE TREE' 'ROCKY FORD' 'ELIZABETH' 'SILVERTHORNE'\n",
      " 'CASTLE ROCK' 'SEVERANCE' 'MONTROSE' 'GLENWOOD SPRINGS' 'FIRESTONE'\n",
      " 'SUPERIOR' 'PLATTEVILLE' 'LAMAR' 'GUNNISON' 'WHEAT RIDGE' 'LAFAYETTE'\n",
      " 'SHERIDAN' 'LAKESIDE' 'AVON' 'FEDERAL HEIGHTS' 'LA SALLE' 'LA JUNTA'\n",
      " 'EMPIRE' 'FREDERICK' 'ALAMOSA' 'BERTHOUD' 'RIFLE' 'LITTLETON'\n",
      " 'PUEBLO WEST' 'LOUISVILLE' 'LOCHBUIE' 'WINDSOR' 'COWDREY' 'BLACK HAWK'\n",
      " 'JOHNSTOWN' 'ERIE' 'BASALT' 'MOUNTAIN VIEW' 'LIMON' 'CORTEZ' 'DELTA'\n",
      " 'CENTRAL CITY' 'GLENDALE' 'BLUE RIVER' 'WALSENBURG' 'FORT MORGAN'\n",
      " 'CARBONDALE' 'TIMNATH' 'EDGEWATER' 'KIOWA' 'BEULAH' 'CRAIG' 'MEEKER'\n",
      " 'DINOSAUR' 'DACONO' 'FOWLER' 'OURAY' 'KERSEY' 'WINTER PARK' 'ESTES PARK'\n",
      " 'GRANBY' 'SALIDA' 'WALDEN' 'MILLIKEN' 'SILT' 'NEW CASTLE' 'MONUMENT'\n",
      " 'PAGOSA SPRINGS' 'LEADVILLE' 'BUENA VISTA' 'IDAHO SPRINGS' 'GYPSUM'\n",
      " 'STERLING' 'PIERCE' 'CONIFER' 'KEENESBURG' 'KREMMLING' 'HUDSON' 'AULT'\n",
      " 'BENNETT' 'BRUSH' 'NUNN' 'EATON' 'DEER TRAIL' 'WIGGINS' 'GARDEN CITY'\n",
      " 'FRUITA' 'DOVE CREEK' 'RIDGWAY' 'NEDERLAND' 'COALMONT' 'IGNACIO'\n",
      " 'EDWARDS' 'OLATHE' 'BRANSON' 'WRAY' 'AKRON' 'YUMA' 'EADS' 'SWINK'\n",
      " 'DIVIDE' 'FOXFIELD' 'HOLYOKE' 'ELBERT' 'CENTER' 'CRIPPLE CREEK'\n",
      " 'BATTLEMENT MESA' 'FLORENCE' 'EVERGREEN' 'AVONDALE' 'BURLINGTON'\n",
      " 'GILCREST' 'SILVERTON' 'COLUMBINE' 'SANFORD' 'HOLLY' 'HAYDEN' 'HOTCHKISS'\n",
      " 'ORCHARD CITY' 'MORRISON' 'MINTURN' 'PARACHUTE' 'DOLORES' 'CRAWFORD'\n",
      " 'FAIRPLAY' 'RYE' 'BAYFIELD' 'LYONS' 'FLORISSANT' 'PALISADE' 'GRAND LAKE'\n",
      " 'RAND' 'KARVAL' 'OAK CREEK' 'GOULD' 'TRINIDAD' 'HARTSEL' 'ARBOLES'\n",
      " 'BOONE' 'CHEYENNE WELLS' 'HENDERSON' 'TWIN LAKES' 'VILAS' 'HAXTUN'\n",
      " 'WELLINGTON' 'JULESBURG' 'CALHAN' 'GREEN MOUNTAIN FALLS' 'OTIS'\n",
      " 'PLEASANT VIEW' 'PENROSE' 'HOT SULPHUR SPRINGS' 'CASTLE PINES'\n",
      " 'COLORADO CITY' 'EAGLE' 'SAGUACHE' 'VICTOR' 'GILL' 'HESPERUS' 'LAKE CITY'\n",
      " 'FLAGLER' 'SILVER PLUME' 'WESTCLIFFE' 'ARAPAHOE' 'TABERNASH' 'LARKSPUR'\n",
      " 'LUCERNE' 'MANCOS' 'WOODY CREEK' 'BAILEY' 'PAONIA' 'KEYSTONE'\n",
      " 'NEW RAYMER' 'MERINO' 'HUGO' 'COPPER MOUNTAIN' 'ALMA' 'SAN LUIS'\n",
      " 'FORT CARSON' 'RAYMER' 'COLLBRAN' 'BLANCA' 'STRASBURG' 'WOLCOTT' 'WELBY'\n",
      " 'DERBY' 'PONCHA SPRINGS' 'DUPONT' 'SAW PIT' 'STRATTON' 'SILVER CLIFF'\n",
      " 'BROOKSIDE' 'BRIGGSDALE' 'BUCKINGHAM' 'SPRINGFIELD' 'BERGEN PARK' 'RICO'\n",
      " 'ANTONITO' 'CLIFTON' 'NATURITA' 'LAKE GEORGE' 'CAHONE' 'LAS ANIMAS'\n",
      " 'PEYTON' 'EVANSTON']\n",
      "Old converted format City ['FORT COLLINS' 'PARKER' 'DENVER' nan 'AURORA' 'PUEBLO' 'SHERIDAN'\n",
      " 'GREENWOOD VILLAGE' 'COMMERCE CITY' 'NORTHGLENN' 'LONGMONT'\n",
      " 'CENTRAL CITY' 'LAKEWOOD' 'COLORADO SPRINGS' 'FORT MORGAN' 'LIMON'\n",
      " 'WESTCLIFFE' 'HARTSEL' 'EVANS' 'MANITOU SPRINGS' 'BOULDER' 'CASTLE ROCK'\n",
      " 'BROOMFIELD' 'ENGLEWOOD' 'DURANGO' 'ARVADA' 'FEDERAL HEIGHTS'\n",
      " 'BRECKENRIDGE' 'LITTLETON' 'GOLDEN' 'BRIGHTON' 'GEORGETOWN' 'THORNTON'\n",
      " 'ASPEN' 'PENROSE' 'WOODLAND PARK' 'RIFLE' 'WESTMINSTER' 'FOXFIELD'\n",
      " 'GRAND JUNCTION' 'ALAMOSA' 'FOUNTAIN' 'CORTEZ' 'LONE TREE' 'NEW CASTLE'\n",
      " 'EATON' 'BUENA VISTA' 'GLENWOOD SPRINGS' 'BRUSH' 'LAFAYETTE'\n",
      " 'WHEAT RIDGE' 'MONTROSE' 'WINDSOR' 'IDAHO SPRINGS' 'SILVERTHORNE'\n",
      " 'GUNNISON' 'CENTENNIAL' 'CRAIG' 'LA JUNTA' 'MONUMENT' 'GREELEY'\n",
      " 'GLENDALE' 'CARBONDALE' 'TRINIDAD' 'LAKESIDE' 'BASALT' 'CEDAREDGE'\n",
      " 'LOVELAND' 'SUPERIOR' 'ESTES PARK' 'FRUITA' 'LOUISVILLE' 'STERLING'\n",
      " 'TELLURIDE' 'KERSEY' 'CANON CITY' 'MEAD' 'NIWOT' 'FORT LUPTON' 'WRAY'\n",
      " 'BENNETT' 'AULT' 'VAIL' 'SPRINGFIELD' 'SALIDA' 'GRANBY' 'IGNACIO' 'AVON'\n",
      " 'STRATTON' 'LAMAR' 'PAGOSA SPRINGS' 'STEAMBOAT SPRINGS' 'ERIE' 'MEEKER'\n",
      " 'BAYFIELD' 'JOHNSTOWN' 'WALDEN' 'BERTHOUD' 'PLATTEVILLE' 'FIRESTONE'\n",
      " 'DELTA' 'BURLINGTON' 'CHERRY HILLS VILLAGE' 'PARACHUTE' 'WINTER PARK'\n",
      " 'EDGEWATER' 'FRISCO' 'FLORENCE' 'GARDEN CITY' 'JEFFERSON' 'DILLON'\n",
      " 'MORRISON' 'ROCKPORT' 'HIGHLANDS RANCH' 'LEADVILLE' 'ELIZABETH'\n",
      " 'MONTE VISTA' 'GYPSUM' 'MILLIKEN' 'ROCKY FORD' 'BOW MAR' 'AUSTIN'\n",
      " 'CRIPPLE CREEK' 'MANCOS' 'BLACK HAWK' 'CORY' 'YUMA' 'SILT' 'FREDERICK'\n",
      " 'BYERS' 'HOLYOKE' 'JULESBURG' 'HOLLY' 'EDWARDS' 'ELBERT' 'GILL'\n",
      " 'PALMER LAKE' 'KIOWA' 'DEL NORTE' 'PUEBLO WEST' 'FOWLER' 'MERINO'\n",
      " 'SNOWMASS VILLAGE' 'BLUE RIVER' 'HOT SULPHUR SPRINGS' 'CRESTED BUTTE'\n",
      " 'MINTURN' 'GILCREST' 'BEULAH' 'SAGUACHE' 'GREEN MOUNTAIN FALLS'\n",
      " 'COLORADO CITY' 'OURAY' 'HOTCHKISS' 'KIT CARSON' 'WALSENBURG' 'RANGELY'\n",
      " 'LAKE CITY' 'EAGLE' 'BOONE' 'COLUMBINE VALLEY' 'VILAS' 'BAILEY'\n",
      " 'MOUNTAIN VIEW' 'CLIFTON' 'CHEYENNE WELLS' 'LAS ANIMAS' 'LOCHBUIE'\n",
      " 'PALISADE' 'AKRON' 'CENTER' 'WELLINGTON' 'HUDSON' 'COPPER MOUNTAIN'\n",
      " 'VICTOR' 'LARKSPUR' 'SILVERTON' 'DACONO' 'SWINK' 'OVID' 'FAIRPLAY'\n",
      " 'WOODY CREEK' 'EADS' 'ROGGEN' 'GRAND VALLEY (PARACH' 'SEDALIA' 'HILLROSE'\n",
      " 'MANASSA' 'TIMNATH' 'BLANCA' 'FRASER' 'MOUNTAIN VILLAGE' 'RYE' 'WIGGINS'\n",
      " 'HAYDEN' 'MT CRESTED BUTTE' 'FLEMING' 'OLATHE' 'GROVER' 'AVONDALE'\n",
      " 'SEVERANCE' 'LYONS' 'EMPIRE' 'DOLORES' 'FLAGLER' 'LUCERNE' 'ORDWAY'\n",
      " 'ADAMS CITY' 'LOG LANE VILLAGE' 'GRAND LAKE' 'FRUITVALE' 'PAONIA'\n",
      " 'PIERCE' 'LOOKOUT MOUNTAIN' 'CALHAN' 'LA SALLE' 'WETMORE' 'WILD HORSE'\n",
      " 'CREEDE' 'GRANT' 'KEENESBURG' 'RAMAH' 'CAPULIN' 'CARR' 'RICO' 'BELLVUE'\n",
      " 'STRASBURG' 'SIMLA' 'TABERNASH' 'DINOSAUR' 'LAWSON' 'BONDAD' 'GALETON'\n",
      " 'ROLLINSVILLE' 'NUNN' 'DOVE CREEK' 'CROWLEY' 'COLLBRAN' 'FRANKTOWN'\n",
      " 'EL JEBEL' 'PETERSON FIELD' 'SAN LUIS' 'NEW RAYMER' 'SUGAR CITY'\n",
      " 'RIDGWAY' 'BATTLEMENT MESA' 'MANZANOLA' 'CHIPITA PARK' 'EVERGREEN'\n",
      " 'HEREFORD' 'PONCHA SPRINGS' 'BRIGGSDALE' 'MOSCA' 'TOWAOC' 'DEER TRAIL'\n",
      " 'SECURITY' 'NEDERLAND' 'OAK CREEK' 'SILVER PLUME' 'SEIBERT' 'MILNER'\n",
      " 'GARFIELD' 'SOUTH FORK' 'SILVER CLIFF' 'CRESTONE' 'HUGO' 'ECKLEY'\n",
      " 'ATWOOD' 'KIM' 'PROSPECT VALLEY' 'LA JARA' 'VONA' 'KIRK' 'SNOWMASS'\n",
      " 'GRANADA' 'PITKIN' 'CRAWFORD' 'ANTONITO' 'ARBOLES' 'REDSTONE']\n"
     ]
    }
   ],
   "source": [
    "# Convert CITY (old column) to City (new column)\n",
    "# rename column\n",
    "old_column = 'CITY'\n",
    "new_column = 'City'\n",
    "\n",
    "print(f\"Old format {old_column}\", cdot_old_pdf[old_column].unique())\n",
    "print(f\"New format {new_column}\", cdot_new_pdf[new_column].unique())\n",
    "\n",
    "cdot_old_converted_pdf[new_column] = cdot_old_pdf[old_column]\n",
    "print(f\"Old converted format {new_column}\", cdot_old_converted_pdf[new_column].unique())"
   ]
  },
  {
   "cell_type": "code",
   "execution_count": 16,
   "id": "7a4eb058-4f7e-425a-8a4e-9d0fbcac16f2",
   "metadata": {},
   "outputs": [
    {
     "name": "stdout",
     "output_type": "stream",
     "text": [
      "Old format COUNTY ['LARIMER' 'DOUGLAS' 'DENVER' 'LINCOLN' 'ARAPAHOE' 'PUEBLO' 'BOULDER'\n",
      " 'SUMMIT' 'ELBERT' 'ADAMS' 'GRAND' 'GILPIN' 'JEFFERSON' 'EL PASO' 'LOGAN'\n",
      " 'MORGAN' 'PARK' 'CUSTER' 'WELD' 'LAS ANIMAS' 'CLEAR CREEK' 'SAN MIGUEL'\n",
      " 'BROOMFIELD' 'MOFFAT' 'PITKIN' 'GARFIELD' 'LA PLATA' 'COSTILLA' 'CHAFFEE'\n",
      " 'MESA' 'FREMONT' 'GUNNISON' 'TELLER' 'ALAMOSA' 'MONTEZUMA' 'ARCHULETA'\n",
      " 'MONTROSE' 'PHILLIPS' 'PROWERS' 'RIO BLANCO' 'RIO GRANDE' 'OTERO' 'KIOWA'\n",
      " 'EAGLE' 'DELTA' 'CHEYENNE' 'ROUTT' 'YUMA' 'BACA' 'JACKSON' 'HUERFANO'\n",
      " 'KIT CARSON' 'OURAY' 'WASHINGTON' 'SEDGWICK' 'CONEJOS' 'CROWLEY'\n",
      " 'DOLORES' 'LAKE' 'SAGUACHE' 'SAN JUAN' 'BENT' 'HINSDALE' 'MINERAL']\n",
      "New format County ['LARIMER' 'DENVER' 'ARAPAHOE' 'JEFFERSON' 'ADAMS' 'PUEBLO' 'DOUGLAS'\n",
      " 'MESA' 'BROOMFIELD' 'ARCHULETA' 'EL PASO' 'PITKIN' 'PARK' 'LINCOLN'\n",
      " 'BOULDER' 'SUMMIT' 'PHILLIPS' 'GRAND' 'MORGAN' 'GARFIELD' 'GUNNISON'\n",
      " 'EAGLE' 'LA PLATA' 'FREMONT' 'SAN MIGUEL' 'CUSTER' 'CLEAR CREEK'\n",
      " 'CHAFFEE' 'WELD' 'MINERAL' 'PROWERS' 'RIO GRANDE' 'CONEJOS' 'ROUTT'\n",
      " 'ALAMOSA' 'OTERO' 'TELLER' 'MOFFAT' 'RIO BLANCO' 'LOGAN' 'SEDGWICK'\n",
      " 'DELTA' 'ELBERT' 'LAS ANIMAS' 'MONTEZUMA' 'CROWLEY' 'MONTROSE' 'DOLORES'\n",
      " 'BACA' 'KIT CARSON' 'BENT' 'KIOWA' 'YUMA' 'SAGUACHE' 'LAKE' 'HUERFANO'\n",
      " 'JACKSON' 'GILPIN' 'WASHINGTON' 'OURAY' 'COSTILLA' 'CHEYENNE' 'SAN JUAN'\n",
      " 'HINSDALE']\n",
      "Old converted format County ['LARIMER' 'DOUGLAS' 'DENVER' 'LINCOLN' 'ARAPAHOE' 'PUEBLO' 'BOULDER'\n",
      " 'SUMMIT' 'ELBERT' 'ADAMS' 'GRAND' 'GILPIN' 'JEFFERSON' 'EL PASO' 'LOGAN'\n",
      " 'MORGAN' 'PARK' 'CUSTER' 'WELD' 'LAS ANIMAS' 'CLEAR CREEK' 'SAN MIGUEL'\n",
      " 'BROOMFIELD' 'MOFFAT' 'PITKIN' 'GARFIELD' 'LA PLATA' 'COSTILLA' 'CHAFFEE'\n",
      " 'MESA' 'FREMONT' 'GUNNISON' 'TELLER' 'ALAMOSA' 'MONTEZUMA' 'ARCHULETA'\n",
      " 'MONTROSE' 'PHILLIPS' 'PROWERS' 'RIO BLANCO' 'RIO GRANDE' 'OTERO' 'KIOWA'\n",
      " 'EAGLE' 'DELTA' 'CHEYENNE' 'ROUTT' 'YUMA' 'BACA' 'JACKSON' 'HUERFANO'\n",
      " 'KIT CARSON' 'OURAY' 'WASHINGTON' 'SEDGWICK' 'CONEJOS' 'CROWLEY'\n",
      " 'DOLORES' 'LAKE' 'SAGUACHE' 'SAN JUAN' 'BENT' 'HINSDALE' 'MINERAL']\n"
     ]
    }
   ],
   "source": [
    "# Convert COUNTY (old column) to County (new column)\n",
    "# rename column\n",
    "old_column = 'COUNTY'\n",
    "new_column = 'County'\n",
    "\n",
    "print(f\"Old format {old_column}\", cdot_old_pdf[old_column].unique())\n",
    "print(f\"New format {new_column}\", cdot_new_pdf[new_column].unique())\n",
    "\n",
    "cdot_old_converted_pdf[new_column] = cdot_old_pdf[old_column]\n",
    "print(f\"Old converted format {new_column}\", cdot_old_converted_pdf[new_column].unique())"
   ]
  },
  {
   "cell_type": "code",
   "execution_count": 17,
   "id": "24f87b5d-2fbb-41d2-aa06-6312a87e99a3",
   "metadata": {},
   "outputs": [
    {
     "name": "stdout",
     "output_type": "stream",
     "text": [
      "Old format LATITUDE [40.55955 39.51831 39.66372 ... 39.65105 40.41175 39.55904]\n",
      "New format Latitude [40.54381  40.52337  39.71325  ... 39.710864 39.50129  38.23826 ]\n",
      "Old converted format Latitude [40.55955 39.51831 39.66372 ... 39.65105 40.41175 39.55904]\n"
     ]
    }
   ],
   "source": [
    "# Convert LATITUDE (old column) to Latitude (new column)\n",
    "# rename column\n",
    "old_column = 'LATITUDE'\n",
    "new_column = 'Latitude'\n",
    "\n",
    "print(f\"Old format {old_column}\", cdot_old_pdf[old_column].unique())\n",
    "print(f\"New format {new_column}\", cdot_new_pdf[new_column].unique())\n",
    "\n",
    "cdot_old_converted_pdf[new_column] = cdot_old_pdf[old_column]\n",
    "print(f\"Old converted format {new_column}\", cdot_old_converted_pdf[new_column].unique())"
   ]
  },
  {
   "cell_type": "code",
   "execution_count": 18,
   "id": "30d54518-46df-40c2-9148-493c38ca29f6",
   "metadata": {},
   "outputs": [
    {
     "name": "stdout",
     "output_type": "stream",
     "text": [
      "Old format LONGITUDE [-105.045929 -104.77487  -105.07538  ... -105.41616  -104.69996\n",
      " -104.89664 ]\n",
      "New format Longitude [-105.03712  -105.03935  -104.99941  ... -104.982855 -104.72995\n",
      " -104.67453 ]\n",
      "Old converted format Longitude [-105.045929 -104.77487  -105.07538  ... -105.41616  -104.69996\n",
      " -104.89664 ]\n"
     ]
    }
   ],
   "source": [
    "# Convert LONGITUDE (old column) to Longitude (new column)\n",
    "# rename column\n",
    "old_column = 'LONGITUDE'\n",
    "new_column = 'Longitude'\n",
    "\n",
    "print(f\"Old format {old_column}\", cdot_old_pdf[old_column].unique())\n",
    "print(f\"New format {new_column}\", cdot_new_pdf[new_column].unique())\n",
    "\n",
    "cdot_old_converted_pdf[new_column] = cdot_old_pdf[old_column]\n",
    "print(f\"Old converted format {new_column}\", cdot_old_converted_pdf[new_column].unique())"
   ]
  },
  {
   "cell_type": "code",
   "execution_count": 19,
   "id": "1f19d844-eea9-4f3c-bfb7-a5f645efe21c",
   "metadata": {},
   "outputs": [
    {
     "name": "stdout",
     "output_type": "stream",
     "text": [
      "Old format LOC_01 ['1720 KIRKWOOD DR' 'MAIN ST' 'SAULSBURY ST' ... 'VAN BUREN AVE'\n",
      " '1ST ST 508' 'WITTER GULCH RD']\n",
      "New format Location 1 ['VERMONT DR' 'E HARMONY RD' 'S KALAMATH ST' ... '118 W ORMAN AVE'\n",
      " 'S BOULEVARD ST' '1609 KINGSROYAL']\n",
      "Old converted format Location 1 ['1720 KIRKWOOD DR' 'MAIN ST' 'SAULSBURY ST' ... 'VAN BUREN AVE'\n",
      " '1ST ST 508' 'WITTER GULCH RD']\n"
     ]
    }
   ],
   "source": [
    "# Convert LOC1 (old column) to Location 1 (new column)\n",
    "# rename column\n",
    "old_column = 'LOC_01'\n",
    "new_column = 'Location 1'\n",
    "\n",
    "print(f\"Old format {old_column}\", cdot_old_pdf[old_column].unique())\n",
    "print(f\"New format {new_column}\", cdot_new_pdf[new_column].unique())\n",
    "\n",
    "cdot_old_converted_pdf[new_column] = cdot_old_pdf[old_column]\n",
    "print(f\"Old converted format {new_column}\", cdot_old_converted_pdf[new_column].unique())"
   ]
  },
  {
   "cell_type": "code",
   "execution_count": 20,
   "id": "b2669e31-f6e6-434b-a092-9a419c60db57",
   "metadata": {},
   "outputs": [
    {
     "name": "stdout",
     "output_type": "stream",
     "text": [
      "Old format LINK ['AT' '00.50ME' '00374FN' ... '00.23MNE' '01171FE' '00382FS']\n",
      "New format Link ['AT' '00200FN' '00050FW' ... '04267FN' '01663FW' '00230FNE']\n",
      "Old converted format Link ['AT' '00.50ME' '00374FN' ... '00.23MNE' '01171FE' '00382FS']\n"
     ]
    }
   ],
   "source": [
    "# Convert LINK (old column) to Link (new column)\n",
    "# rename column\n",
    "old_column = 'LINK'\n",
    "new_column = 'Link'\n",
    "\n",
    "print(f\"Old format {old_column}\", cdot_old_pdf[old_column].unique())\n",
    "print(f\"New format {new_column}\", cdot_new_pdf[new_column].unique())\n",
    "\n",
    "cdot_old_converted_pdf[new_column] = cdot_old_pdf[old_column]\n",
    "print(f\"Old converted format {new_column}\", cdot_old_converted_pdf[new_column].unique())"
   ]
  },
  {
   "cell_type": "code",
   "execution_count": 21,
   "id": "79fee880-4050-4747-9012-3dcdc15ee830",
   "metadata": {},
   "outputs": [
    {
     "name": "stdout",
     "output_type": "stream",
     "text": [
      "Old format LOC_02 ['1700 BLK' 'TWENTY MILE RD' '2803 S' ... 'STAGECOACH' 'MM174'\n",
      " 'SCORPIO DR']\n",
      "New format Location 2 ['2212 BLK' 'S TIMBERLINE RD' 'W CEDAR AVE' ... 'MM 1.904' '3722 BLK'\n",
      " 'ARCH WAY']\n",
      "Old converted format Location 2 ['1700 BLK' 'TWENTY MILE RD' '2803 S' ... 'STAGECOACH' 'MM174'\n",
      " 'SCORPIO DR']\n"
     ]
    }
   ],
   "source": [
    "# Convert LOC_02 (old column) to Location 2 (new column)\n",
    "# rename column\n",
    "old_column = 'LOC_02'\n",
    "new_column = 'Location 2'\n",
    "\n",
    "print(f\"Old format {old_column}\", cdot_old_pdf[old_column].unique())\n",
    "print(f\"New format {new_column}\", cdot_new_pdf[new_column].unique())\n",
    "\n",
    "cdot_old_converted_pdf[new_column] = cdot_old_pdf[old_column]\n",
    "print(f\"Old converted format {new_column}\", cdot_old_converted_pdf[new_column].unique())"
   ]
  },
  {
   "cell_type": "code",
   "execution_count": 22,
   "id": "05b88187-892b-4e4a-ab24-2a0321efe001",
   "metadata": {},
   "outputs": [
    {
     "name": "stdout",
     "output_type": "stream",
     "text": [
      "Old format LOCATION ['ON' 'OFF LEFT' 'OFF RIGHT' 'OFF AT TEE' 'UNKNOWN' 'OFF IN MEDIAN']\n",
      "New format Location ['On Roadway' 'Ran off right side' 'Ran off left side'\n",
      " 'Vehicle crossed center median into opposing lanes'\n",
      " 'Center median/ Island' 'Ran off \"T\" intersection']\n"
     ]
    }
   ],
   "source": [
    "# Convert LOCATION (old column) to Location (new column)\n",
    "# TODO - CONVERT EQUIVALENT WORDS\n",
    "old_column = 'LOCATION'\n",
    "new_column = 'Location'\n",
    "\n",
    "print(f\"Old format {old_column}\", cdot_old_pdf[old_column].unique())\n",
    "print(f\"New format {new_column}\", cdot_new_pdf[new_column].unique())\n",
    "\n",
    "#cdot_old_converted_pdf[new_column] = cdot_old_pdf[old_column]\n",
    "#print(f\"Old converted format {new_column}\", cdot_old_converted_pdf[new_column].unique())"
   ]
  },
  {
   "cell_type": "code",
   "execution_count": 23,
   "id": "5fda9334-fc44-4902-a599-ee57d582cec3",
   "metadata": {},
   "outputs": [
    {
     "name": "stdout",
     "output_type": "stream",
     "text": [
      "Old format ROAD_DESC ['NON-INTERSECTION' 'AT INTERSECTION' 'INTERSECTION RELATED' 'PARKING LOT'\n",
      " 'AT DRIVEWAY ACCESS' 'ROUNDABOUT' 'RAMP' 'IN ALLEY' 'UNKNOWN']\n",
      "New format Road Description ['Non-Intersection' 'At Intersection' 'Intersection Related'\n",
      " 'Ramp-related' 'Ramp' 'Driveway Access Related' 'Crossover-Related '\n",
      " 'Roundabout' 'Railroad Crossing Related' 'Express/Managed/HOV Lane'\n",
      " 'Alley Related' 'Shared-Use Path or Trail' 'Auxiliary Lane'\n",
      " 'Mid-Block Crosswalk' nan 'Parking Lot']\n"
     ]
    }
   ],
   "source": [
    "# Convert ROAD_DESC (old column) to Road Description (new column)\n",
    "# TODO - CONVERT EQUIVALENT WORDS\n",
    "old_column = 'ROAD_DESC'\n",
    "new_column = 'Road Description'\n",
    "\n",
    "print(f\"Old format {old_column}\", cdot_old_pdf[old_column].unique())\n",
    "print(f\"New format {new_column}\", cdot_new_pdf[new_column].unique())\n",
    "\n",
    "#cdot_old_converted_pdf[new_column] = cdot_old_pdf[old_column]\n",
    "#print(f\"Old converted format {new_column}\", cdot_old_converted_pdf[new_column].unique())"
   ]
  },
  {
   "cell_type": "code",
   "execution_count": 24,
   "id": "6c68c4dc-63df-41aa-8700-c113935610f1",
   "metadata": {},
   "outputs": [
    {
     "name": "stdout",
     "output_type": "stream",
     "text": [
      "Old format EVENT_1 ['HEAD-ON' 'GUARD RAIL' 'PARKED MOTOR VEHICLE' 'REAR-END' 'BROADSIDE'\n",
      " 'WILD ANIMAL' 'DELINEATOR POST' 'LIGHT/UTILITY POLE'\n",
      " 'SIDESWIPE (SAME DIRECTION)' 'OVERTURNING' 'CONCRETE BARRIER'\n",
      " 'PEDESTRIAN' 'INVOLVING OTHER OBJECT' 'SIGN' 'TREE/SHRUBBERY'\n",
      " 'APPROACH TURN' 'EMBANKMENT CUT/FILL SLOPE' 'MAILBOX' 'FENCE' 'UNKNOWN'\n",
      " 'CURB/RAISED MEDIAN' 'OTHER FIXED OBJECT' 'ROAD MAINTENANCE EQUIPMENT'\n",
      " 'BRIDGE RAIL' 'SIDESWIPE (OPPOSITE DIRECTION)' 'OVERTAKING TURN'\n",
      " 'LARGE BOULDERS OR ROCKS' 'OTHER NON-COLLISION' 'VEHICLE CARGO/DEBRIS'\n",
      " nan 'BICYCLE' 'DOMESTIC ANIMAL' 'CABLE RAIL' 'WALL/BUILDING'\n",
      " 'CULVERT/HEADWALL' 'BARRICADE/TRAFFIC BARRIER' 'TRAFFIC SIGNAL POLE'\n",
      " 'CRASH CUSHION' 'RAILWAY VEHICLE']\n",
      "New format First HE ['Parked Motor Vehicle' 'Front to Side' 'Overturning/Rollover'\n",
      " 'Pedestrian' 'Wall or Building' 'Concrete Highway Barrier'\n",
      " 'Guardrail End' 'Front to Front' 'Front to Rear'\n",
      " 'Side to Side-Same Direction' 'Tree' 'Large Rocks or Boulder'\n",
      " 'Wild Animal' 'Cable Rail' 'Side to Side-Opposite Direction' 'Curb'\n",
      " 'Guardrail Face' 'Light Pole/Utility Pole' 'Sign' 'Other Non-Collision'\n",
      " 'Delineator/Milepost' 'Barricade' 'Embankment'\n",
      " 'Bicycle/Motorized Bicycle' 'Rear to Side' 'Fence'\n",
      " 'Other Non-Fixed Object (Describe in Narrative)'\n",
      " 'Other Fixed Object (Describe in Narrative)' 'Ditch'\n",
      " 'Railroad Crossing Equipment' 'Vehicle Debris or Cargo' 'Ground'\n",
      " 'Traffic Signal Pole' 'Rear to Rear' 'Bridge Structure (Not Overhead)'\n",
      " 'Electical/Utility Box' 'Culvert or Headwall' 'Mailbox'\n",
      " 'Overhead Structure (Bridge)' 'Domestic Animal'\n",
      " 'Crash Cushion/Traffic Barrel' 'Immersion, Full or Partial'\n",
      " 'Fell from Motor Vehicle' 'Overhead Structure (Not Bridge)'\n",
      " 'School Age To/From School']\n"
     ]
    }
   ],
   "source": [
    "# Convert EVENT_1 (old column) to First HE (new column)\n",
    "# TODO - CONVERT EQUIVALENT WORDS\n",
    "old_column = 'EVENT_1'\n",
    "new_column = 'First HE'\n",
    "\n",
    "print(f\"Old format {old_column}\", cdot_old_pdf[old_column].unique())\n",
    "print(f\"New format {new_column}\", cdot_new_pdf[new_column].unique())\n",
    "\n",
    "#cdot_old_converted_pdf[new_column] = cdot_old_pdf[old_column]\n",
    "#print(f\"Old converted format {new_column}\", cdot_old_converted_pdf[new_column].unique())"
   ]
  },
  {
   "cell_type": "code",
   "execution_count": 25,
   "id": "8a7a2ddb-cfaa-4b81-a066-9181baa37ce9",
   "metadata": {},
   "outputs": [
    {
     "name": "stdout",
     "output_type": "stream",
     "text": [
      "Old format EVENT_2 [nan 'LIGHT/UTILITY POLE' 'PARKED MOTOR VEHICLE' 'OVERTURNING' 'FENCE'\n",
      " 'GUARD RAIL' 'PEDESTRIAN' 'CURB/RAISED MEDIAN' 'OTHER FIXED OBJECT'\n",
      " 'INVOLVING OTHER OBJECT' 'UNKNOWN' 'CONCRETE BARRIER' 'BRIDGE RAIL'\n",
      " 'TREE/SHRUBBERY' 'SIDESWIPE (SAME DIRECTION)' 'EMBANKMENT CUT/FILL SLOPE'\n",
      " 'CULVERT/HEADWALL' 'SIDESWIPE (OPPOSITE DIRECTION)' 'SIGN' 'MAILBOX'\n",
      " 'DELINEATOR POST' 'TRAFFIC SIGNAL POLE' 'VEHICLE CARGO/DEBRIS'\n",
      " 'LARGE BOULDERS OR ROCKS' 'WALL/BUILDING' 'DOMESTIC ANIMAL'\n",
      " 'CRASH CUSHION' 'CABLE RAIL' 'OTHER NON-COLLISION'\n",
      " 'ROAD MAINTENANCE EQUIPMENT' 'RAILWAY VEHICLE'\n",
      " 'BARRICADE/TRAFFIC BARRIER' 'WILD ANIMAL' 'BICYCLE']\n",
      "New format Second HE ['Parked Motor Vehicle' 'Side to Side-Opposite Direction' nan\n",
      " 'Other Non-Fixed Object (Describe in Narrative)' 'Curb'\n",
      " 'Light Pole/Utility Pole' 'Pedestrian' 'Overturning/Rollover'\n",
      " 'Front to Rear' 'Front to Side' 'Bridge Structure (Not Overhead)' 'Sign'\n",
      " 'Concrete Highway Barrier' 'Embankment' 'Ditch' 'Tree'\n",
      " 'Culvert or Headwall' 'Large Rocks or Boulder' 'Front to Front' 'Fence'\n",
      " 'Electical/Utility Box' 'Guardrail Face' 'Ground' 'Guardrail End'\n",
      " 'Side to Side-Same Direction' 'Traffic Signal Pole' 'Wall or Building'\n",
      " 'Other Non-Collision' 'Other Fixed Object (Describe in Narrative)'\n",
      " 'Mailbox' 'Delineator/Milepost' 'Rear to Rear' 'Barricade' 'Rear to Side'\n",
      " 'Vehicle Debris or Cargo' 'Wild Animal' 'Immersion, Full or Partial'\n",
      " 'Cable Rail' 'Crash Cushion/Traffic Barrel' 'Railroad Crossing Equipment'\n",
      " 'Fell from Motor Vehicle' 'Bicycle/Motorized Bicycle'\n",
      " 'School Age To/From School' 'Domestic Animal'\n",
      " 'Overhead Structure (Not Bridge)' 'Overhead Structure (Bridge)']\n"
     ]
    }
   ],
   "source": [
    "# Convert EVENT_2 (old column) to Second HE (new column)\n",
    "# TODO - CONVERT EQUIVALENT WORDS\n",
    "old_column = 'EVENT_2'\n",
    "new_column = 'Second HE'\n",
    "\n",
    "print(f\"Old format {old_column}\", cdot_old_pdf[old_column].unique())\n",
    "print(f\"New format {new_column}\", cdot_new_pdf[new_column].unique())\n",
    "\n",
    "#cdot_old_converted_pdf[new_column] = cdot_old_pdf[old_column]\n",
    "#print(f\"Old converted format {new_column}\", cdot_old_converted_pdf[new_column].unique())"
   ]
  },
  {
   "cell_type": "code",
   "execution_count": 26,
   "id": "25aeb72a-5ebc-484a-b948-ddd6c6716398",
   "metadata": {},
   "outputs": [
    {
     "name": "stdout",
     "output_type": "stream",
     "text": [
      "Old format EVENT_3 [nan 'FENCE' 'UNKNOWN' 'SIDESWIPE (OPPOSITE DIRECTION)'\n",
      " 'LIGHT/UTILITY POLE' 'SIGN' 'GUARD RAIL' 'SIDESWIPE (SAME DIRECTION)'\n",
      " 'EMBANKMENT CUT/FILL SLOPE' 'OVERTURNING' 'PARKED MOTOR VEHICLE'\n",
      " 'CONCRETE BARRIER' 'TREE/SHRUBBERY' 'TRAFFIC SIGNAL POLE'\n",
      " 'INVOLVING OTHER OBJECT' 'OTHER FIXED OBJECT' 'CABLE RAIL'\n",
      " 'WALL/BUILDING' 'RAILWAY VEHICLE' 'CURB/RAISED MEDIAN'\n",
      " 'VEHICLE CARGO/DEBRIS' 'CULVERT/HEADWALL' 'LARGE BOULDERS OR ROCKS'\n",
      " 'PEDESTRIAN' 'DELINEATOR POST' 'OTHER NON-COLLISION' 'MAILBOX'\n",
      " 'BRIDGE RAIL']\n",
      "New format Third HE [nan 'Ground' 'Other Fixed Object (Describe in Narrative)'\n",
      " 'Other Non-Fixed Object (Describe in Narrative)' 'Wall or Building'\n",
      " 'Light Pole/Utility Pole' 'Vehicle Debris or Cargo' 'Other Non-Collision'\n",
      " 'Overturning/Rollover' 'Ditch' 'Tree' 'Front to Side' 'Guardrail End'\n",
      " 'Front to Rear' 'Large Rocks or Boulder' 'Side to Side-Same Direction'\n",
      " 'Sign' 'Concrete Highway Barrier' 'Parked Motor Vehicle' 'Fence'\n",
      " 'Traffic Signal Pole' 'Guardrail Face' 'Curb' 'Culvert or Headwall'\n",
      " 'Rear to Side' 'Embankment' 'Immersion, Full or Partial'\n",
      " 'Side to Side-Opposite Direction' 'Delineator/Milepost' 'Front to Front'\n",
      " 'Pedestrian' 'Cable Rail' 'Electical/Utility Box' 'Mailbox'\n",
      " 'Fell from Motor Vehicle' 'Barricade' 'Domestic Animal' 'Wild Animal'\n",
      " 'Overhead Structure (Bridge)' 'Rear to Rear'\n",
      " 'Bridge Structure (Not Overhead)' 'School Age To/From School'\n",
      " 'Crash Cushion/Traffic Barrel' 'Railroad Crossing Equipment'\n",
      " 'Bicycle/Motorized Bicycle']\n"
     ]
    }
   ],
   "source": [
    "# Convert EVENT_3 (old column) to Third HE (new column)\n",
    "# TODO - CONVERT EQUIVALENT WORDS\n",
    "old_column = 'EVENT_3'\n",
    "new_column = 'Third HE'\n",
    "\n",
    "print(f\"Old format {old_column}\", cdot_old_pdf[old_column].unique())\n",
    "print(f\"New format {new_column}\", cdot_new_pdf[new_column].unique())\n",
    "\n",
    "#cdot_old_converted_pdf[new_column] = cdot_old_pdf[old_column]\n",
    "#print(f\"Old converted format {new_column}\", cdot_old_converted_pdf[new_column].unique())"
   ]
  },
  {
   "cell_type": "code",
   "execution_count": 27,
   "id": "b0f48baf-ca3a-4e18-bcf6-bbea4924846d",
   "metadata": {},
   "outputs": [
    {
     "name": "stdout",
     "output_type": "stream",
     "text": [
      "New format Fourth HE [nan 'Vehicle Debris or Cargo' 'Sign' 'Front to Side'\n",
      " 'Other Non-Fixed Object (Describe in Narrative)' 'Ditch'\n",
      " 'Large Rocks or Boulder' 'Parked Motor Vehicle'\n",
      " 'Side to Side-Same Direction' 'Front to Rear' 'Tree'\n",
      " 'Concrete Highway Barrier' 'Wall or Building' 'Fence'\n",
      " 'Overturning/Rollover' 'Embankment' 'Front to Front'\n",
      " 'Side to Side-Opposite Direction' 'Light Pole/Utility Pole'\n",
      " 'Guardrail End' 'Electical/Utility Box' 'Pedestrian'\n",
      " 'Delineator/Milepost' 'Ground' 'Curb'\n",
      " 'Other Fixed Object (Describe in Narrative)' 'Immersion, Full or Partial'\n",
      " 'Other Non-Collision' 'Traffic Signal Pole' 'Culvert or Headwall'\n",
      " 'Guardrail Face' 'Mailbox' 'Rear to Side' 'Barricade' 'Cable Rail'\n",
      " 'Bridge Structure (Not Overhead)' 'Wild Animal' 'Rear to Rear'\n",
      " 'Crash Cushion/Traffic Barrel' 'Domestic Animal'\n",
      " 'Fell from Motor Vehicle' 'Bicycle/Motorized Bicycle']\n",
      "Old converted format Fourth HE [None]\n"
     ]
    }
   ],
   "source": [
    "# Convert No Column (old column) to Fourth HE (new column)\n",
    "# Create empty column \n",
    "#old_column = ''\n",
    "new_column = 'Fourth HE'\n",
    "\n",
    "#print(f\"Old format {old_column}\", cdot_old_pdf[old_column].unique())\n",
    "print(f\"New format {new_column}\", cdot_new_pdf[new_column].unique())\n",
    "\n",
    "cdot_old_converted_pdf[new_column] = None\n",
    "print(f\"Old converted format {new_column}\", cdot_old_converted_pdf[new_column].unique())"
   ]
  },
  {
   "cell_type": "code",
   "execution_count": 28,
   "id": "6ccdcf98-e8c0-4d00-898a-8d87a517074a",
   "metadata": {},
   "outputs": [
    {
     "name": "stdout",
     "output_type": "stream",
     "text": [
      "Old format MHE ['HEAD-ON' 'GUARD RAIL' 'PARKED MOTOR VEHICLE' 'REAR-END' 'BROADSIDE'\n",
      " 'WILD ANIMAL' 'OVERTURNING' 'LIGHT/UTILITY POLE'\n",
      " 'SIDESWIPE (SAME DIRECTION)' 'CONCRETE BARRIER' 'PEDESTRIAN'\n",
      " 'INVOLVING OTHER OBJECT' 'SIGN' 'TREE/SHRUBBERY' 'APPROACH TURN'\n",
      " 'EMBANKMENT CUT/FILL SLOPE' 'FENCE' 'UNKNOWN' 'OTHER FIXED OBJECT'\n",
      " 'DELINEATOR POST' 'BRIDGE RAIL' 'SIDESWIPE (OPPOSITE DIRECTION)'\n",
      " 'MAILBOX' 'OVERTAKING TURN' 'CULVERT/HEADWALL' nan\n",
      " 'LARGE BOULDERS OR ROCKS' 'CURB/RAISED MEDIAN' 'OTHER NON-COLLISION'\n",
      " 'VEHICLE CARGO/DEBRIS' 'BICYCLE' 'ROAD MAINTENANCE EQUIPMENT'\n",
      " 'DOMESTIC ANIMAL' 'CABLE RAIL' 'WALL/BUILDING'\n",
      " 'BARRICADE/TRAFFIC BARRIER' 'TRAFFIC SIGNAL POLE' 'CRASH CUSHION'\n",
      " 'RAILWAY VEHICLE']\n",
      "New format MHE ['Parked Motor Vehicle' 'Front to Side' 'Overturning/Rollover'\n",
      " 'Pedestrian' 'Wall or Building' 'Concrete Highway Barrier'\n",
      " 'Guardrail End' 'Front to Front' 'Front to Rear'\n",
      " 'Side to Side-Same Direction' 'Tree' 'Large Rocks or Boulder'\n",
      " 'Wild Animal' 'Cable Rail' 'Side to Side-Opposite Direction'\n",
      " 'Light Pole/Utility Pole' 'Guardrail Face' 'Embankment' 'Ditch'\n",
      " 'Delineator/Milepost' 'Barricade' 'Sign' 'Culvert or Headwall' 'Curb'\n",
      " 'Bicycle/Motorized Bicycle' 'Rear to Side' 'Fence'\n",
      " 'Other Fixed Object (Describe in Narrative)' 'Electical/Utility Box'\n",
      " 'Other Non-Fixed Object (Describe in Narrative)'\n",
      " 'Railroad Crossing Equipment' 'Vehicle Debris or Cargo' 'Ground'\n",
      " 'Traffic Signal Pole' 'Other Non-Collision'\n",
      " 'Bridge Structure (Not Overhead)' 'Overhead Structure (Bridge)' 'Mailbox'\n",
      " 'Domestic Animal' 'Crash Cushion/Traffic Barrel' 'Rear to Rear'\n",
      " 'Immersion, Full or Partial' 'Fell from Motor Vehicle'\n",
      " 'Overhead Structure (Not Bridge)' 'School Age To/From School']\n",
      "Old converted format MHE [None]\n"
     ]
    }
   ],
   "source": [
    "# Convert MHE (old column) to MHE (new column)\n",
    "# TODO - CONVERT EQUIVALENT WORDS\n",
    "old_column = 'MHE'\n",
    "new_column = 'MHE'\n",
    "\n",
    "print(f\"Old format {old_column}\", cdot_old_pdf[old_column].unique())\n",
    "print(f\"New format {new_column}\", cdot_new_pdf[new_column].unique())\n",
    "\n",
    "#cdot_old_converted_pdf[new_column] = cdot_old_pdf[old_column]\n",
    "#print(f\"Old converted format {new_column}\", cdot_old_converted_pdf[new_column].unique())"
   ]
  },
  {
   "cell_type": "code",
   "execution_count": 29,
   "id": "cf0c251e-6690-49e9-b83b-ec61913b5753",
   "metadata": {},
   "outputs": [
    {
     "name": "stdout",
     "output_type": "stream",
     "text": [
      "Old format ACCTYPE ['HEAD-ON' 'GUARD RAIL' 'PARKED MOTOR VEHICLE' 'REAR-END' 'BROADSIDE'\n",
      " 'WILD ANIMAL' 'OVERTURNING' 'LIGHT/UTILITY POLE'\n",
      " 'SIDESWIPE (SAME DIRECTION)' 'CONCRETE BARRIER' 'PEDESTRIAN' 'SIGN'\n",
      " 'TREE/SHRUBBERY' 'APPROACH TURN' 'EMBANKMENT CUT/FILL SLOPE' 'MAILBOX'\n",
      " 'FENCE' 'CURB/RAISED MEDIAN' 'DELINEATOR POST' 'OTHER FIXED OBJECT'\n",
      " 'BRIDGE RAIL' 'SIDESWIPE (OPPOSITE DIRECTION)' 'INVOLVING OTHER OBJECT'\n",
      " 'OVERTAKING TURN' 'CULVERT/HEADWALL' 'LARGE BOULDERS OR ROCKS'\n",
      " 'OTHER NON-COLLISION' 'VEHICLE CARGO/DEBRIS' nan 'BICYCLE'\n",
      " 'ROAD MAINTENANCE EQUIPMENT' 'DOMESTIC ANIMAL' 'CABLE RAIL'\n",
      " 'WALL/BUILDING' 'BARRICADE/TRAFFIC BARRIER' 'TRAFFIC SIGNAL POLE'\n",
      " 'CRASH CUSHION' 'UNKNOWN' 'RAILWAY VEHICLE']\n",
      "New format Crash Type ['Parked Motor Vehicle' 'Broadside' 'Overturning/Rollover' 'Pedestrian'\n",
      " 'Wall or Building' 'Concrete Highway Barrier' 'Guardrail End' 'Head-On'\n",
      " 'Rear-End' 'Sideswipe Same Direction' 'Tree' 'Large Rocks or Boulder'\n",
      " 'Wild Animal' 'Cable Rail' 'Sideswipe Opposite Direction' 'Sign'\n",
      " 'Guardrail Face' 'Light Pole/Utility Pole' 'Delineator/Milepost'\n",
      " 'Barricade' 'Embankment' 'Curb' 'Bicycle/Motorized Bicycle' 'Fence'\n",
      " 'Overtaking Turn' 'Approach Turn'\n",
      " 'Other Non-Fixed Object Describe in Narrative)'\n",
      " 'Other Fixed Object (Describe in Narrative)' 'Ditch'\n",
      " 'Railroad Crossing Equipment' 'Vehicle Debris or Cargo' 'Ground'\n",
      " 'Traffic Signal Pole' 'Other Non-Collision'\n",
      " 'Bridge Structure (Not Overhead)' 'Electrical/Utility Box'\n",
      " 'Culvert or Headwall' 'Mailbox' 'Overhead Structure (Bridge)'\n",
      " 'Domestic Animal' 'Crash Cushion/Traffic Barrel'\n",
      " 'Immersion, Full or Partial' 'Fell from Motor Vehicle'\n",
      " 'Overhead Structure (Not Bridge)' 'School Age To/From School']\n"
     ]
    }
   ],
   "source": [
    "# Convert ACCTYPE (old column) to Crash Type (new column)\n",
    "# TODO - CONVERT EQUIVALENT WORDS\n",
    "old_column = 'ACCTYPE'\n",
    "new_column = 'Crash Type'\n",
    "\n",
    "print(f\"Old format {old_column}\", cdot_old_pdf[old_column].unique())\n",
    "print(f\"New format {new_column}\", cdot_new_pdf[new_column].unique())\n",
    "\n",
    "#cdot_old_converted_pdf[new_column] = cdot_old_pdf[old_column]\n",
    "#print(f\"Old converted format {new_column}\", cdot_old_converted_pdf[new_column].unique())"
   ]
  },
  {
   "cell_type": "code",
   "execution_count": 31,
   "id": "5fdc72e3-ca53-4eff-ab7a-b44f13dcbf9c",
   "metadata": {},
   "outputs": [
    {
     "name": "stdout",
     "output_type": "stream",
     "text": [
      "New format Approach Overtaking Turn ['Not Applicable' 'Overtaking Turn' 'Approach Turn']\n",
      "Old converted format Approach Overtaking Turn [None]\n"
     ]
    }
   ],
   "source": [
    "# Convert No Column (old column) to Approach Overtaking Turn (new column)\n",
    "# Create empty column \n",
    "old_column = ''\n",
    "new_column = 'Approach Overtaking Turn'\n",
    "\n",
    "#print(f\"Old format {old_column}\", cdot_old_pdf[old_column].unique())\n",
    "print(f\"New format {new_column}\", cdot_new_pdf[new_column].unique())\n",
    "\n",
    "cdot_old_converted_pdf[new_column] = None\n",
    "print(f\"Old converted format {new_column}\", cdot_old_converted_pdf[new_column].unique())"
   ]
  },
  {
   "cell_type": "code",
   "execution_count": 33,
   "id": "0c265fbb-3829-4f57-8721-44553a822a5b",
   "metadata": {},
   "outputs": [
    {
     "name": "stdout",
     "output_type": "stream",
     "text": [
      "Old format WAN_TYPE [nan 'ELK' 'DEER' 'UNKNOWN' 'COYOTE' 'ANTELOPE' 'HORSE' 'LION' 'BOBCAT'\n",
      " 'GOAT' 'MOOSE' 'BEAR' 'RACCOON' 'HAWK' 'FAWN' 'RABBIT' 'BIRD' 'FOX'\n",
      " 'EAGLE' 'BADGER' 'CATTLE' 'OWL' 'SHEEP']\n",
      "New format Wild Animal [nan 'UNKNOWN' 'DEER' 'ELK' 'SHEEP' 'ANTELOPE' 'MOOSE' 'HORSE' 'OTHER'\n",
      " 'GOAT' 'COYOTE' 'FOX' 'RACCOON' 'GOOSE' 'TURKEY' 'BEAR' 'RABBIT' 'LION'\n",
      " 'BIRD' 'BOBCAT' 'EAGLE' 'BADGER']\n",
      "Old converted format Wild Animal [nan 'ELK' 'DEER' 'UNKNOWN' 'COYOTE' 'ANTELOPE' 'HORSE' 'LION' 'BOBCAT'\n",
      " 'GOAT' 'MOOSE' 'BEAR' 'RACCOON' 'HAWK' 'FAWN' 'RABBIT' 'BIRD' 'FOX'\n",
      " 'EAGLE' 'BADGER' 'CATTLE' 'OWL' 'SHEEP']\n"
     ]
    }
   ],
   "source": [
    "# Convert WAN_TYPE (old column) to Wild Animal (new column)\n",
    "# Rename Column\n",
    "old_column = 'WAN_TYPE'\n",
    "new_column = 'Wild Animal'\n",
    "\n",
    "print(f\"Old format {old_column}\", cdot_old_pdf[old_column].unique())\n",
    "print(f\"New format {new_column}\", cdot_new_pdf[new_column].unique())\n",
    "\n",
    "cdot_old_converted_pdf[new_column] = cdot_old_pdf[old_column]\n",
    "print(f\"Old converted format {new_column}\", cdot_old_converted_pdf[new_column].unique())"
   ]
  },
  {
   "cell_type": "code",
   "execution_count": 35,
   "id": "8705d8d4-a5d1-421f-b9d7-464d6071e571",
   "metadata": {},
   "outputs": [
    {
     "name": "stdout",
     "output_type": "stream",
     "text": [
      "Old format INJURY 04 [0 1 2 3 4]\n",
      "New format Number Killed [0 1 2 3]\n",
      "Old converted format Number Killed [0 1 2 3 4]\n"
     ]
    }
   ],
   "source": [
    "# Convert INJURY 04 (old column) to Number Killed (new column)\n",
    "# Rename Column\n",
    "old_column = 'INJURY 04'\n",
    "new_column = 'Number Killed'\n",
    "\n",
    "print(f\"Old format {old_column}\", cdot_old_pdf[old_column].unique())\n",
    "print(f\"New format {new_column}\", cdot_new_pdf[new_column].unique())\n",
    "\n",
    "cdot_old_converted_pdf[new_column] = cdot_old_pdf[old_column]\n",
    "print(f\"Old converted format {new_column}\", cdot_old_converted_pdf[new_column].unique())"
   ]
  },
  {
   "cell_type": "code",
   "execution_count": 36,
   "id": "ff7daf89-d1d7-4921-aca3-6f57a0990309",
   "metadata": {},
   "outputs": [],
   "source": [
    "# Convert Combine a few columns (INJURY 02, INJURY 03) (old column) to Number Injured (new column)\n",
    "\n",
    "# Inspect how columns in new format are combined to get the \"number injured\" value. Then apply that to the old data format \n",
    "\n",
    "# Rename Column\n",
    "#old_column = 'INJURY 04'\n",
    "#new_column = 'Number Killed'\n",
    "\n",
    "#print(f\"Old format {old_column}\", cdot_old_pdf[old_column].unique())\n",
    "#print(f\"New format {new_column}\", cdot_new_pdf[new_column].unique())\n",
    "\n",
    "#cdot_old_converted_pdf[new_column] = cdot_old_pdf[old_column]\n",
    "#print(f\"Old converted format {new_column}\", cdot_old_converted_pdf[new_column].unique())"
   ]
  },
  {
   "cell_type": "code",
   "execution_count": 37,
   "id": "8837a059-256d-4a48-8c11-3f9481409026",
   "metadata": {},
   "outputs": [
    {
     "name": "stdout",
     "output_type": "stream",
     "text": [
      "Old format INJURY 00 [ 2  1  7  4  0  3  6  5  8 11 10  9 13 23 26 12 14 25 15 16 17 19 27 62\n",
      " 37 24 40 20]\n",
      "New format Injury 00 [ 0  2  1  4  3  6  5  7  8 11 10 15  9 12 16 13 49 50 14 32 18 17 19]\n",
      "Old converted format Injury 00 [ 2  1  7  4  0  3  6  5  8 11 10  9 13 23 26 12 14 25 15 16 17 19 27 62\n",
      " 37 24 40 20]\n"
     ]
    }
   ],
   "source": [
    "# Convert INJURY 00 (old column) to Injury 00 (new column)\n",
    "# Rename Column\n",
    "old_column = 'INJURY 00'\n",
    "new_column = 'Injury 00'\n",
    "\n",
    "print(f\"Old format {old_column}\", cdot_old_pdf[old_column].unique())\n",
    "print(f\"New format {new_column}\", cdot_new_pdf[new_column].unique())\n",
    "\n",
    "cdot_old_converted_pdf[new_column] = cdot_old_pdf[old_column]\n",
    "print(f\"Old converted format {new_column}\", cdot_old_converted_pdf[new_column].unique())"
   ]
  },
  {
   "cell_type": "code",
   "execution_count": 38,
   "id": "09e0fe66-d67b-4592-8125-755e752c5b6e",
   "metadata": {},
   "outputs": [
    {
     "name": "stdout",
     "output_type": "stream",
     "text": [
      "Old format INJURY 01 [ 0  1  2  3  4  5  7  6  8 14]\n",
      "New format Injury 01 [0 1 2 4 3 7 5 6 8]\n",
      "Old converted format Injury 01 [ 0  1  2  3  4  5  7  6  8 14]\n"
     ]
    }
   ],
   "source": [
    "# Convert INJURY 01 (old column) to Injury 01 (new column)\n",
    "# Rename Column\n",
    "old_column = 'INJURY 01'\n",
    "new_column = 'Injury 01'\n",
    "\n",
    "print(f\"Old format {old_column}\", cdot_old_pdf[old_column].unique())\n",
    "print(f\"New format {new_column}\", cdot_new_pdf[new_column].unique())\n",
    "\n",
    "cdot_old_converted_pdf[new_column] = cdot_old_pdf[old_column]\n",
    "print(f\"Old converted format {new_column}\", cdot_old_converted_pdf[new_column].unique())"
   ]
  },
  {
   "cell_type": "code",
   "execution_count": 39,
   "id": "a13639f6-852f-4747-94af-5ee00f34a53f",
   "metadata": {},
   "outputs": [
    {
     "name": "stdout",
     "output_type": "stream",
     "text": [
      "Old format INJURY 02 [0 1 3 2 7 4 5 6 8]\n",
      "New format Injury 02 [0 1 2 3 5 4 6 7]\n",
      "Old converted format Injury 02 [0 1 3 2 7 4 5 6 8]\n"
     ]
    }
   ],
   "source": [
    "# Convert INJURY 02 (old column) to Injury 02 (new column)\n",
    "# Rename Column\n",
    "old_column = 'INJURY 02'\n",
    "new_column = 'Injury 02'\n",
    "\n",
    "print(f\"Old format {old_column}\", cdot_old_pdf[old_column].unique())\n",
    "print(f\"New format {new_column}\", cdot_new_pdf[new_column].unique())\n",
    "\n",
    "cdot_old_converted_pdf[new_column] = cdot_old_pdf[old_column]\n",
    "print(f\"Old converted format {new_column}\", cdot_old_converted_pdf[new_column].unique())"
   ]
  },
  {
   "cell_type": "code",
   "execution_count": 40,
   "id": "18e09130-a1e0-46e9-b9f1-754c8df70f75",
   "metadata": {},
   "outputs": [
    {
     "name": "stdout",
     "output_type": "stream",
     "text": [
      "Old format INJURY 03 [0 1 2 3 4 7 5 6]\n",
      "New format Injury 03 [0 1 2 3 6 4 5 9]\n",
      "Old converted format Injury 03 [0 1 2 3 4 7 5 6]\n"
     ]
    }
   ],
   "source": [
    "# Convert INJURY 03 (old column) to Injury 03 (new column)\n",
    "# Rename Column\n",
    "old_column = 'INJURY 03'\n",
    "new_column = 'Injury 03'\n",
    "\n",
    "print(f\"Old format {old_column}\", cdot_old_pdf[old_column].unique())\n",
    "print(f\"New format {new_column}\", cdot_new_pdf[new_column].unique())\n",
    "\n",
    "cdot_old_converted_pdf[new_column] = cdot_old_pdf[old_column]\n",
    "print(f\"Old converted format {new_column}\", cdot_old_converted_pdf[new_column].unique())"
   ]
  },
  {
   "cell_type": "code",
   "execution_count": 41,
   "id": "b3afe715-09de-485f-b8b9-e60c673eb5c0",
   "metadata": {},
   "outputs": [
    {
     "name": "stdout",
     "output_type": "stream",
     "text": [
      "Old format INJURY 04 [0 1 2 3 4]\n",
      "New format Injury 04 [0 1 2 3]\n",
      "Old converted format Injury 04 [0 1 2 3 4]\n"
     ]
    }
   ],
   "source": [
    "# Convert INJURY 04 (old column) to Injury 04 (new column)\n",
    "# Rename Column\n",
    "old_column = 'INJURY 04'\n",
    "new_column = 'Injury 04'\n",
    "\n",
    "print(f\"Old format {old_column}\", cdot_old_pdf[old_column].unique())\n",
    "print(f\"New format {new_column}\", cdot_new_pdf[new_column].unique())\n",
    "\n",
    "cdot_old_converted_pdf[new_column] = cdot_old_pdf[old_column]\n",
    "print(f\"Old converted format {new_column}\", cdot_old_converted_pdf[new_column].unique())"
   ]
  },
  {
   "cell_type": "code",
   "execution_count": 46,
   "id": "27a40114-483e-4d9a-8386-870f3819a269",
   "metadata": {},
   "outputs": [
    {
     "name": "stdout",
     "output_type": "stream",
     "text": [
      "Old format VEHICLES [ 2  1  3  5  6  4  0 20  9  7 96 22 44 83  8 13 23 25 16 29 10 37 11 93\n",
      " 52 92]\n",
      "New format Total Vehicles [ 3.  1.  2.  4.  6.  5.  0.  8.  7. 10.  9. 22. nan]\n",
      "Old converted format Total Vehicles [ 2.  1.  3.  5.  6.  4.  0. 20.  9.  7. 96. 22. 44. 83.  8. 13. 23. 25.\n",
      " 16. 29. 10. 37. 11. 93. 52. 92.]\n"
     ]
    }
   ],
   "source": [
    "# Convert VEHICLES (old column) to Total Vehicles (new column)\n",
    "# Rename Column + cast to float\n",
    "old_column = 'VEHICLES'\n",
    "new_column = 'Total Vehicles'\n",
    "\n",
    "print(f\"Old format {old_column}\", cdot_old_pdf[old_column].unique())\n",
    "print(f\"New format {new_column}\", cdot_new_pdf[new_column].unique())\n",
    "\n",
    "cdot_old_converted_pdf[new_column] = cdot_old_pdf[old_column].astype(float)\n",
    "print(f\"Old converted format {new_column}\", cdot_old_converted_pdf[new_column].unique())"
   ]
  },
  {
   "cell_type": "code",
   "execution_count": 47,
   "id": "3ba6a87a-1238-496f-922a-deb22ad2163a",
   "metadata": {},
   "outputs": [
    {
     "name": "stdout",
     "output_type": "stream",
     "text": [
      "Old format EVENT_2 [nan 'LIGHT/UTILITY POLE' 'PARKED MOTOR VEHICLE' 'OVERTURNING' 'FENCE'\n",
      " 'GUARD RAIL' 'PEDESTRIAN' 'CURB/RAISED MEDIAN' 'OTHER FIXED OBJECT'\n",
      " 'INVOLVING OTHER OBJECT' 'UNKNOWN' 'CONCRETE BARRIER' 'BRIDGE RAIL'\n",
      " 'TREE/SHRUBBERY' 'SIDESWIPE (SAME DIRECTION)' 'EMBANKMENT CUT/FILL SLOPE'\n",
      " 'CULVERT/HEADWALL' 'SIDESWIPE (OPPOSITE DIRECTION)' 'SIGN' 'MAILBOX'\n",
      " 'DELINEATOR POST' 'TRAFFIC SIGNAL POLE' 'VEHICLE CARGO/DEBRIS'\n",
      " 'LARGE BOULDERS OR ROCKS' 'WALL/BUILDING' 'DOMESTIC ANIMAL'\n",
      " 'CRASH CUSHION' 'CABLE RAIL' 'OTHER NON-COLLISION'\n",
      " 'ROAD MAINTENANCE EQUIPMENT' 'RAILWAY VEHICLE'\n",
      " 'BARRICADE/TRAFFIC BARRIER' 'WILD ANIMAL' 'BICYCLE']\n",
      "New format Secondary Crash [ 1.  0. nan]\n"
     ]
    }
   ],
   "source": [
    "# Convert None (old column) to Secondary Crash (new column)\n",
    "# Is this true if the number of vehicles is greater than 2???\n",
    "\n",
    "old_column = ''\n",
    "new_column = 'Secondary Crash'\n",
    "\n",
    "print(f\"Old format {old_column}\", cdot_old_pdf[old_column].unique())\n",
    "print(f\"New format {new_column}\", cdot_new_pdf[new_column].unique())\n",
    "\n",
    "#cdot_old_converted_pdf[new_column] = cdot_old_pdf[old_column].astype(float)\n",
    "#print(f\"Old converted format {new_column}\", cdot_old_converted_pdf[new_column].unique())"
   ]
  },
  {
   "cell_type": "code",
   "execution_count": 48,
   "id": "f3f5cc2c-09a3-4c3a-957e-f0f04bf1a5b0",
   "metadata": {},
   "outputs": [
    {
     "name": "stdout",
     "output_type": "stream",
     "text": [
      "New format Construction Zone [False  True]\n",
      "Old converted format Construction Zone [None]\n"
     ]
    }
   ],
   "source": [
    "# Convert No Column (old column) to Construction Zone (new column)\n",
    "# Create empty column \n",
    "old_column = ''\n",
    "new_column = 'Construction Zone'\n",
    "\n",
    "#print(f\"Old format {old_column}\", cdot_old_pdf[old_column].unique())\n",
    "print(f\"New format {new_column}\", cdot_new_pdf[new_column].unique())\n",
    "\n",
    "cdot_old_converted_pdf[new_column] = None\n",
    "print(f\"Old converted format {new_column}\", cdot_old_converted_pdf[new_column].unique())"
   ]
  },
  {
   "cell_type": "code",
   "execution_count": 50,
   "id": "229973bd-d549-41dd-bdce-a1903d061a9b",
   "metadata": {},
   "outputs": [
    {
     "name": "stdout",
     "output_type": "stream",
     "text": [
      "Old format CONTOUR ['CURVE ON-LEVEL' 'STRAIGHT ON-LEVEL' 'STRAIGHT ON-GRADE' 'CURVE ON-GRADE'\n",
      " 'UNKNOWN' 'HILLCREST']\n",
      "New format Road Contour Curves ['Straight' 'Curve Left' 'Curve Right' nan 'Unknown']\n"
     ]
    }
   ],
   "source": [
    "# Convert COUNTOUR (old column) to Road Contour Curves (new column)\n",
    "# TODO - CONVERT EQUIVALENT WORDS\n",
    "old_column = 'CONTOUR'\n",
    "new_column = 'Road Contour Curves'\n",
    "\n",
    "print(f\"Old format {old_column}\", cdot_old_pdf[old_column].unique())\n",
    "print(f\"New format {new_column}\", cdot_new_pdf[new_column].unique())\n",
    "\n",
    "#cdot_old_converted_pdf[new_column] = None\n",
    "#print(f\"Old converted format {new_column}\", cdot_old_converted_pdf[new_column].unique())"
   ]
  },
  {
   "cell_type": "code",
   "execution_count": 51,
   "id": "b1288832-db55-4c3b-9a32-6d381a04db1c",
   "metadata": {},
   "outputs": [
    {
     "name": "stdout",
     "output_type": "stream",
     "text": [
      "Old format CONTOUR ['CURVE ON-LEVEL' 'STRAIGHT ON-LEVEL' 'STRAIGHT ON-GRADE' 'CURVE ON-GRADE'\n",
      " 'UNKNOWN' 'HILLCREST']\n",
      "New format Road Contour Grade ['Level' 'Downhill' nan 'Uphill' 'Hill Crest' 'Unknown' 'Sag/Bottom']\n"
     ]
    }
   ],
   "source": [
    "# Convert COUNTOUR (old column) to Road Contour Grade (new column)\n",
    "# TODO - CONVERT EQUIVALENT WORDS\n",
    "old_column = 'CONTOUR'\n",
    "new_column = 'Road Contour Grade'\n",
    "\n",
    "print(f\"Old format {old_column}\", cdot_old_pdf[old_column].unique())\n",
    "print(f\"New format {new_column}\", cdot_new_pdf[new_column].unique())\n",
    "\n",
    "#cdot_old_converted_pdf[new_column] = None\n",
    "#print(f\"Old converted format {new_column}\", cdot_old_converted_pdf[new_column].unique())"
   ]
  },
  {
   "cell_type": "code",
   "execution_count": 53,
   "id": "7df977b2-910e-48af-9b9b-836b5114d84a",
   "metadata": {},
   "outputs": [
    {
     "name": "stdout",
     "output_type": "stream",
     "text": [
      "Old format CONDITION ['ICY' 'SNOWY' 'DRY' 'SLUSHY W/VIS ICY ROAD TREATMENT' 'SLUSHY'\n",
      " 'ICY W/VIS ICY ROAD TREATMENT' 'DRY W/VIS ICY ROAD TREATMENT'\n",
      " 'SNOWY W/VIS ICY ROAD TREATMENT' 'WET' 'WET W/VIS ICY ROAD TREATMENT'\n",
      " 'UNKNOWN' 'FOREIGN MATERIAL' 'MUDDY']\n",
      "New format Road Condition ['Icy' 'Dry' 'Wet' 'Icy W/Visible Icy Road Treatment' 'Slushy'\n",
      " 'Slushy W/Visible Icy Road Treatment' 'Snowy' nan\n",
      " 'Dry W/Visible Icy Road Treatment' 'Snowy W/Visible Icy Road Treatment'\n",
      " 'Wet W/Visible Icy Road Treatment' 'Muddy' 'Foreign Material'\n",
      " 'Sand/Gravel' 'Roto-Milled']\n"
     ]
    }
   ],
   "source": [
    "# Convert CONDITION (old column) to Road Condition (new column)\n",
    "# TODO - CONVERT EQUIVALENT WORDS\n",
    "old_column = 'CONDITION'\n",
    "new_column = 'Road Condition'\n",
    "\n",
    "print(f\"Old format {old_column}\", cdot_old_pdf[old_column].unique())\n",
    "print(f\"New format {new_column}\", cdot_new_pdf[new_column].unique())\n",
    "\n",
    "#cdot_old_converted_pdf[new_column] = None\n",
    "#print(f\"Old converted format {new_column}\", cdot_old_converted_pdf[new_column].unique())"
   ]
  },
  {
   "cell_type": "code",
   "execution_count": 57,
   "id": "95a934ff-e557-451c-a0b8-32c4ab320348",
   "metadata": {},
   "outputs": [
    {
     "name": "stdout",
     "output_type": "stream",
     "text": [
      "Old format LIGHTING ['DAYLIGHT' 'DAWN OR DUSK' 'DARK-UNLIGHTED' 'DARK-LIGHTED' 'UNKNOWN']\n",
      "New format Lighting Conditions ['Dark – Lighted' 'Dark – Unlighted' 'Daylight' 'Dawn or Dusk' nan]\n"
     ]
    }
   ],
   "source": [
    "# Convert LIGHTING (old column) to Lighting Condition (new column)\n",
    "# TODO - CONVERT EQUIVALENT WORDS\n",
    "old_column = 'LIGHTING'\n",
    "new_column = 'Lighting Conditions'\n",
    "\n",
    "print(f\"Old format {old_column}\", cdot_old_pdf[old_column].unique())\n",
    "print(f\"New format {new_column}\", cdot_new_pdf[new_column].unique())\n",
    "\n",
    "#cdot_old_converted_pdf[new_column] = None\n",
    "#print(f\"Old converted format {new_column}\", cdot_old_converted_pdf[new_column].unique())"
   ]
  },
  {
   "cell_type": "code",
   "execution_count": 58,
   "id": "09874908-2cd4-4084-8197-bfa4f1aacd19",
   "metadata": {},
   "outputs": [
    {
     "name": "stdout",
     "output_type": "stream",
     "text": [
      "Old format WEATHER ['NONE' 'SNOW/SLEET/HAIL' 'WIND' 'RAIN' 'DUST' 'FOG' 'UNKNOWN']\n",
      "New format Weather Condition ['Snow' 'Clear' 'Cloudy' 'Sleet or Hail' nan 'Wind' 'Rain' 'Fog'\n",
      " 'Blowing Snow' 'Freezing Rain or Freezing Drizzle' 'Dust']\n"
     ]
    }
   ],
   "source": [
    "# Convert WEATHER (old column) to Weather Condition (new column)\n",
    "# TODO - CONVERT EQUIVALENT WORDS\n",
    "old_column = 'WEATHER'\n",
    "new_column = 'Weather Condition'\n",
    "\n",
    "print(f\"Old format {old_column}\", cdot_old_pdf[old_column].unique())\n",
    "print(f\"New format {new_column}\", cdot_new_pdf[new_column].unique())\n",
    "\n",
    "#cdot_old_converted_pdf[new_column] = None\n",
    "#print(f\"Old converted format {new_column}\", cdot_old_converted_pdf[new_column].unique())"
   ]
  },
  {
   "cell_type": "code",
   "execution_count": 60,
   "id": "c909871d-e3c3-4480-856b-5ae13bff08b0",
   "metadata": {},
   "outputs": [
    {
     "name": "stdout",
     "output_type": "stream",
     "text": [
      "New format Weather Condition 2 [nan 'Clear' 'Sleet or Hail' 'Wind' 'Cloudy' 'Fog' 'Rain' 'Snow'\n",
      " 'Freezing Rain or Freezing Drizzle' 'Blowing Snow' 'Dust']\n",
      "Old converted format Weather Condition 2 [None]\n"
     ]
    }
   ],
   "source": [
    "# Convert No Column (old column) to Weather Condition (new column)\n",
    "# Create empty column\n",
    "old_column = ''\n",
    "new_column = 'Weather Condition 2'\n",
    "\n",
    "#print(f\"Old format {old_column}\", cdot_old_pdf[old_column].unique())\n",
    "print(f\"New format {new_column}\", cdot_new_pdf[new_column].unique())\n",
    "\n",
    "cdot_old_converted_pdf[new_column] = None\n",
    "print(f\"Old converted format {new_column}\", cdot_old_converted_pdf[new_column].unique())"
   ]
  },
  {
   "cell_type": "code",
   "execution_count": 61,
   "id": "69abef49-3c77-4c38-926d-ec33c0201b18",
   "metadata": {},
   "outputs": [
    {
     "name": "stdout",
     "output_type": "stream",
     "text": [
      "New format Lane Position ['W02' 'S02' 'S03' 'E01' 'N01' 'N03' 'W03' 'S01' nan 'E03' 'WRS' 'E02'\n",
      " 'W01' 'W04' 'N12' '002' 'SRS' 'N02' 'ELS' 'ERS' 'NLS' 'S04' 'SLS' 'NRS'\n",
      " 'N05' 'N04' 'WLS' 'S05' '00' '1' 'E04' 'E05' '01' '001' 'W05' 'SB1' '02'\n",
      " '000' 'N06' '0' 'S06' '08' 'E06' 'S07' '3' '010' '2' 'E1' 'W12' 'OLS'\n",
      " 'N1' 'W06' 'ORS' 'L01' 'W07' 'N00' 'S2' '1&2' 'E00' 'EE0' 'NB1' 'EXP'\n",
      " '07' 'W00' 'E11' 'S12' 'SB' 'E12' 'D02' 'E3' 'S1' 'N0S' 'RS1' 'S00' 'N07'\n",
      " '03' 'W11' '003' '0HR' 'S4' 'N2' '01N' 'SB2' 'EOS' 'RS' 'E07' '01E' 'E2'\n",
      " 'NB2' 'A01' 'S' 'EB3' 'E10' 'EB1' 'E4' '04' '1RS' 'EB2' '004' '01S' '01W'\n",
      " 'S20' '05' '00X' '7' 'R' '012' '09' 'B1' 'E' '100' 'EB' '0RS' 'TL3' 'W'\n",
      " 'NB3' 'N' 'SS1' '31' 'W1' '10' '4' 'B01' '0LS' '12' 'N10' 'X00' 'WR'\n",
      " 'SS0' 'S10' 'W08' '06' 'LS2' '020' 'LS0' '300' 'NB5' 'NBS' 'W10' 'SBS'\n",
      " 'N34' 'T01' 'W2' 'S\\\\0' 'E20' 'RNS' '5']\n",
      "Old converted format Lane Position [None]\n"
     ]
    }
   ],
   "source": [
    "# Convert No Column (old column) to Lane Position (new column)\n",
    "# Create empty column\n",
    "old_column = ''\n",
    "new_column = 'Lane Position'\n",
    "\n",
    "#print(f\"Old format {old_column}\", cdot_old_pdf[old_column].unique())\n",
    "print(f\"New format {new_column}\", cdot_new_pdf[new_column].unique())\n",
    "\n",
    "cdot_old_converted_pdf[new_column] = None\n",
    "print(f\"Old converted format {new_column}\", cdot_old_converted_pdf[new_column].unique())"
   ]
  },
  {
   "cell_type": "code",
   "execution_count": 63,
   "id": "ed297731-3c69-40d5-a76c-04470490e70c",
   "metadata": {},
   "outputs": [
    {
     "name": "stdout",
     "output_type": "stream",
     "text": [
      "New format Record Status ['Coded']\n",
      "Old converted format Record Status [None]\n"
     ]
    }
   ],
   "source": [
    "# Convert No Column (old column) to Record Status (new column)\n",
    "# Create empty column\n",
    "old_column = ''\n",
    "new_column = 'Record Status'\n",
    "\n",
    "#print(f\"Old format {old_column}\", cdot_old_pdf[old_column].unique())\n",
    "print(f\"New format {new_column}\", cdot_new_pdf[new_column].unique())\n",
    "\n",
    "cdot_old_converted_pdf[new_column] = None\n",
    "print(f\"Old converted format {new_column}\", cdot_old_converted_pdf[new_column].unique())"
   ]
  },
  {
   "cell_type": "code",
   "execution_count": 64,
   "id": "caa46e7e-6767-4af5-933c-719d1e3900e7",
   "metadata": {},
   "outputs": [
    {
     "name": "stdout",
     "output_type": "stream",
     "text": [
      "New format Processing Status ['Completed']\n",
      "Old converted format Processing Status [None]\n"
     ]
    }
   ],
   "source": [
    "# Convert No Column (old column) to Processing Status (new column)\n",
    "# Create empty column\n",
    "old_column = ''\n",
    "new_column = 'Processing Status'\n",
    "\n",
    "#print(f\"Old format {old_column}\", cdot_old_pdf[old_column].unique())\n",
    "print(f\"New format {new_column}\", cdot_new_pdf[new_column].unique())\n",
    "\n",
    "cdot_old_converted_pdf[new_column] = None\n",
    "print(f\"Old converted format {new_column}\", cdot_old_converted_pdf[new_column].unique())"
   ]
  },
  {
   "cell_type": "code",
   "execution_count": 65,
   "id": "89b41d0c-5af3-4372-8eec-6f23565a641f",
   "metadata": {},
   "outputs": [
    {
     "name": "stdout",
     "output_type": "stream",
     "text": [
      "New format Last Updated ['Aug  4 2023 11:35PM' 'Apr  6 2023 10:08PM' 'Feb  8 2023  8:29PM' ...\n",
      " 'May 15 2024  7:57PM' 'Feb 26 2024  9:44PM' 'Jul 18 2024 11:20PM']\n",
      "Old converted format Last Updated [None]\n"
     ]
    }
   ],
   "source": [
    "# Convert No Column (old column) to Last Updated (new column)\n",
    "# Create empty column\n",
    "old_column = ''\n",
    "new_column = 'Last Updated'\n",
    "\n",
    "#print(f\"Old format {old_column}\", cdot_old_pdf[old_column].unique())\n",
    "print(f\"New format {new_column}\", cdot_new_pdf[new_column].unique())\n",
    "\n",
    "cdot_old_converted_pdf[new_column] = None\n",
    "print(f\"Old converted format {new_column}\", cdot_old_converted_pdf[new_column].unique())"
   ]
  },
  {
   "cell_type": "code",
   "execution_count": null,
   "id": "b453c97d-da9a-445d-9e11-7a2caa8ab521",
   "metadata": {},
   "outputs": [],
   "source": []
  }
 ],
 "metadata": {
  "kernelspec": {
   "display_name": "Python 3 (ipykernel)",
   "language": "python",
   "name": "python3"
  },
  "language_info": {
   "codemirror_mode": {
    "name": "ipython",
    "version": 3
   },
   "file_extension": ".py",
   "mimetype": "text/x-python",
   "name": "python",
   "nbconvert_exporter": "python",
   "pygments_lexer": "ipython3",
   "version": "3.13.1"
  }
 },
 "nbformat": 4,
 "nbformat_minor": 5
}
