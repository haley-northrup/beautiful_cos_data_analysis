{
 "cells": [
  {
   "cell_type": "markdown",
   "id": "8a04ce42-ce3a-42e2-827a-37f40b87c2a8",
   "metadata": {},
   "source": [
    "## People Centered COS\n",
    "\n",
    "### Crash Counts by Geography (county, city, zip code) and Time"
   ]
  },
  {
   "cell_type": "markdown",
   "id": "7178ae8d-e857-4df1-9922-d1f2d13c22d4",
   "metadata": {},
   "source": [
    "#### Analysis Questions\n",
    "  \n",
    "- How many recorded crashes were there in each county?\n",
    "    - by year?\n",
    "- How many recorded crashes were there in each city?\n",
    "    - by year?\n",
    "- How many recorded crashes were there in El Paso County?\n",
    "    - by city? (Colorado Springs, Calhan, Fountain, Green Mountain Falls, Manitou Springs, Monument, Palmer Lake, and Ramah) \n",
    "    - by zip code?\n",
    "    - by year? "
   ]
  },
  {
   "cell_type": "markdown",
   "id": "3e7597d6-f5c3-4278-b138-c88e3d32cd3e",
   "metadata": {},
   "source": [
    "#### Questions for CDOT\n",
    "\n",
    "1. How to determine city when not specified? Is there a reason city would be missing?\n"
   ]
  },
  {
   "cell_type": "markdown",
   "id": "eaa175b8-1279-4340-aab5-3d6d8f0ec904",
   "metadata": {},
   "source": [
    "### Set Up "
   ]
  },
  {
   "cell_type": "code",
   "execution_count": 1,
   "id": "9cc53d27-91a8-4704-a07d-490a24de5e5e",
   "metadata": {},
   "outputs": [
    {
     "name": "stdout",
     "output_type": "stream",
     "text": [
      "Requirement already satisfied: plotly in /opt/homebrew/Cellar/jupyterlab/4.3.4_1/libexec/lib/python3.13/site-packages (6.0.1)\n",
      "Requirement already satisfied: narwhals>=1.15.1 in /opt/homebrew/Cellar/jupyterlab/4.3.4_1/libexec/lib/python3.13/site-packages (from plotly) (1.35.0)\n",
      "Requirement already satisfied: packaging in /opt/homebrew/Cellar/jupyterlab/4.3.4_1/libexec/lib/python3.13/site-packages (from plotly) (24.2)\n",
      "\n",
      "\u001b[1m[\u001b[0m\u001b[34;49mnotice\u001b[0m\u001b[1;39;49m]\u001b[0m\u001b[39;49m A new release of pip is available: \u001b[0m\u001b[31;49m24.3.1\u001b[0m\u001b[39;49m -> \u001b[0m\u001b[32;49m25.0.1\u001b[0m\n",
      "\u001b[1m[\u001b[0m\u001b[34;49mnotice\u001b[0m\u001b[1;39;49m]\u001b[0m\u001b[39;49m To update, run: \u001b[0m\u001b[32;49m/opt/homebrew/Cellar/jupyterlab/4.3.4_1/libexec/bin/python -m pip install --upgrade pip\u001b[0m\n",
      "Note: you may need to restart the kernel to use updated packages.\n"
     ]
    }
   ],
   "source": [
    "pip install plotly"
   ]
  },
  {
   "cell_type": "code",
   "execution_count": 2,
   "id": "75f0bfcd-e3e5-45cb-9d79-0b48fa205c60",
   "metadata": {},
   "outputs": [
    {
     "name": "stdout",
     "output_type": "stream",
     "text": [
      "Requirement already satisfied: pandas in /opt/homebrew/Cellar/jupyterlab/4.3.4_1/libexec/lib/python3.13/site-packages (2.2.3)\n",
      "Requirement already satisfied: numpy>=1.26.0 in /opt/homebrew/Cellar/jupyterlab/4.3.4_1/libexec/lib/python3.13/site-packages (from pandas) (2.2.1)\n",
      "Requirement already satisfied: python-dateutil>=2.8.2 in /opt/homebrew/Cellar/jupyterlab/4.3.4_1/libexec/lib/python3.13/site-packages (from pandas) (2.9.0.post0)\n",
      "Requirement already satisfied: pytz>=2020.1 in /opt/homebrew/Cellar/jupyterlab/4.3.4_1/libexec/lib/python3.13/site-packages (from pandas) (2024.2)\n",
      "Requirement already satisfied: tzdata>=2022.7 in /opt/homebrew/Cellar/jupyterlab/4.3.4_1/libexec/lib/python3.13/site-packages (from pandas) (2024.2)\n",
      "Requirement already satisfied: six>=1.5 in /opt/homebrew/Cellar/jupyterlab/4.3.4_1/libexec/lib/python3.13/site-packages (from python-dateutil>=2.8.2->pandas) (1.17.0)\n",
      "\n",
      "\u001b[1m[\u001b[0m\u001b[34;49mnotice\u001b[0m\u001b[1;39;49m]\u001b[0m\u001b[39;49m A new release of pip is available: \u001b[0m\u001b[31;49m24.3.1\u001b[0m\u001b[39;49m -> \u001b[0m\u001b[32;49m25.0.1\u001b[0m\n",
      "\u001b[1m[\u001b[0m\u001b[34;49mnotice\u001b[0m\u001b[1;39;49m]\u001b[0m\u001b[39;49m To update, run: \u001b[0m\u001b[32;49m/opt/homebrew/Cellar/jupyterlab/4.3.4_1/libexec/bin/python -m pip install --upgrade pip\u001b[0m\n",
      "Note: you may need to restart the kernel to use updated packages.\n"
     ]
    }
   ],
   "source": [
    "pip install pandas"
   ]
  },
  {
   "cell_type": "code",
   "execution_count": 3,
   "id": "625c97c1-9f40-4506-9699-966743ebf523",
   "metadata": {},
   "outputs": [
    {
     "name": "stdout",
     "output_type": "stream",
     "text": [
      "Requirement already satisfied: openpyxl in /opt/homebrew/Cellar/jupyterlab/4.3.4_1/libexec/lib/python3.13/site-packages (3.1.5)\n",
      "Requirement already satisfied: et-xmlfile in /opt/homebrew/Cellar/jupyterlab/4.3.4_1/libexec/lib/python3.13/site-packages (from openpyxl) (2.0.0)\n",
      "\n",
      "\u001b[1m[\u001b[0m\u001b[34;49mnotice\u001b[0m\u001b[1;39;49m]\u001b[0m\u001b[39;49m A new release of pip is available: \u001b[0m\u001b[31;49m24.3.1\u001b[0m\u001b[39;49m -> \u001b[0m\u001b[32;49m25.0.1\u001b[0m\n",
      "\u001b[1m[\u001b[0m\u001b[34;49mnotice\u001b[0m\u001b[1;39;49m]\u001b[0m\u001b[39;49m To update, run: \u001b[0m\u001b[32;49m/opt/homebrew/Cellar/jupyterlab/4.3.4_1/libexec/bin/python -m pip install --upgrade pip\u001b[0m\n",
      "Note: you may need to restart the kernel to use updated packages.\n"
     ]
    }
   ],
   "source": [
    "pip install openpyxl"
   ]
  },
  {
   "cell_type": "code",
   "execution_count": 4,
   "id": "ed2a201e-e4bc-48b7-b5b9-57a26c558a4c",
   "metadata": {},
   "outputs": [],
   "source": [
    "import pandas as pd\n",
    "import matplotlib.pyplot as plt\n",
    "import plotly.express as px"
   ]
  },
  {
   "cell_type": "code",
   "execution_count": 5,
   "id": "238df8ab-663c-4f7d-a1a0-c4dd17854790",
   "metadata": {},
   "outputs": [],
   "source": [
    "pd.set_option('display.max_rows', 500)"
   ]
  },
  {
   "cell_type": "markdown",
   "id": "5d4534f3-f5e3-45f3-8058-1416481d4a01",
   "metadata": {},
   "source": [
    "### Load CDOT Data from 2020 - 2024"
   ]
  },
  {
   "cell_type": "code",
   "execution_count": 6,
   "id": "10aa1bc0-223c-43bc-b173-dffe1051f0b0",
   "metadata": {},
   "outputs": [],
   "source": [
    "import sys  \n",
    "sys.path.insert(1, '../')\n",
    "\n",
    "from convert_old_cdot_format_to_new_format import convert_old_cdot_format_to_new_format"
   ]
  },
  {
   "cell_type": "code",
   "execution_count": null,
   "id": "87f753af-9620-4c7e-af4a-46b03556ccc8",
   "metadata": {},
   "outputs": [
    {
     "name": "stdout",
     "output_type": "stream",
     "text": [
      "/Users/haley.northrup/Desktop/PeopleCenteredCOS/cdot_data/CDOTRM_CD_Crash_Listing_-_2020.xlsx\n",
      "['SYSTEM', 'RTE', 'SEC', 'MP', 'DATE']\n",
      "(86304, 85)\n"
     ]
    },
    {
     "name": "stderr",
     "output_type": "stream",
     "text": [
      "/Users/haley.northrup/Desktop/PeopleCenteredCOS/beautiful_cos_data_analysis/sandbox/../convert_old_cdot_format_to_new_format.py:403: PerformanceWarning: DataFrame is highly fragmented.  This is usually the result of calling `frame.insert` many times, which has poor performance.  Consider joining all columns at once using pd.concat(axis=1) instead. To get a de-fragmented frame, use `newframe = frame.copy()`\n",
      "  df[col_name] = ''\n",
      "/Users/haley.northrup/Desktop/PeopleCenteredCOS/beautiful_cos_data_analysis/sandbox/../convert_old_cdot_format_to_new_format.py:403: PerformanceWarning: DataFrame is highly fragmented.  This is usually the result of calling `frame.insert` many times, which has poor performance.  Consider joining all columns at once using pd.concat(axis=1) instead. To get a de-fragmented frame, use `newframe = frame.copy()`\n",
      "  df[col_name] = ''\n",
      "/Users/haley.northrup/Desktop/PeopleCenteredCOS/beautiful_cos_data_analysis/sandbox/../convert_old_cdot_format_to_new_format.py:403: PerformanceWarning: DataFrame is highly fragmented.  This is usually the result of calling `frame.insert` many times, which has poor performance.  Consider joining all columns at once using pd.concat(axis=1) instead. To get a de-fragmented frame, use `newframe = frame.copy()`\n",
      "  df[col_name] = ''\n",
      "/Users/haley.northrup/Desktop/PeopleCenteredCOS/beautiful_cos_data_analysis/sandbox/../convert_old_cdot_format_to_new_format.py:403: PerformanceWarning: DataFrame is highly fragmented.  This is usually the result of calling `frame.insert` many times, which has poor performance.  Consider joining all columns at once using pd.concat(axis=1) instead. To get a de-fragmented frame, use `newframe = frame.copy()`\n",
      "  df[col_name] = ''\n",
      "/Users/haley.northrup/Desktop/PeopleCenteredCOS/beautiful_cos_data_analysis/sandbox/../convert_old_cdot_format_to_new_format.py:403: PerformanceWarning: DataFrame is highly fragmented.  This is usually the result of calling `frame.insert` many times, which has poor performance.  Consider joining all columns at once using pd.concat(axis=1) instead. To get a de-fragmented frame, use `newframe = frame.copy()`\n",
      "  df[col_name] = ''\n",
      "/Users/haley.northrup/Desktop/PeopleCenteredCOS/beautiful_cos_data_analysis/sandbox/../convert_old_cdot_format_to_new_format.py:403: PerformanceWarning: DataFrame is highly fragmented.  This is usually the result of calling `frame.insert` many times, which has poor performance.  Consider joining all columns at once using pd.concat(axis=1) instead. To get a de-fragmented frame, use `newframe = frame.copy()`\n",
      "  df[col_name] = ''\n",
      "/Users/haley.northrup/Desktop/PeopleCenteredCOS/beautiful_cos_data_analysis/sandbox/../convert_old_cdot_format_to_new_format.py:403: PerformanceWarning: DataFrame is highly fragmented.  This is usually the result of calling `frame.insert` many times, which has poor performance.  Consider joining all columns at once using pd.concat(axis=1) instead. To get a de-fragmented frame, use `newframe = frame.copy()`\n",
      "  df[col_name] = ''\n",
      "/Users/haley.northrup/Desktop/PeopleCenteredCOS/beautiful_cos_data_analysis/sandbox/../convert_old_cdot_format_to_new_format.py:403: PerformanceWarning: DataFrame is highly fragmented.  This is usually the result of calling `frame.insert` many times, which has poor performance.  Consider joining all columns at once using pd.concat(axis=1) instead. To get a de-fragmented frame, use `newframe = frame.copy()`\n",
      "  df[col_name] = ''\n",
      "/Users/haley.northrup/Desktop/PeopleCenteredCOS/beautiful_cos_data_analysis/sandbox/../convert_old_cdot_format_to_new_format.py:403: PerformanceWarning: DataFrame is highly fragmented.  This is usually the result of calling `frame.insert` many times, which has poor performance.  Consider joining all columns at once using pd.concat(axis=1) instead. To get a de-fragmented frame, use `newframe = frame.copy()`\n",
      "  df[col_name] = ''\n",
      "/Users/haley.northrup/Desktop/PeopleCenteredCOS/beautiful_cos_data_analysis/sandbox/../convert_old_cdot_format_to_new_format.py:403: PerformanceWarning: DataFrame is highly fragmented.  This is usually the result of calling `frame.insert` many times, which has poor performance.  Consider joining all columns at once using pd.concat(axis=1) instead. To get a de-fragmented frame, use `newframe = frame.copy()`\n",
      "  df[col_name] = ''\n",
      "/Users/haley.northrup/Desktop/PeopleCenteredCOS/beautiful_cos_data_analysis/sandbox/../convert_old_cdot_format_to_new_format.py:403: PerformanceWarning: DataFrame is highly fragmented.  This is usually the result of calling `frame.insert` many times, which has poor performance.  Consider joining all columns at once using pd.concat(axis=1) instead. To get a de-fragmented frame, use `newframe = frame.copy()`\n",
      "  df[col_name] = ''\n",
      "/Users/haley.northrup/Desktop/PeopleCenteredCOS/beautiful_cos_data_analysis/sandbox/../convert_old_cdot_format_to_new_format.py:403: PerformanceWarning: DataFrame is highly fragmented.  This is usually the result of calling `frame.insert` many times, which has poor performance.  Consider joining all columns at once using pd.concat(axis=1) instead. To get a de-fragmented frame, use `newframe = frame.copy()`\n",
      "  df[col_name] = ''\n",
      "/Users/haley.northrup/Desktop/PeopleCenteredCOS/beautiful_cos_data_analysis/sandbox/../convert_old_cdot_format_to_new_format.py:403: PerformanceWarning: DataFrame is highly fragmented.  This is usually the result of calling `frame.insert` many times, which has poor performance.  Consider joining all columns at once using pd.concat(axis=1) instead. To get a de-fragmented frame, use `newframe = frame.copy()`\n",
      "  df[col_name] = ''\n",
      "/Users/haley.northrup/Desktop/PeopleCenteredCOS/beautiful_cos_data_analysis/sandbox/../convert_old_cdot_format_to_new_format.py:403: PerformanceWarning: DataFrame is highly fragmented.  This is usually the result of calling `frame.insert` many times, which has poor performance.  Consider joining all columns at once using pd.concat(axis=1) instead. To get a de-fragmented frame, use `newframe = frame.copy()`\n",
      "  df[col_name] = ''\n",
      "/Users/haley.northrup/Desktop/PeopleCenteredCOS/beautiful_cos_data_analysis/sandbox/../convert_old_cdot_format_to_new_format.py:403: PerformanceWarning: DataFrame is highly fragmented.  This is usually the result of calling `frame.insert` many times, which has poor performance.  Consider joining all columns at once using pd.concat(axis=1) instead. To get a de-fragmented frame, use `newframe = frame.copy()`\n",
      "  df[col_name] = ''\n",
      "/Users/haley.northrup/Desktop/PeopleCenteredCOS/beautiful_cos_data_analysis/sandbox/../convert_old_cdot_format_to_new_format.py:417: PerformanceWarning: DataFrame is highly fragmented.  This is usually the result of calling `frame.insert` many times, which has poor performance.  Consider joining all columns at once using pd.concat(axis=1) instead. To get a de-fragmented frame, use `newframe = frame.copy()`\n",
      "  df.loc[condition_hit_and_run__true, f\"TU-{x} Hit And Run\"] = True\n",
      "/Users/haley.northrup/Desktop/PeopleCenteredCOS/beautiful_cos_data_analysis/sandbox/../convert_old_cdot_format_to_new_format.py:438: PerformanceWarning: DataFrame is highly fragmented.  This is usually the result of calling `frame.insert` many times, which has poor performance.  Consider joining all columns at once using pd.concat(axis=1) instead. To get a de-fragmented frame, use `newframe = frame.copy()`\n",
      "  df.loc[df[f\"vehicle_{x}_is_nm\"] == True, f\"TU-{x} NM Sex\"] = df[f\"SEX_{x}\"]\n",
      "/Users/haley.northrup/Desktop/PeopleCenteredCOS/beautiful_cos_data_analysis/sandbox/../convert_old_cdot_format_to_new_format.py:439: PerformanceWarning: DataFrame is highly fragmented.  This is usually the result of calling `frame.insert` many times, which has poor performance.  Consider joining all columns at once using pd.concat(axis=1) instead. To get a de-fragmented frame, use `newframe = frame.copy()`\n",
      "  df.loc[df[f\"vehicle_{x}_is_nm\"] == False, sex_col] = df[f\"SEX_{x}\"]\n",
      "/Users/haley.northrup/Desktop/PeopleCenteredCOS/beautiful_cos_data_analysis/sandbox/../convert_old_cdot_format_to_new_format.py:446: PerformanceWarning: DataFrame is highly fragmented.  This is usually the result of calling `frame.insert` many times, which has poor performance.  Consider joining all columns at once using pd.concat(axis=1) instead. To get a de-fragmented frame, use `newframe = frame.copy()`\n",
      "  df.loc[df[f\"vehicle_{x}_is_nm\"] == False, safety_helmet_col] = df[f\"CYCPROT_{x}\"].map(map_helmet_x_old_to_new)\n",
      "/Users/haley.northrup/Desktop/PeopleCenteredCOS/beautiful_cos_data_analysis/sandbox/../convert_old_cdot_format_to_new_format.py:467: PerformanceWarning: DataFrame is highly fragmented.  This is usually the result of calling `frame.insert` many times, which has poor performance.  Consider joining all columns at once using pd.concat(axis=1) instead. To get a de-fragmented frame, use `newframe = frame.copy()`\n",
      "  df.loc[condition_motorist & condition_no_impairment, marijuana_suspected_col] = 'Marijuana Not Suspected'\n"
     ]
    },
    {
     "name": "stdout",
     "output_type": "stream",
     "text": [
      "/Users/haley.northrup/Desktop/PeopleCenteredCOS/cdot_data/CDOTRM_CD_Crash_Listing_-_2021.xlsx\n",
      "['CUID', 'System Code', 'Rd_Number', 'Rd_Section', 'City_Street']\n",
      "(97848, 111)\n",
      "/Users/haley.northrup/Desktop/PeopleCenteredCOS/cdot_data/CDOTRM_CD_Crash_Listing_-_2022.xlsx\n",
      "['CUID', 'System Code', 'Rd_Number', 'Rd_Section', 'City_Street']\n",
      "(95431, 111)\n",
      "/Users/haley.northrup/Desktop/PeopleCenteredCOS/cdot_data/CDOTRM_CD_Crash_Listing_-_2023.xlsx\n"
     ]
    }
   ],
   "source": [
    "# Load CDOT Data for a list of years\n",
    "\n",
    "years = [2020, 2021, 2022, 2023, 2024]\n",
    "\n",
    "cdot_base_path = \"/Users/haley.northrup/Desktop/PeopleCenteredCOS/cdot_data/\"\n",
    "\n",
    "loaded_data_list = []\n",
    "for y in years:\n",
    "    filename = f\"CDOTRM_CD_Crash_Listing_-_{y}.xlsx\"\n",
    "    full_path = cdot_base_path + filename\n",
    "    print(full_path)\n",
    "    year_cdot_pdf = pd.read_excel(cdot_base_path + filename)\n",
    "    year_cdot_pdf['Crash year'] = y\n",
    "    print(list(year_cdot_pdf.columns)[0:5])\n",
    "    print(year_cdot_pdf.shape)\n",
    "    \n",
    "    if y < 2021:\n",
    "        # call conversion code \n",
    "        year_cdot_pdf = convert_old_cdot_format_to_new_format(year_cdot_pdf)\n",
    "\n",
    "    loaded_data_list.append(year_cdot_pdf) \n",
    "    \n",
    "cdot_pdf_load = pd.concat(loaded_data_list)"
   ]
  },
  {
   "cell_type": "code",
   "execution_count": null,
   "id": "3f2e16fb-9e44-4ea9-bb09-dfaaa1370d9c",
   "metadata": {},
   "outputs": [],
   "source": [
    "print(cdot_pdf_load.shape)\n",
    "cdot_pdf_withNans_dedup = cdot_pdf_load.drop_duplicates()\n",
    "print('after drop duplicates', cdot_pdf.shape)\n",
    "display(cdot_pdf_withNans_dedup.head(5))"
   ]
  },
  {
   "cell_type": "code",
   "execution_count": null,
   "id": "de528b38-70c3-4ac6-9681-8aac973f0f39",
   "metadata": {},
   "outputs": [],
   "source": [
    "print(list(cdot_pdf.columns))"
   ]
  },
  {
   "cell_type": "code",
   "execution_count": null,
   "id": "a0e1d138-c5b0-4bc9-9312-37e4641589d4",
   "metadata": {},
   "outputs": [],
   "source": [
    "# check NaN count by column \n",
    "for col in cdot_pdf_withNans_dedup.columns:\n",
    "    print(col, cdot_pdf_withNans_dedup.loc[cdot_pdf_withNans_dedup[col].isna()].shape[0])"
   ]
  },
  {
   "cell_type": "code",
   "execution_count": null,
   "id": "a5328d5c-ad1e-47fa-b8cf-0f04ef6f53bf",
   "metadata": {},
   "outputs": [],
   "source": [
    "# select a column to count by since Pandas will show groupby counts for every column otherwise \n",
    "# Crash Date is only missing for one crash (2020 - 2024) \n",
    "count_column = 'Crash Date' "
   ]
  },
  {
   "cell_type": "code",
   "execution_count": null,
   "id": "9eb69c77-2918-40b6-8628-f4ae5cabe4de",
   "metadata": {},
   "outputs": [],
   "source": [
    "# fill null values that screw up counting\n",
    "# Separate columns by data type\n",
    "string_cols = cdot_pdf_withNans_dedup.select_dtypes(include='object').columns\n",
    "int_cols = cdot_pdf_withNans_dedup.select_dtypes(include=['int64', 'float64']).columns\n",
    "\n",
    "cdot_pdf = cdot_pdfwithNans_dedup.copy()\n",
    "    \n",
    "# Fill NaN values \n",
    "cdot_pdf[string_cols] = cdot_pdf[string_cols].fillna('N/A')\n",
    "cdot_pdf[int_cols] = cdot_pdf[int_cols].fillna(-1)"
   ]
  },
  {
   "cell_type": "code",
   "execution_count": null,
   "id": "32894249-f346-4552-bd50-9c0e888b2c05",
   "metadata": {},
   "outputs": [],
   "source": [
    "# check NaN count by column \n",
    "for col in cdot_pdf.columns:\n",
    "    print(col, cdot_pdf.loc[cdot_pdf[col].isna()].shape[0])"
   ]
  },
  {
   "cell_type": "markdown",
   "id": "317f5873-b2cc-4a4a-8470-133614ee1ca6",
   "metadata": {},
   "source": [
    "### Get Counts by County"
   ]
  },
  {
   "cell_type": "code",
   "execution_count": null,
   "id": "1dc234cc-b314-4920-9a9b-4df7291e34ad",
   "metadata": {},
   "outputs": [],
   "source": [
    "print(f\"Total crashes in {years}:\", cdot_pdf.shape[0]) "
   ]
  },
  {
   "cell_type": "code",
   "execution_count": null,
   "id": "b3b9e81f-3aae-4af1-9e01-c7c2178cec84",
   "metadata": {},
   "outputs": [],
   "source": [
    "# how many County values are not defined? \n",
    "print('crashes missing County info', cdot_pdf.loc[cdot_pdf['County'].isna()].shape[0])\n",
    "cdot_pdf = cdot_pdf.fillna({'County': 'county not specified'})\n",
    "print()\n",
    "\n",
    "# groupby county and count \n",
    "print(f\"Total crashes by county in {years}:\") \n",
    "gb_county = cdot_pdf.groupby('County').count()[count_column].reset_index().rename(columns={count_column:'Crash Count'})\n",
    "display(gb_county.sort_values(by='Crash Count', ascending=False))"
   ]
  },
  {
   "cell_type": "code",
   "execution_count": null,
   "id": "1a8d55ba-0fc7-4532-be69-6c52f123e221",
   "metadata": {},
   "outputs": [],
   "source": [
    "# How many crashes were there in the top 5 counties for the years?\n",
    "top5_counties = gb_county.sort_values(by='Crash Count', ascending=False).head(5)['County'].to_list()\n",
    "display(top5_counties)\n",
    "\n",
    "# Filter to top 5 counties\n",
    "cdot_pdf_top_5_counties = cdot_pdf.loc[cdot_pdf['County'].isin(top5_counties)] \n",
    "gb_county_year = cdot_pdf_top_5_counties.groupby(['County', 'Crash year']).count()[count_column].reset_index().rename(columns={count_column:'Crash Count'})\n",
    "display(gb_county_year)\n",
    "\n",
    "# Graph \n",
    "fig = px.bar(gb_county_year, x='Crash year', y='Crash Count', color='County', barmode='group')\n",
    "fig.show()"
   ]
  },
  {
   "cell_type": "markdown",
   "id": "25fc924f-ae2b-4814-88ee-5f9cbbaa4f5f",
   "metadata": {},
   "source": [
    "### Get Counts by City "
   ]
  },
  {
   "cell_type": "code",
   "execution_count": null,
   "id": "335db0f4-fcbf-4bb0-9fc2-f96ed4b66746",
   "metadata": {},
   "outputs": [],
   "source": [
    "# how many City values are not defined? \n",
    "print('crashes missing City info', cdot_pdf.loc[cdot_pdf['City'].isna()].shape[0])\n",
    "cdot_pdf = cdot_pdf.fillna({'City': 'city not specified'})\n",
    "print()\n",
    "\n",
    "# groupby City and count \n",
    "print(f\"Total crashes by city in {years}:\") \n",
    "gb_city = cdot_pdf.groupby('City').count()[count_column].reset_index().rename(columns={count_column:'Crash Count'})\n",
    "display(gb_city.sort_values(by='Crash Count', ascending=False))"
   ]
  },
  {
   "cell_type": "code",
   "execution_count": null,
   "id": "bb108967-48ca-443e-a2e8-a6543ed8bbd0",
   "metadata": {},
   "outputs": [],
   "source": [
    "# How many crashes were there in the top 5 cities for the years?\n",
    "top5_cities = gb_city.sort_values(by='Crash Count', ascending=False).head(5)['City'].to_list()\n",
    "display(top5_cities)\n",
    "\n",
    "# Filter to top 5 counties\n",
    "cdot_pdf_top_5_cities = cdot_pdf.loc[cdot_pdf['City'].isin(top5_cities)] \n",
    "gb_city_year = cdot_pdf_top_5_cities.groupby(['City', 'Crash year']).count()[count_column].reset_index().rename(columns={count_column:'Crash Count'})\n",
    "display(gb_city_year)\n",
    "\n",
    "# Graph \n",
    "fig = px.bar(gb_city_year, x='Crash year', y='Crash Count', color='City', barmode='group')\n",
    "fig.show()"
   ]
  },
  {
   "cell_type": "markdown",
   "id": "4435cb24-9e15-49da-8860-49780bb7def0",
   "metadata": {},
   "source": [
    "### Get Counts within El Paso County"
   ]
  },
  {
   "cell_type": "code",
   "execution_count": null,
   "id": "0da90356-4d59-4066-bea5-936b01752154",
   "metadata": {},
   "outputs": [],
   "source": [
    "# Filter to only el paso county\n",
    "cdot_elpaso_pdf = cdot_pdf.loc[cdot_pdf['County'] == 'EL PASO']\n",
    "\n",
    "print(f\"Total in El Paso county in {years}:\", cdot_elpaso_pdf.shape[0]) \n",
    "print(f\"El Paso county counts by year in {years}:\") \n",
    "display(gb_county_year.loc[gb_county_year['County'] == 'EL PASO'])"
   ]
  },
  {
   "cell_type": "code",
   "execution_count": null,
   "id": "3e804750-6ef1-48af-a79c-51795160caef",
   "metadata": {},
   "outputs": [],
   "source": [
    "# Is colorado springs not always listed as el paso county?\n",
    "cdot_pdf.loc[(cdot_pdf['City'] == 'COLORADO SPRINGS')].groupby('Crash year').count()"
   ]
  },
  {
   "cell_type": "code",
   "execution_count": null,
   "id": "daa5db57-1f45-4e7f-b3cd-9e97971a7a83",
   "metadata": {},
   "outputs": [],
   "source": [
    "# How does this break down by city in El Paso county?\n",
    "elpaso_cnty_cities = ['COLORADO SPRINGS', 'CALAHAN', 'FOUNTAIN', 'GREEN MOUNTAIN FALLS', 'MANITOU SPRINGS', 'MONUMENT',\n",
    "                      'PALMER LAKE', 'RAMAH']\n",
    "\n",
    "for ecity in elpaso_cnty_cities:\n",
    "    for y in years:\n",
    "        print(f\"City: {ecity}, Year: {y}\")\n",
    "        print(cdot_pdf.loc[(cdot_pdf['City'] == ecity) & (cdot_pdf['Crash year'] == y)].shape[0])"
   ]
  },
  {
   "cell_type": "code",
   "execution_count": null,
   "id": "9e1531fa-0030-46e1-8c59-22595b358fbd",
   "metadata": {},
   "outputs": [],
   "source": []
  }
 ],
 "metadata": {
  "kernelspec": {
   "display_name": "Python 3 (ipykernel)",
   "language": "python",
   "name": "python3"
  },
  "language_info": {
   "codemirror_mode": {
    "name": "ipython",
    "version": 3
   },
   "file_extension": ".py",
   "mimetype": "text/x-python",
   "name": "python",
   "nbconvert_exporter": "python",
   "pygments_lexer": "ipython3",
   "version": "3.13.1"
  }
 },
 "nbformat": 4,
 "nbformat_minor": 5
}
