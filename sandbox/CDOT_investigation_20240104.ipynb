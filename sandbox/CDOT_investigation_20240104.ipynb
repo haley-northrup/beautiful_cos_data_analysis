{
 "cells": [
  {
   "cell_type": "markdown",
   "id": "8a04ce42-ce3a-42e2-827a-37f40b87c2a8",
   "metadata": {},
   "source": [
    "## People Centered COS - Investigate CDOT data \n",
    "\n"
   ]
  },
  {
   "cell_type": "code",
   "execution_count": 1,
   "id": "75f0bfcd-e3e5-45cb-9d79-0b48fa205c60",
   "metadata": {},
   "outputs": [
    {
     "name": "stdout",
     "output_type": "stream",
     "text": [
      "Requirement already satisfied: pandas in /opt/homebrew/Cellar/jupyterlab/4.3.4_1/libexec/lib/python3.13/site-packages (2.2.3)\n",
      "Requirement already satisfied: numpy>=1.26.0 in /opt/homebrew/Cellar/jupyterlab/4.3.4_1/libexec/lib/python3.13/site-packages (from pandas) (2.2.1)\n",
      "Requirement already satisfied: python-dateutil>=2.8.2 in /opt/homebrew/Cellar/jupyterlab/4.3.4_1/libexec/lib/python3.13/site-packages (from pandas) (2.9.0.post0)\n",
      "Requirement already satisfied: pytz>=2020.1 in /opt/homebrew/Cellar/jupyterlab/4.3.4_1/libexec/lib/python3.13/site-packages (from pandas) (2024.2)\n",
      "Requirement already satisfied: tzdata>=2022.7 in /opt/homebrew/Cellar/jupyterlab/4.3.4_1/libexec/lib/python3.13/site-packages (from pandas) (2024.2)\n",
      "Requirement already satisfied: six>=1.5 in /opt/homebrew/Cellar/jupyterlab/4.3.4_1/libexec/lib/python3.13/site-packages (from python-dateutil>=2.8.2->pandas) (1.17.0)\n",
      "Note: you may need to restart the kernel to use updated packages.\n"
     ]
    }
   ],
   "source": [
    "pip install pandas"
   ]
  },
  {
   "cell_type": "code",
   "execution_count": 2,
   "id": "625c97c1-9f40-4506-9699-966743ebf523",
   "metadata": {},
   "outputs": [
    {
     "name": "stdout",
     "output_type": "stream",
     "text": [
      "Requirement already satisfied: openpyxl in /opt/homebrew/Cellar/jupyterlab/4.3.4_1/libexec/lib/python3.13/site-packages (3.1.5)\n",
      "Requirement already satisfied: et-xmlfile in /opt/homebrew/Cellar/jupyterlab/4.3.4_1/libexec/lib/python3.13/site-packages (from openpyxl) (2.0.0)\n",
      "Note: you may need to restart the kernel to use updated packages.\n"
     ]
    }
   ],
   "source": [
    "pip install openpyxl"
   ]
  },
  {
   "cell_type": "code",
   "execution_count": 3,
   "id": "ed2a201e-e4bc-48b7-b5b9-57a26c558a4c",
   "metadata": {},
   "outputs": [],
   "source": [
    "import pandas as pd"
   ]
  },
  {
   "cell_type": "markdown",
   "id": "5d4534f3-f5e3-45f3-8058-1416481d4a01",
   "metadata": {},
   "source": [
    "### Load Data"
   ]
  },
  {
   "cell_type": "code",
   "execution_count": 4,
   "id": "87f753af-9620-4c7e-af4a-46b03556ccc8",
   "metadata": {},
   "outputs": [],
   "source": [
    "# Load CDOT Data from a specific year\n",
    "\n",
    "year = 2023\n",
    "\n",
    "cdot_base_path = \"/Users/haley.northrup/Desktop/PeopleCenteredCOS/cdot_data/\"\n",
    "\n",
    "filename = f\"CDOTRM_CD_Crash_Listing_-_{year}.xlsx\""
   ]
  },
  {
   "cell_type": "code",
   "execution_count": 5,
   "id": "a815649a-c0b7-456a-aed8-23834a0a8526",
   "metadata": {},
   "outputs": [
    {
     "name": "stdout",
     "output_type": "stream",
     "text": [
      "/Users/haley.northrup/Desktop/PeopleCenteredCOS/cdot_data/CDOTRM_CD_Crash_Listing_-_2023.xlsx\n"
     ]
    }
   ],
   "source": [
    "full_path = cdot_base_path + filename\n",
    "print(full_path)"
   ]
  },
  {
   "cell_type": "code",
   "execution_count": 6,
   "id": "00f9232f-adeb-403b-a365-6c8b1ff6c122",
   "metadata": {},
   "outputs": [],
   "source": [
    "cdot_pdf = pd.read_excel(cdot_base_path + filename)"
   ]
  },
  {
   "cell_type": "code",
   "execution_count": 7,
   "id": "3f2e16fb-9e44-4ea9-bb09-dfaaa1370d9c",
   "metadata": {},
   "outputs": [
    {
     "data": {
      "text/html": [
       "<div>\n",
       "<style scoped>\n",
       "    .dataframe tbody tr th:only-of-type {\n",
       "        vertical-align: middle;\n",
       "    }\n",
       "\n",
       "    .dataframe tbody tr th {\n",
       "        vertical-align: top;\n",
       "    }\n",
       "\n",
       "    .dataframe thead th {\n",
       "        text-align: right;\n",
       "    }\n",
       "</style>\n",
       "<table border=\"1\" class=\"dataframe\">\n",
       "  <thead>\n",
       "    <tr style=\"text-align: right;\">\n",
       "      <th></th>\n",
       "      <th>CUID</th>\n",
       "      <th>System Code</th>\n",
       "      <th>Rd_Number</th>\n",
       "      <th>Rd_Section</th>\n",
       "      <th>City_Street</th>\n",
       "      <th>Crash Date</th>\n",
       "      <th>Crash Time</th>\n",
       "      <th>Agency Id</th>\n",
       "      <th>City</th>\n",
       "      <th>County</th>\n",
       "      <th>...</th>\n",
       "      <th>TU-2 NM Safety Helmet</th>\n",
       "      <th>TU-1 NM Alcohol Suspected</th>\n",
       "      <th>TU-2 NM Alcohol Suspected</th>\n",
       "      <th>TU-1 NM Marijuana Suspected</th>\n",
       "      <th>TU-2 NM Marijuana Suspected</th>\n",
       "      <th>TU-1 NM Other Drugs Suspected</th>\n",
       "      <th>TU-2 NM Other Drugs Suspected</th>\n",
       "      <th>Record Status</th>\n",
       "      <th>Processing Status</th>\n",
       "      <th>Last Updated</th>\n",
       "    </tr>\n",
       "  </thead>\n",
       "  <tbody>\n",
       "    <tr>\n",
       "      <th>0</th>\n",
       "      <td>296027</td>\n",
       "      <td>City Street</td>\n",
       "      <td>0455</td>\n",
       "      <td>VERMO</td>\n",
       "      <td>TIMBE</td>\n",
       "      <td>2023-01-01</td>\n",
       "      <td>00:00:00</td>\n",
       "      <td>FTCPD</td>\n",
       "      <td>FORT COLLINS</td>\n",
       "      <td>LARIMER</td>\n",
       "      <td>...</td>\n",
       "      <td>NaN</td>\n",
       "      <td>NaN</td>\n",
       "      <td>NaN</td>\n",
       "      <td>NaN</td>\n",
       "      <td>NaN</td>\n",
       "      <td>NaN</td>\n",
       "      <td>NaN</td>\n",
       "      <td>Coded</td>\n",
       "      <td>Completed</td>\n",
       "      <td>Aug  4 2023 11:35PM</td>\n",
       "    </tr>\n",
       "    <tr>\n",
       "      <th>1</th>\n",
       "      <td>299624</td>\n",
       "      <td>City Street</td>\n",
       "      <td>0455</td>\n",
       "      <td>HARMO</td>\n",
       "      <td>TIMBE</td>\n",
       "      <td>2023-01-01</td>\n",
       "      <td>00:03:00</td>\n",
       "      <td>FTCPD</td>\n",
       "      <td>FORT COLLINS</td>\n",
       "      <td>LARIMER</td>\n",
       "      <td>...</td>\n",
       "      <td>NaN</td>\n",
       "      <td>NaN</td>\n",
       "      <td>NaN</td>\n",
       "      <td>NaN</td>\n",
       "      <td>NaN</td>\n",
       "      <td>NaN</td>\n",
       "      <td>NaN</td>\n",
       "      <td>Coded</td>\n",
       "      <td>Completed</td>\n",
       "      <td>Apr  6 2023 10:08PM</td>\n",
       "    </tr>\n",
       "    <tr>\n",
       "      <th>2</th>\n",
       "      <td>289075</td>\n",
       "      <td>City Street</td>\n",
       "      <td>0320</td>\n",
       "      <td>KALAM</td>\n",
       "      <td>CEDAR</td>\n",
       "      <td>2023-01-01</td>\n",
       "      <td>00:09:00</td>\n",
       "      <td>DPD</td>\n",
       "      <td>DENVER</td>\n",
       "      <td>DENVER</td>\n",
       "      <td>...</td>\n",
       "      <td>NaN</td>\n",
       "      <td>NaN</td>\n",
       "      <td>NaN</td>\n",
       "      <td>NaN</td>\n",
       "      <td>NaN</td>\n",
       "      <td>NaN</td>\n",
       "      <td>NaN</td>\n",
       "      <td>Coded</td>\n",
       "      <td>Completed</td>\n",
       "      <td>Feb  8 2023  8:29PM</td>\n",
       "    </tr>\n",
       "    <tr>\n",
       "      <th>3</th>\n",
       "      <td>293978</td>\n",
       "      <td>City Street</td>\n",
       "      <td>0055</td>\n",
       "      <td>LINVA</td>\n",
       "      <td>LARED</td>\n",
       "      <td>2023-01-01</td>\n",
       "      <td>00:16:00</td>\n",
       "      <td>AURPD</td>\n",
       "      <td>AURORA</td>\n",
       "      <td>ARAPAHOE</td>\n",
       "      <td>...</td>\n",
       "      <td>NaN</td>\n",
       "      <td>NaN</td>\n",
       "      <td>NaN</td>\n",
       "      <td>NaN</td>\n",
       "      <td>NaN</td>\n",
       "      <td>NaN</td>\n",
       "      <td>NaN</td>\n",
       "      <td>Coded</td>\n",
       "      <td>Completed</td>\n",
       "      <td>May  5 2023  8:02PM</td>\n",
       "    </tr>\n",
       "    <tr>\n",
       "      <th>4</th>\n",
       "      <td>299717</td>\n",
       "      <td>State Highway</td>\n",
       "      <td>095A</td>\n",
       "      <td>12.906</td>\n",
       "      <td>NaN</td>\n",
       "      <td>2023-01-01</td>\n",
       "      <td>00:34:00</td>\n",
       "      <td>WMPD</td>\n",
       "      <td>WESTMINSTER</td>\n",
       "      <td>JEFFERSON</td>\n",
       "      <td>...</td>\n",
       "      <td>NaN</td>\n",
       "      <td>NaN</td>\n",
       "      <td>NaN</td>\n",
       "      <td>NaN</td>\n",
       "      <td>NaN</td>\n",
       "      <td>NaN</td>\n",
       "      <td>NaN</td>\n",
       "      <td>Coded</td>\n",
       "      <td>Completed</td>\n",
       "      <td>Feb 15 2023  1:35PM</td>\n",
       "    </tr>\n",
       "  </tbody>\n",
       "</table>\n",
       "<p>5 rows × 110 columns</p>\n",
       "</div>"
      ],
      "text/plain": [
       "     CUID    System Code Rd_Number Rd_Section City_Street Crash Date  \\\n",
       "0  296027    City Street      0455      VERMO       TIMBE 2023-01-01   \n",
       "1  299624    City Street      0455      HARMO       TIMBE 2023-01-01   \n",
       "2  289075    City Street      0320      KALAM       CEDAR 2023-01-01   \n",
       "3  293978    City Street      0055      LINVA       LARED 2023-01-01   \n",
       "4  299717  State Highway      095A     12.906         NaN 2023-01-01   \n",
       "\n",
       "  Crash Time Agency Id          City     County  ...  TU-2 NM Safety Helmet   \\\n",
       "0   00:00:00     FTCPD  FORT COLLINS    LARIMER  ...                     NaN   \n",
       "1   00:03:00     FTCPD  FORT COLLINS    LARIMER  ...                     NaN   \n",
       "2   00:09:00       DPD        DENVER     DENVER  ...                     NaN   \n",
       "3   00:16:00     AURPD        AURORA   ARAPAHOE  ...                     NaN   \n",
       "4   00:34:00      WMPD   WESTMINSTER  JEFFERSON  ...                     NaN   \n",
       "\n",
       "   TU-1 NM Alcohol Suspected  TU-2 NM Alcohol Suspected   \\\n",
       "0                         NaN                        NaN   \n",
       "1                         NaN                        NaN   \n",
       "2                         NaN                        NaN   \n",
       "3                         NaN                        NaN   \n",
       "4                         NaN                        NaN   \n",
       "\n",
       "  TU-1 NM Marijuana Suspected  TU-2 NM Marijuana Suspected   \\\n",
       "0                          NaN                          NaN   \n",
       "1                          NaN                          NaN   \n",
       "2                          NaN                          NaN   \n",
       "3                          NaN                          NaN   \n",
       "4                          NaN                          NaN   \n",
       "\n",
       "  TU-1 NM Other Drugs Suspected  TU-2 NM Other Drugs Suspected  Record Status  \\\n",
       "0                            NaN                            NaN         Coded   \n",
       "1                            NaN                            NaN         Coded   \n",
       "2                            NaN                            NaN         Coded   \n",
       "3                            NaN                            NaN         Coded   \n",
       "4                            NaN                            NaN         Coded   \n",
       "\n",
       "  Processing Status         Last Updated  \n",
       "0         Completed  Aug  4 2023 11:35PM  \n",
       "1         Completed  Apr  6 2023 10:08PM  \n",
       "2         Completed  Feb  8 2023  8:29PM  \n",
       "3         Completed  May  5 2023  8:02PM  \n",
       "4         Completed  Feb 15 2023  1:35PM  \n",
       "\n",
       "[5 rows x 110 columns]"
      ]
     },
     "metadata": {},
     "output_type": "display_data"
    }
   ],
   "source": [
    "display(cdot_pdf.head(5))"
   ]
  },
  {
   "cell_type": "code",
   "execution_count": 8,
   "id": "de528b38-70c3-4ac6-9681-8aac973f0f39",
   "metadata": {},
   "outputs": [
    {
     "name": "stdout",
     "output_type": "stream",
     "text": [
      "['CUID', 'System Code', 'Rd_Number', 'Rd_Section', 'City_Street', 'Crash Date', 'Crash Time', 'Agency Id', 'City', 'County', 'Latitude', 'Longitude', 'Location 1', 'Link', 'Location 2', 'Location', 'Road Description', 'First HE', 'Second HE', 'Third HE', 'Fourth HE', 'MHE', 'Crash Type', 'Approach Overtaking Turn', 'Wild Animal', 'Number Killed', 'Number Injured', 'Injury 00', 'Injury 01', 'Injury 02', 'Injury 03', 'Injury 04', 'Total Vehicles', 'Secondary Crash', 'Construction Zone', 'School Zone', 'Road Contour Curves', 'Road Contour Grade', 'Road Condition', 'Lighting Conditions', 'Weather Condition', 'Weather Condition 2', 'Lane Position', 'TU-1 Direction', 'TU-2 Direction', 'TU-1 Movement', 'TU-2 Movement', 'TU-1 Type', 'TU-2 Type', 'TU-1 Special Function', 'TU-2 Special Function', 'TU-1 Autonomous Vehicle', 'TU-2 Autonomous Vehicle', 'TU-1 Hit And Run', 'TU-2 Hit And Run', 'TU-1 Speed Limit', 'TU-2 Speed Limit', 'TU-1 Estimated Speed', 'TU-2 Estimated Speed', 'TU-1 Speed', 'TU-2 Speed', 'TU-1 Driver Action', 'TU-2 Driver Action', 'TU-1 Human Contributing Factor', 'TU-2 Human Contributing Factor', 'TU-1 Age', 'TU-2 Age', 'TU-1 Sex ', 'TU-2 Sex', 'TU-1 Safety System Available ', 'TU-2 Safety System Available ', 'TU-1 Safety restraint Use', 'TU-2 Safety restraint Use', 'TU-1 Safety Helmet', 'TU-2  Safety Helmet', 'TU-1 Alcohol Suspected', 'TU-2 Alcohol Suspected', 'TU-1  Marijuana Suspected', 'TU-2 Marijuana Suspected', 'TU-1 Other Drugs Suspected ', 'TU-2 Other Drugs Suspected ', 'TU-1 NM Direction', 'TU-2 NM Direction', 'TU-1 NM Movement', 'TU-2 NM Movement', 'TU-1 NM Facility Available', 'TU-2 NM Facility Available', 'TU-1 NM Location ', 'TU-2 NM Location ', 'TU-1 NM Type', 'TU-2 NM Type', 'TU-1 NM Age ', 'TU-2 NM Age ', 'TU-1 NM Sex ', 'TU-2 NM Sex ', 'TU-1 NM Action ', 'TU-2 NM Action ', 'TU-1 NM Human Contributing Factor ', 'TU-2 NM Human Contributing Factor ', 'TU-1 NM Safety Helmet ', 'TU-2 NM Safety Helmet ', 'TU-1 NM Alcohol Suspected ', 'TU-2 NM Alcohol Suspected ', 'TU-1 NM Marijuana Suspected ', 'TU-2 NM Marijuana Suspected ', 'TU-1 NM Other Drugs Suspected ', 'TU-2 NM Other Drugs Suspected ', 'Record Status', 'Processing Status', 'Last Updated']\n"
     ]
    }
   ],
   "source": [
    "print(list(cdot_pdf.columns))"
   ]
  },
  {
   "cell_type": "markdown",
   "id": "317f5873-b2cc-4a4a-8470-133614ee1ca6",
   "metadata": {},
   "source": [
    "### Inspect Data"
   ]
  },
  {
   "cell_type": "code",
   "execution_count": 9,
   "id": "1dc234cc-b314-4920-9a9b-4df7291e34ad",
   "metadata": {},
   "outputs": [
    {
     "name": "stdout",
     "output_type": "stream",
     "text": [
      "Number of rows in excel file for 2023\n",
      "102166\n"
     ]
    }
   ],
   "source": [
    "print(f\"Number of rows in excel file for {year}\")\n",
    "print(cdot_pdf.shape[0])"
   ]
  },
  {
   "cell_type": "code",
   "execution_count": 10,
   "id": "c5c07e08-40bb-40f4-85bd-840e29c73e4f",
   "metadata": {},
   "outputs": [
    {
     "name": "stdout",
     "output_type": "stream",
     "text": [
      "Number of rows in excel file for 2023, after dropping duplicates\n",
      "102166\n"
     ]
    }
   ],
   "source": [
    "print(f\"Number of rows in excel file for {year}, after dropping duplicates\")\n",
    "print(cdot_pdf.drop_duplicates().shape[0])"
   ]
  },
  {
   "cell_type": "code",
   "execution_count": 11,
   "id": "17a75828-f04b-404a-b1ce-897cdf2008b4",
   "metadata": {},
   "outputs": [
    {
     "name": "stdout",
     "output_type": "stream",
     "text": [
      "Number of rows in excel file for 2023 in EL PASO\n",
      "10343\n"
     ]
    }
   ],
   "source": [
    "county = \"EL PASO\"\n",
    "\n",
    "print(f\"Number of rows in excel file for {year} in {county}\")\n",
    "print(cdot_pdf.drop_duplicates().loc[cdot_pdf[\"County\"] == county].shape[0])"
   ]
  },
  {
   "cell_type": "code",
   "execution_count": 12,
   "id": "52877ceb-9e28-4678-bfe4-c1be0626fa15",
   "metadata": {},
   "outputs": [
    {
     "data": {
      "text/plain": [
       "County\n",
       "DENVER       15432\n",
       "ARAPAHOE      8252\n",
       "EL PASO       7826\n",
       "ADAMS         7553\n",
       "JEFFERSON     6180\n",
       "             ...  \n",
       "BENT             2\n",
       "BACA             2\n",
       "CROWLEY          0\n",
       "CHEYENNE         0\n",
       "MINERAL          0\n",
       "Name: City, Length: 64, dtype: int64"
      ]
     },
     "metadata": {},
     "output_type": "display_data"
    }
   ],
   "source": [
    "display(cdot_pdf.groupby('County').count()['City'].sort_values(ascending=False))"
   ]
  },
  {
   "cell_type": "code",
   "execution_count": 13,
   "id": "335db0f4-fcbf-4bb0-9fc2-f96ed4b66746",
   "metadata": {},
   "outputs": [
    {
     "data": {
      "text/plain": [
       "City\n",
       "DENVER              15444\n",
       "COLORADO SPRINGS     7209\n",
       "AURORA               6473\n",
       "FORT COLLINS         3047\n",
       "LAKEWOOD             2657\n",
       "                    ...  \n",
       "BROOKSIDE               1\n",
       "COPPER MOUNTAIN         1\n",
       "BRIGGSDALE              1\n",
       "COLLBRAN                1\n",
       "HOLLY                   1\n",
       "Name: County, Length: 248, dtype: int64"
      ]
     },
     "metadata": {},
     "output_type": "display_data"
    }
   ],
   "source": [
    "display(cdot_pdf.groupby('City').count()['County'].sort_values(ascending=False))"
   ]
  },
  {
   "cell_type": "code",
   "execution_count": 14,
   "id": "2ed87dbc-7e10-43d1-a09b-b5735bc300b2",
   "metadata": {},
   "outputs": [
    {
     "name": "stdout",
     "output_type": "stream",
     "text": [
      "CUID\n"
     ]
    },
    {
     "data": {
      "text/plain": [
       "array([296027, 299624, 289075, 293978, 299717])"
      ]
     },
     "metadata": {},
     "output_type": "display_data"
    },
    {
     "name": "stdout",
     "output_type": "stream",
     "text": [
      "System Code\n"
     ]
    },
    {
     "data": {
      "text/plain": [
       "array(['City Street', 'State Highway', 'Interstate Highway',\n",
       "       'County Road', 'Frontage Road'], dtype=object)"
      ]
     },
     "metadata": {},
     "output_type": "display_data"
    },
    {
     "name": "stdout",
     "output_type": "stream",
     "text": [
      "Rd_Number\n"
     ]
    },
    {
     "data": {
      "text/plain": [
       "array(['0455', '0320', '0055', '095A', '025A'], dtype=object)"
      ]
     },
     "metadata": {},
     "output_type": "display_data"
    },
    {
     "name": "stdout",
     "output_type": "stream",
     "text": [
      "Rd_Section\n"
     ]
    },
    {
     "data": {
      "text/plain": [
       "array(['VERMO', 'HARMO', 'KALAM', 'LINVA', '12.906'], dtype=object)"
      ]
     },
     "metadata": {},
     "output_type": "display_data"
    },
    {
     "name": "stdout",
     "output_type": "stream",
     "text": [
      "City_Street\n"
     ]
    },
    {
     "data": {
      "text/plain": [
       "array(['TIMBE', 'CEDAR', 'LARED', nan, 'MAINS'], dtype=object)"
      ]
     },
     "metadata": {},
     "output_type": "display_data"
    },
    {
     "name": "stdout",
     "output_type": "stream",
     "text": [
      "Crash Date\n"
     ]
    },
    {
     "data": {
      "text/plain": [
       "<DatetimeArray>\n",
       "['2023-01-01 00:00:00', '2023-01-02 00:00:00', '2023-01-03 00:00:00',\n",
       " '2023-01-04 00:00:00', '2023-01-05 00:00:00']\n",
       "Length: 5, dtype: datetime64[ns]"
      ]
     },
     "metadata": {},
     "output_type": "display_data"
    },
    {
     "name": "stdout",
     "output_type": "stream",
     "text": [
      "Crash Time\n"
     ]
    },
    {
     "data": {
      "text/plain": [
       "array(['00:00:00', '00:03:00', '00:09:00', '00:16:00', '00:34:00'],\n",
       "      dtype=object)"
      ]
     },
     "metadata": {},
     "output_type": "display_data"
    },
    {
     "name": "stdout",
     "output_type": "stream",
     "text": [
      "Agency Id\n"
     ]
    },
    {
     "data": {
      "text/plain": [
       "array(['FTCPD', 'DPD', 'AURPD', 'WMPD', 'THPD'], dtype=object)"
      ]
     },
     "metadata": {},
     "output_type": "display_data"
    },
    {
     "name": "stdout",
     "output_type": "stream",
     "text": [
      "City\n"
     ]
    },
    {
     "data": {
      "text/plain": [
       "array(['FORT COLLINS', 'DENVER', 'AURORA', 'WESTMINSTER', 'THORNTON'],\n",
       "      dtype=object)"
      ]
     },
     "metadata": {},
     "output_type": "display_data"
    },
    {
     "name": "stdout",
     "output_type": "stream",
     "text": [
      "County\n"
     ]
    },
    {
     "data": {
      "text/plain": [
       "array(['LARIMER', 'DENVER', 'ARAPAHOE', 'JEFFERSON', 'ADAMS'],\n",
       "      dtype=object)"
      ]
     },
     "metadata": {},
     "output_type": "display_data"
    },
    {
     "name": "stdout",
     "output_type": "stream",
     "text": [
      "Latitude\n"
     ]
    },
    {
     "data": {
      "text/plain": [
       "array([40.54381, 40.52337, 39.71325, 39.66699, 39.84174])"
      ]
     },
     "metadata": {},
     "output_type": "display_data"
    },
    {
     "name": "stdout",
     "output_type": "stream",
     "text": [
      "Longitude\n"
     ]
    },
    {
     "data": {
      "text/plain": [
       "array([-105.03712, -105.03935, -104.99941, -104.80235, -105.05319])"
      ]
     },
     "metadata": {},
     "output_type": "display_data"
    },
    {
     "name": "stdout",
     "output_type": "stream",
     "text": [
      "Location 1\n"
     ]
    },
    {
     "data": {
      "text/plain": [
       "array(['VERMONT DR', 'E HARMONY RD', 'S KALAMATH ST', 'E LINVALE AVE',\n",
       "       'N SHERIDAN BLVD'], dtype=object)"
      ]
     },
     "metadata": {},
     "output_type": "display_data"
    },
    {
     "name": "stdout",
     "output_type": "stream",
     "text": [
      "Link\n"
     ]
    },
    {
     "data": {
      "text/plain": [
       "array(['AT', '00200FN', '00050FW', '99999FS', '00500FE'], dtype=object)"
      ]
     },
     "metadata": {},
     "output_type": "display_data"
    },
    {
     "name": "stdout",
     "output_type": "stream",
     "text": [
      "Location 2\n"
     ]
    },
    {
     "data": {
      "text/plain": [
       "array(['2212 BLK', 'S TIMBERLINE RD', 'W CEDAR AVE', 'S LAREDO ST',\n",
       "       'W 79TH ST'], dtype=object)"
      ]
     },
     "metadata": {},
     "output_type": "display_data"
    },
    {
     "name": "stdout",
     "output_type": "stream",
     "text": [
      "Location\n"
     ]
    },
    {
     "data": {
      "text/plain": [
       "array(['On Roadway', 'Ran off right side', 'Ran off left side',\n",
       "       'Vehicle crossed center median into opposing lanes',\n",
       "       'Center median/ Island'], dtype=object)"
      ]
     },
     "metadata": {},
     "output_type": "display_data"
    },
    {
     "name": "stdout",
     "output_type": "stream",
     "text": [
      "Road Description\n"
     ]
    },
    {
     "data": {
      "text/plain": [
       "array(['Non-Intersection', 'At Intersection', 'Intersection Related',\n",
       "       'Ramp-related', 'Ramp'], dtype=object)"
      ]
     },
     "metadata": {},
     "output_type": "display_data"
    },
    {
     "name": "stdout",
     "output_type": "stream",
     "text": [
      "First HE\n"
     ]
    },
    {
     "data": {
      "text/plain": [
       "array(['Parked Motor Vehicle', 'Front to Side', 'Overturning/Rollover',\n",
       "       'Pedestrian', 'Wall or Building'], dtype=object)"
      ]
     },
     "metadata": {},
     "output_type": "display_data"
    },
    {
     "name": "stdout",
     "output_type": "stream",
     "text": [
      "Second HE\n"
     ]
    },
    {
     "data": {
      "text/plain": [
       "array(['Parked Motor Vehicle', 'Side to Side-Opposite Direction', nan,\n",
       "       'Other Non-Fixed Object (Describe in Narrative)', 'Curb'],\n",
       "      dtype=object)"
      ]
     },
     "metadata": {},
     "output_type": "display_data"
    },
    {
     "name": "stdout",
     "output_type": "stream",
     "text": [
      "Third HE\n"
     ]
    },
    {
     "data": {
      "text/plain": [
       "array([nan, 'Ground', 'Other Fixed Object (Describe in Narrative)',\n",
       "       'Other Non-Fixed Object (Describe in Narrative)',\n",
       "       'Wall or Building'], dtype=object)"
      ]
     },
     "metadata": {},
     "output_type": "display_data"
    },
    {
     "name": "stdout",
     "output_type": "stream",
     "text": [
      "Fourth HE\n"
     ]
    },
    {
     "data": {
      "text/plain": [
       "array([nan, 'Vehicle Debris or Cargo', 'Sign', 'Front to Side',\n",
       "       'Other Non-Fixed Object (Describe in Narrative)'], dtype=object)"
      ]
     },
     "metadata": {},
     "output_type": "display_data"
    },
    {
     "name": "stdout",
     "output_type": "stream",
     "text": [
      "MHE\n"
     ]
    },
    {
     "data": {
      "text/plain": [
       "array(['Parked Motor Vehicle', 'Front to Side', 'Overturning/Rollover',\n",
       "       'Pedestrian', 'Wall or Building'], dtype=object)"
      ]
     },
     "metadata": {},
     "output_type": "display_data"
    },
    {
     "name": "stdout",
     "output_type": "stream",
     "text": [
      "Crash Type\n"
     ]
    },
    {
     "data": {
      "text/plain": [
       "array(['Parked Motor Vehicle', 'Broadside', 'Overturning/Rollover',\n",
       "       'Pedestrian', 'Wall or Building'], dtype=object)"
      ]
     },
     "metadata": {},
     "output_type": "display_data"
    },
    {
     "name": "stdout",
     "output_type": "stream",
     "text": [
      "Approach Overtaking Turn\n"
     ]
    },
    {
     "data": {
      "text/plain": [
       "array(['Not Applicable', 'Overtaking Turn', 'Approach Turn'], dtype=object)"
      ]
     },
     "metadata": {},
     "output_type": "display_data"
    },
    {
     "name": "stdout",
     "output_type": "stream",
     "text": [
      "Wild Animal\n"
     ]
    },
    {
     "data": {
      "text/plain": [
       "array([nan, 'UNKNOWN', 'DEER', 'ELK', 'SHEEP'], dtype=object)"
      ]
     },
     "metadata": {},
     "output_type": "display_data"
    },
    {
     "name": "stdout",
     "output_type": "stream",
     "text": [
      "Number Killed\n"
     ]
    },
    {
     "data": {
      "text/plain": [
       "array([0, 1, 2, 3])"
      ]
     },
     "metadata": {},
     "output_type": "display_data"
    },
    {
     "name": "stdout",
     "output_type": "stream",
     "text": [
      "Number Injured\n"
     ]
    },
    {
     "data": {
      "text/plain": [
       "array([0, 1, 2, 3, 7])"
      ]
     },
     "metadata": {},
     "output_type": "display_data"
    },
    {
     "name": "stdout",
     "output_type": "stream",
     "text": [
      "Injury 00\n"
     ]
    },
    {
     "data": {
      "text/plain": [
       "array([0, 2, 1, 4, 3])"
      ]
     },
     "metadata": {},
     "output_type": "display_data"
    },
    {
     "name": "stdout",
     "output_type": "stream",
     "text": [
      "Injury 01\n"
     ]
    },
    {
     "data": {
      "text/plain": [
       "array([0, 1, 2, 4, 3])"
      ]
     },
     "metadata": {},
     "output_type": "display_data"
    },
    {
     "name": "stdout",
     "output_type": "stream",
     "text": [
      "Injury 02\n"
     ]
    },
    {
     "data": {
      "text/plain": [
       "array([0, 1, 2, 3, 5])"
      ]
     },
     "metadata": {},
     "output_type": "display_data"
    },
    {
     "name": "stdout",
     "output_type": "stream",
     "text": [
      "Injury 03\n"
     ]
    },
    {
     "data": {
      "text/plain": [
       "array([0, 1, 2, 3, 6])"
      ]
     },
     "metadata": {},
     "output_type": "display_data"
    },
    {
     "name": "stdout",
     "output_type": "stream",
     "text": [
      "Injury 04\n"
     ]
    },
    {
     "data": {
      "text/plain": [
       "array([0, 1, 2, 3])"
      ]
     },
     "metadata": {},
     "output_type": "display_data"
    },
    {
     "name": "stdout",
     "output_type": "stream",
     "text": [
      "Total Vehicles\n"
     ]
    },
    {
     "data": {
      "text/plain": [
       "array([3., 1., 2., 4., 6.])"
      ]
     },
     "metadata": {},
     "output_type": "display_data"
    },
    {
     "name": "stdout",
     "output_type": "stream",
     "text": [
      "Secondary Crash\n"
     ]
    },
    {
     "data": {
      "text/plain": [
       "array([ 1.,  0., nan])"
      ]
     },
     "metadata": {},
     "output_type": "display_data"
    },
    {
     "name": "stdout",
     "output_type": "stream",
     "text": [
      "Construction Zone\n"
     ]
    },
    {
     "data": {
      "text/plain": [
       "array([False,  True])"
      ]
     },
     "metadata": {},
     "output_type": "display_data"
    },
    {
     "name": "stdout",
     "output_type": "stream",
     "text": [
      "School Zone\n"
     ]
    },
    {
     "data": {
      "text/plain": [
       "array([ 0.,  1., nan])"
      ]
     },
     "metadata": {},
     "output_type": "display_data"
    },
    {
     "name": "stdout",
     "output_type": "stream",
     "text": [
      "Road Contour Curves\n"
     ]
    },
    {
     "data": {
      "text/plain": [
       "array(['Straight', 'Curve Left', 'Curve Right', nan, 'Unknown'],\n",
       "      dtype=object)"
      ]
     },
     "metadata": {},
     "output_type": "display_data"
    },
    {
     "name": "stdout",
     "output_type": "stream",
     "text": [
      "Road Contour Grade\n"
     ]
    },
    {
     "data": {
      "text/plain": [
       "array(['Level', 'Downhill', nan, 'Uphill', 'Hill Crest'], dtype=object)"
      ]
     },
     "metadata": {},
     "output_type": "display_data"
    },
    {
     "name": "stdout",
     "output_type": "stream",
     "text": [
      "Road Condition\n"
     ]
    },
    {
     "data": {
      "text/plain": [
       "array(['Icy', 'Dry', 'Wet', 'Icy W/Visible Icy Road Treatment', 'Slushy'],\n",
       "      dtype=object)"
      ]
     },
     "metadata": {},
     "output_type": "display_data"
    },
    {
     "name": "stdout",
     "output_type": "stream",
     "text": [
      "Lighting Conditions\n"
     ]
    },
    {
     "data": {
      "text/plain": [
       "array(['Dark – Lighted', 'Dark – Unlighted', 'Daylight', 'Dawn or Dusk',\n",
       "       nan], dtype=object)"
      ]
     },
     "metadata": {},
     "output_type": "display_data"
    },
    {
     "name": "stdout",
     "output_type": "stream",
     "text": [
      "Weather Condition\n"
     ]
    },
    {
     "data": {
      "text/plain": [
       "array(['Snow', 'Clear', 'Cloudy', 'Sleet or Hail', nan], dtype=object)"
      ]
     },
     "metadata": {},
     "output_type": "display_data"
    },
    {
     "name": "stdout",
     "output_type": "stream",
     "text": [
      "Weather Condition 2\n"
     ]
    },
    {
     "data": {
      "text/plain": [
       "array([nan, 'Clear', 'Sleet or Hail', 'Wind', 'Cloudy'], dtype=object)"
      ]
     },
     "metadata": {},
     "output_type": "display_data"
    },
    {
     "name": "stdout",
     "output_type": "stream",
     "text": [
      "Lane Position\n"
     ]
    },
    {
     "data": {
      "text/plain": [
       "array(['W02', 'S02', 'S03', 'E01', 'N01'], dtype=object)"
      ]
     },
     "metadata": {},
     "output_type": "display_data"
    },
    {
     "name": "stdout",
     "output_type": "stream",
     "text": [
      "TU-1 Direction\n"
     ]
    },
    {
     "data": {
      "text/plain": [
       "array(['West', 'North', 'South', 'East', nan], dtype=object)"
      ]
     },
     "metadata": {},
     "output_type": "display_data"
    },
    {
     "name": "stdout",
     "output_type": "stream",
     "text": [
      "TU-2 Direction\n"
     ]
    },
    {
     "data": {
      "text/plain": [
       "array(['West', nan, 'East', 'North', 'Northwest'], dtype=object)"
      ]
     },
     "metadata": {},
     "output_type": "display_data"
    },
    {
     "name": "stdout",
     "output_type": "stream",
     "text": [
      "TU-1 Movement\n"
     ]
    },
    {
     "data": {
      "text/plain": [
       "array(['Going Straight', 'Making Left Turn', nan, 'Out of Control',\n",
       "       'Other (Describe in Narrative)'], dtype=object)"
      ]
     },
     "metadata": {},
     "output_type": "display_data"
    },
    {
     "name": "stdout",
     "output_type": "stream",
     "text": [
      "TU-2 Movement\n"
     ]
    },
    {
     "data": {
      "text/plain": [
       "array(['Parked', 'Going Straight', nan, 'Stopped in Traffic',\n",
       "       'Entering/Leaving Parked Position'], dtype=object)"
      ]
     },
     "metadata": {},
     "output_type": "display_data"
    },
    {
     "name": "stdout",
     "output_type": "stream",
     "text": [
      "TU-1 Type\n"
     ]
    },
    {
     "data": {
      "text/plain": [
       "array(['Unknown ', 'Passenger Car/Passenger Van', 'SUV', nan,\n",
       "       'Pickup Truck/Utility Van'], dtype=object)"
      ]
     },
     "metadata": {},
     "output_type": "display_data"
    },
    {
     "name": "stdout",
     "output_type": "stream",
     "text": [
      "TU-2 Type\n"
     ]
    },
    {
     "data": {
      "text/plain": [
       "array(['Passenger Car/Passenger Van', nan, 'Pickup Truck/Utility Van',\n",
       "       'SUV', 'Other Vehicle Type (Describe in Narrative)'], dtype=object)"
      ]
     },
     "metadata": {},
     "output_type": "display_data"
    },
    {
     "name": "stdout",
     "output_type": "stream",
     "text": [
      "TU-1 Special Function\n"
     ]
    },
    {
     "data": {
      "text/plain": [
       "array([nan, 'Vehicle Used for Electronic Ride-hailing (Uber, Lyft etc.)',\n",
       "       'No Special Function', 'Police', 'Bus – Shuttle'], dtype=object)"
      ]
     },
     "metadata": {},
     "output_type": "display_data"
    },
    {
     "name": "stdout",
     "output_type": "stream",
     "text": [
      "TU-2 Special Function\n"
     ]
    },
    {
     "data": {
      "text/plain": [
       "array(['No Special Function', nan, 'Police',\n",
       "       'Non-Transport Emergency Services Vehicle',\n",
       "       'Truck Acting as Crash Attenuator'], dtype=object)"
      ]
     },
     "metadata": {},
     "output_type": "display_data"
    },
    {
     "name": "stdout",
     "output_type": "stream",
     "text": [
      "TU-1 Autonomous Vehicle\n"
     ]
    },
    {
     "data": {
      "text/plain": [
       "array([nan, 'No Automation', 'Unknown', 'Driver Assistance',\n",
       "       'Partial Automation'], dtype=object)"
      ]
     },
     "metadata": {},
     "output_type": "display_data"
    },
    {
     "name": "stdout",
     "output_type": "stream",
     "text": [
      "TU-2 Autonomous Vehicle\n"
     ]
    },
    {
     "data": {
      "text/plain": [
       "array(['No Automation', 'Unknown', nan, 'Partial Automation',\n",
       "       'Driver Assistance'], dtype=object)"
      ]
     },
     "metadata": {},
     "output_type": "display_data"
    },
    {
     "name": "stdout",
     "output_type": "stream",
     "text": [
      "TU-1 Hit And Run\n"
     ]
    },
    {
     "data": {
      "text/plain": [
       "array([ True, False])"
      ]
     },
     "metadata": {},
     "output_type": "display_data"
    },
    {
     "name": "stdout",
     "output_type": "stream",
     "text": [
      "TU-2 Hit And Run\n"
     ]
    },
    {
     "data": {
      "text/plain": [
       "array([False,  True])"
      ]
     },
     "metadata": {},
     "output_type": "display_data"
    },
    {
     "name": "stdout",
     "output_type": "stream",
     "text": [
      "TU-1 Speed Limit\n"
     ]
    },
    {
     "data": {
      "text/plain": [
       "array([35, 40, 25, 45,  0])"
      ]
     },
     "metadata": {},
     "output_type": "display_data"
    },
    {
     "name": "stdout",
     "output_type": "stream",
     "text": [
      "TU-2 Speed Limit\n"
     ]
    },
    {
     "data": {
      "text/plain": [
       "array([35, 40,  0, 25, 45])"
      ]
     },
     "metadata": {},
     "output_type": "display_data"
    },
    {
     "name": "stdout",
     "output_type": "stream",
     "text": [
      "TU-1 Estimated Speed\n"
     ]
    },
    {
     "data": {
      "text/plain": [
       "array([ 0, 20, 35, 45, 65])"
      ]
     },
     "metadata": {},
     "output_type": "display_data"
    },
    {
     "name": "stdout",
     "output_type": "stream",
     "text": [
      "TU-2 Estimated Speed\n"
     ]
    },
    {
     "data": {
      "text/plain": [
       "array([ 0, 35, 45, 70, 30])"
      ]
     },
     "metadata": {},
     "output_type": "display_data"
    },
    {
     "name": "stdout",
     "output_type": "stream",
     "text": [
      "TU-1 Speed\n"
     ]
    },
    {
     "data": {
      "text/plain": [
       "array([ 0, 20, 35, 65, 25])"
      ]
     },
     "metadata": {},
     "output_type": "display_data"
    },
    {
     "name": "stdout",
     "output_type": "stream",
     "text": [
      "TU-2 Speed\n"
     ]
    },
    {
     "data": {
      "text/plain": [
       "array([ 0, 45, 70, 35, 30])"
      ]
     },
     "metadata": {},
     "output_type": "display_data"
    },
    {
     "name": "stdout",
     "output_type": "stream",
     "text": [
      "TU-1 Driver Action\n"
     ]
    },
    {
     "data": {
      "text/plain": [
       "array(['Careless Driving ', 'Failed to Stop at Signal',\n",
       "       'Failed to Yield ROW', nan, 'Followed Too Closely'], dtype=object)"
      ]
     },
     "metadata": {},
     "output_type": "display_data"
    },
    {
     "name": "stdout",
     "output_type": "stream",
     "text": [
      "TU-2 Driver Action\n"
     ]
    },
    {
     "data": {
      "text/plain": [
       "array(['No Contributing Action', nan,\n",
       "       'Other Contributing Action (Describe in Narrative)',\n",
       "       'Followed Too Closely', 'Lane Violation'], dtype=object)"
      ]
     },
     "metadata": {},
     "output_type": "display_data"
    },
    {
     "name": "stdout",
     "output_type": "stream",
     "text": [
      "TU-1 Human Contributing Factor\n"
     ]
    },
    {
     "data": {
      "text/plain": [
       "array([nan, 'Distracted - Other Interior', 'Aggressive Driving',\n",
       "       'Other Factor (Describe in Narrative)', 'Not Observed'],\n",
       "      dtype=object)"
      ]
     },
     "metadata": {},
     "output_type": "display_data"
    },
    {
     "name": "stdout",
     "output_type": "stream",
     "text": [
      "TU-2 Human Contributing Factor\n"
     ]
    },
    {
     "data": {
      "text/plain": [
       "array(['No Apparent Contributing Factor', nan, 'Not Observed',\n",
       "       'Driver Inexperience', 'Other Factor (Describe in Narrative)'],\n",
       "      dtype=object)"
      ]
     },
     "metadata": {},
     "output_type": "display_data"
    },
    {
     "name": "stdout",
     "output_type": "stream",
     "text": [
      "TU-1 Age\n"
     ]
    },
    {
     "data": {
      "text/plain": [
       "array([ 0, 25, 29, 23, 32])"
      ]
     },
     "metadata": {},
     "output_type": "display_data"
    },
    {
     "name": "stdout",
     "output_type": "stream",
     "text": [
      "TU-2 Age\n"
     ]
    },
    {
     "data": {
      "text/plain": [
       "array([ 0, 25, 33, 31, 26])"
      ]
     },
     "metadata": {},
     "output_type": "display_data"
    },
    {
     "name": "stdout",
     "output_type": "stream",
     "text": [
      "TU-1 Sex \n"
     ]
    },
    {
     "data": {
      "text/plain": [
       "array([nan, 'M', 'F', 'U', 'X'], dtype=object)"
      ]
     },
     "metadata": {},
     "output_type": "display_data"
    },
    {
     "name": "stdout",
     "output_type": "stream",
     "text": [
      "TU-2 Sex\n"
     ]
    },
    {
     "data": {
      "text/plain": [
       "array([nan, 'F', 'M', 'X', 'U'], dtype=object)"
      ]
     },
     "metadata": {},
     "output_type": "display_data"
    },
    {
     "name": "stdout",
     "output_type": "stream",
     "text": [
      "TU-1 Safety System Available \n"
     ]
    },
    {
     "data": {
      "text/plain": [
       "array([nan, 'Shoulder and Lap Belt', 'Child Restraint – Forward Facing',\n",
       "       'Shoulder Belt Only', 'Lap Belt Only'], dtype=object)"
      ]
     },
     "metadata": {},
     "output_type": "display_data"
    },
    {
     "name": "stdout",
     "output_type": "stream",
     "text": [
      "TU-2 Safety System Available \n"
     ]
    },
    {
     "data": {
      "text/plain": [
       "array([nan, 'Shoulder and Lap Belt', 'Lap Belt Only',\n",
       "       'Child Restraint – Type Unknown', 'Shoulder Belt Only'],\n",
       "      dtype=object)"
      ]
     },
     "metadata": {},
     "output_type": "display_data"
    },
    {
     "name": "stdout",
     "output_type": "stream",
     "text": [
      "TU-1 Safety restraint Use\n"
     ]
    },
    {
     "data": {
      "text/plain": [
       "array([nan, 'Properly Used', 'Unknown', 'Not Used', 'Improperly Used'],\n",
       "      dtype=object)"
      ]
     },
     "metadata": {},
     "output_type": "display_data"
    },
    {
     "name": "stdout",
     "output_type": "stream",
     "text": [
      "TU-2 Safety restraint Use\n"
     ]
    },
    {
     "data": {
      "text/plain": [
       "array([nan, 'Properly Used', 'Unknown', 'Not Used', 'Improperly Used'],\n",
       "      dtype=object)"
      ]
     },
     "metadata": {},
     "output_type": "display_data"
    },
    {
     "name": "stdout",
     "output_type": "stream",
     "text": [
      "TU-1 Safety Helmet\n"
     ]
    },
    {
     "data": {
      "text/plain": [
       "array([nan, 'N/A (Cars/Trucks)', 'Unknown (Describe in Narrative)',\n",
       "       'No Helmet', 'Available, Not Used'], dtype=object)"
      ]
     },
     "metadata": {},
     "output_type": "display_data"
    },
    {
     "name": "stdout",
     "output_type": "stream",
     "text": [
      "TU-2  Safety Helmet\n"
     ]
    },
    {
     "data": {
      "text/plain": [
       "array([nan, 'N/A (Cars/Trucks)', 'No Helmet',\n",
       "       'Unknown (Describe in Narrative)', 'Available, Not Used'],\n",
       "      dtype=object)"
      ]
     },
     "metadata": {},
     "output_type": "display_data"
    },
    {
     "name": "stdout",
     "output_type": "stream",
     "text": [
      "TU-1 Alcohol Suspected\n"
     ]
    },
    {
     "data": {
      "text/plain": [
       "array([nan, 'Yes - Observed', 'No - Observed',\n",
       "       'Yes - Preliminary Breath Test', 'Yes - Other Method'],\n",
       "      dtype=object)"
      ]
     },
     "metadata": {},
     "output_type": "display_data"
    },
    {
     "name": "stdout",
     "output_type": "stream",
     "text": [
      "TU-2 Alcohol Suspected\n"
     ]
    },
    {
     "data": {
      "text/plain": [
       "array([nan, 'No - Observed', 'Yes - SFST', 'Yes - Observed',\n",
       "       'No - Other Method'], dtype=object)"
      ]
     },
     "metadata": {},
     "output_type": "display_data"
    },
    {
     "name": "stdout",
     "output_type": "stream",
     "text": [
      "TU-1  Marijuana Suspected\n"
     ]
    },
    {
     "data": {
      "text/plain": [
       "array([nan, 'Unknown', 'Marijuana Not Suspected', 'Marijuana Suspected'],\n",
       "      dtype=object)"
      ]
     },
     "metadata": {},
     "output_type": "display_data"
    },
    {
     "name": "stdout",
     "output_type": "stream",
     "text": [
      "TU-2 Marijuana Suspected\n"
     ]
    },
    {
     "data": {
      "text/plain": [
       "array([nan, 'Marijuana Not Suspected', 'Unknown', 'Marijuana Suspected'],\n",
       "      dtype=object)"
      ]
     },
     "metadata": {},
     "output_type": "display_data"
    },
    {
     "name": "stdout",
     "output_type": "stream",
     "text": [
      "TU-1 Other Drugs Suspected \n"
     ]
    },
    {
     "data": {
      "text/plain": [
       "array([nan, 'No - Observed', 'No - Other Method', 'Yes - Observed',\n",
       "       'Unknown'], dtype=object)"
      ]
     },
     "metadata": {},
     "output_type": "display_data"
    },
    {
     "name": "stdout",
     "output_type": "stream",
     "text": [
      "TU-2 Other Drugs Suspected \n"
     ]
    },
    {
     "data": {
      "text/plain": [
       "array([nan, 'No - Observed', 'Yes - Other Method', 'No - Other Method',\n",
       "       'No - SFST'], dtype=object)"
      ]
     },
     "metadata": {},
     "output_type": "display_data"
    },
    {
     "name": "stdout",
     "output_type": "stream",
     "text": [
      "TU-1 NM Direction\n"
     ]
    },
    {
     "data": {
      "text/plain": [
       "array([nan, 'North', 'West', 'East', 'South'], dtype=object)"
      ]
     },
     "metadata": {},
     "output_type": "display_data"
    },
    {
     "name": "stdout",
     "output_type": "stream",
     "text": [
      "TU-2 NM Direction\n"
     ]
    },
    {
     "data": {
      "text/plain": [
       "array([nan, 'North', 'East', 'Unknown', 'West'], dtype=object)"
      ]
     },
     "metadata": {},
     "output_type": "display_data"
    },
    {
     "name": "stdout",
     "output_type": "stream",
     "text": [
      "TU-1 NM Movement\n"
     ]
    },
    {
     "data": {
      "text/plain": [
       "array([nan, 'Stopped in Traffic', 'Other (Describe in Narrative)',\n",
       "       'Going Straight', 'Entering Traffic Way/Merge'], dtype=object)"
      ]
     },
     "metadata": {},
     "output_type": "display_data"
    },
    {
     "name": "stdout",
     "output_type": "stream",
     "text": [
      "TU-2 NM Movement\n"
     ]
    },
    {
     "data": {
      "text/plain": [
       "array([nan, 'Other (Describe in Narrative)', 'Going Straight',\n",
       "       'Making Left Turn', 'Entering/Leaving Parked Position'],\n",
       "      dtype=object)"
      ]
     },
     "metadata": {},
     "output_type": "display_data"
    },
    {
     "name": "stdout",
     "output_type": "stream",
     "text": [
      "TU-1 NM Facility Available\n"
     ]
    },
    {
     "data": {
      "text/plain": [
       "array([nan, 'Other (Describe in Narrative)', 'No Specific Facility',\n",
       "       'Sidewalk', 'Shared Travelway'], dtype=object)"
      ]
     },
     "metadata": {},
     "output_type": "display_data"
    },
    {
     "name": "stdout",
     "output_type": "stream",
     "text": [
      "TU-2 NM Facility Available\n"
     ]
    },
    {
     "data": {
      "text/plain": [
       "array([nan, 'Other (Describe in Narrative)', 'No Specific Facility',\n",
       "       'Sidewalk', 'Shared Travelway'], dtype=object)"
      ]
     },
     "metadata": {},
     "output_type": "display_data"
    },
    {
     "name": "stdout",
     "output_type": "stream",
     "text": [
      "TU-1 NM Location \n"
     ]
    },
    {
     "data": {
      "text/plain": [
       "array([nan, 'Midblock – Non-Crosswalk', 'Intersection – Marked Crosswalk',\n",
       "       'Travel Lane – Other Location',\n",
       "       'Other Location (Describe in Narrative)'], dtype=object)"
      ]
     },
     "metadata": {},
     "output_type": "display_data"
    },
    {
     "name": "stdout",
     "output_type": "stream",
     "text": [
      "TU-2 NM Location \n"
     ]
    },
    {
     "data": {
      "text/plain": [
       "array([nan, 'Intersection – Unmarked Crosswalk', 'Shoulder/Roadside',\n",
       "       'Sidewalk', 'Non-Trafficway Area'], dtype=object)"
      ]
     },
     "metadata": {},
     "output_type": "display_data"
    },
    {
     "name": "stdout",
     "output_type": "stream",
     "text": [
      "TU-1 NM Type\n"
     ]
    },
    {
     "data": {
      "text/plain": [
       "array([nan, 'Pedestrian', 'Bicyclist', 'Other Pedestrian', 'Wheelchair'],\n",
       "      dtype=object)"
      ]
     },
     "metadata": {},
     "output_type": "display_data"
    },
    {
     "name": "stdout",
     "output_type": "stream",
     "text": [
      "TU-2 NM Type\n"
     ]
    },
    {
     "data": {
      "text/plain": [
       "array([nan, 'Pedestrian', 'Bicyclist', 'Other Non-Motorist',\n",
       "       'Other Bicyclist/Cyclist'], dtype=object)"
      ]
     },
     "metadata": {},
     "output_type": "display_data"
    },
    {
     "name": "stdout",
     "output_type": "stream",
     "text": [
      "TU-1 NM Age \n"
     ]
    },
    {
     "data": {
      "text/plain": [
       "array([nan, 29., 12., 47., 27.])"
      ]
     },
     "metadata": {},
     "output_type": "display_data"
    },
    {
     "name": "stdout",
     "output_type": "stream",
     "text": [
      "TU-2 NM Age \n"
     ]
    },
    {
     "data": {
      "text/plain": [
       "array([nan, 48., 13., 20., 22.])"
      ]
     },
     "metadata": {},
     "output_type": "display_data"
    },
    {
     "name": "stdout",
     "output_type": "stream",
     "text": [
      "TU-1 NM Sex \n"
     ]
    },
    {
     "data": {
      "text/plain": [
       "array([nan, 'F', 'M', 'U', 'X'], dtype=object)"
      ]
     },
     "metadata": {},
     "output_type": "display_data"
    },
    {
     "name": "stdout",
     "output_type": "stream",
     "text": [
      "TU-2 NM Sex \n"
     ]
    },
    {
     "data": {
      "text/plain": [
       "array([nan, 'M', 'F', 'U', 'X'], dtype=object)"
      ]
     },
     "metadata": {},
     "output_type": "display_data"
    },
    {
     "name": "stdout",
     "output_type": "stream",
     "text": [
      "TU-1 NM Action \n"
     ]
    },
    {
     "data": {
      "text/plain": [
       "array([nan, 'In Roadway Improperly (Standing, Lying, Working, Playing)',\n",
       "       'Cross/Enter NOT at Intersection',\n",
       "       'Failure to Obey Traffic Signs, Signals, or Officer',\n",
       "       'No Contributing Action'], dtype=object)"
      ]
     },
     "metadata": {},
     "output_type": "display_data"
    },
    {
     "name": "stdout",
     "output_type": "stream",
     "text": [
      "TU-2 NM Action \n"
     ]
    },
    {
     "data": {
      "text/plain": [
       "array([nan, 'Cross/Enter at Intersection', 'No Contributing Action',\n",
       "       'Failure to Obey Traffic Signs, Signals, or Officer',\n",
       "       'Traveling on Sidewalk With Traffic'], dtype=object)"
      ]
     },
     "metadata": {},
     "output_type": "display_data"
    },
    {
     "name": "stdout",
     "output_type": "stream",
     "text": [
      "TU-1 NM Human Contributing Factor \n"
     ]
    },
    {
     "data": {
      "text/plain": [
       "array([nan, 'Not Visible (Dark Clothing, No Lighting, etc.)',\n",
       "       'Under The Influence of Alcohol or Drugs', 'Inexperience',\n",
       "       'No Apparent Contributing Factor'], dtype=object)"
      ]
     },
     "metadata": {},
     "output_type": "display_data"
    },
    {
     "name": "stdout",
     "output_type": "stream",
     "text": [
      "TU-2 NM Human Contributing Factor \n"
     ]
    },
    {
     "data": {
      "text/plain": [
       "array([nan, 'Under The Influence of Alcohol or Drugs',\n",
       "       'No Apparent Contributing Factor',\n",
       "       'Other Factor (Describe in Narrative)', 'Age/Ability'],\n",
       "      dtype=object)"
      ]
     },
     "metadata": {},
     "output_type": "display_data"
    },
    {
     "name": "stdout",
     "output_type": "stream",
     "text": [
      "TU-1 NM Safety Helmet \n"
     ]
    },
    {
     "data": {
      "text/plain": [
       "array([nan, 'No Helmet', 'N/A (Cars/Trucks)',\n",
       "       'Unknown (Describe in Narrative)', 'Helmet Properly used'],\n",
       "      dtype=object)"
      ]
     },
     "metadata": {},
     "output_type": "display_data"
    },
    {
     "name": "stdout",
     "output_type": "stream",
     "text": [
      "TU-2 NM Safety Helmet \n"
     ]
    },
    {
     "data": {
      "text/plain": [
       "array([nan, 'N/A (Cars/Trucks)', 'No Helmet', 'Helmet Properly used',\n",
       "       'Helmet Improperly used'], dtype=object)"
      ]
     },
     "metadata": {},
     "output_type": "display_data"
    },
    {
     "name": "stdout",
     "output_type": "stream",
     "text": [
      "TU-1 NM Alcohol Suspected \n"
     ]
    },
    {
     "data": {
      "text/plain": [
       "array([nan, 'Yes - Other Method', 'Yes - Observed', 'No - Observed',\n",
       "       'No - Other Method'], dtype=object)"
      ]
     },
     "metadata": {},
     "output_type": "display_data"
    },
    {
     "name": "stdout",
     "output_type": "stream",
     "text": [
      "TU-2 NM Alcohol Suspected \n"
     ]
    },
    {
     "data": {
      "text/plain": [
       "array([nan, 'Yes - Observed', 'No - Observed', 'No - Other Method',\n",
       "       'Yes - Other Method'], dtype=object)"
      ]
     },
     "metadata": {},
     "output_type": "display_data"
    },
    {
     "name": "stdout",
     "output_type": "stream",
     "text": [
      "TU-1 NM Marijuana Suspected \n"
     ]
    },
    {
     "data": {
      "text/plain": [
       "array([nan, 'Marijuana Suspected', 'Marijuana Not Suspected', 'Unknown'],\n",
       "      dtype=object)"
      ]
     },
     "metadata": {},
     "output_type": "display_data"
    },
    {
     "name": "stdout",
     "output_type": "stream",
     "text": [
      "TU-2 NM Marijuana Suspected \n"
     ]
    },
    {
     "data": {
      "text/plain": [
       "array([nan, 'Marijuana Not Suspected', 'Unknown', 'Marijuana Suspected'],\n",
       "      dtype=object)"
      ]
     },
     "metadata": {},
     "output_type": "display_data"
    },
    {
     "name": "stdout",
     "output_type": "stream",
     "text": [
      "TU-1 NM Other Drugs Suspected \n"
     ]
    },
    {
     "data": {
      "text/plain": [
       "array([nan, 'Yes - Other Method', 'No - Observed', 'No - Other Method',\n",
       "       'No - Drug Recognition Expert'], dtype=object)"
      ]
     },
     "metadata": {},
     "output_type": "display_data"
    },
    {
     "name": "stdout",
     "output_type": "stream",
     "text": [
      "TU-2 NM Other Drugs Suspected \n"
     ]
    },
    {
     "data": {
      "text/plain": [
       "array([nan, 'No - Observed', 'No - Other Method',\n",
       "       'No - Drug Recognition Expert', 'Yes - Observed'], dtype=object)"
      ]
     },
     "metadata": {},
     "output_type": "display_data"
    },
    {
     "name": "stdout",
     "output_type": "stream",
     "text": [
      "Record Status\n"
     ]
    },
    {
     "data": {
      "text/plain": [
       "array(['Coded'], dtype=object)"
      ]
     },
     "metadata": {},
     "output_type": "display_data"
    },
    {
     "name": "stdout",
     "output_type": "stream",
     "text": [
      "Processing Status\n"
     ]
    },
    {
     "data": {
      "text/plain": [
       "array(['Completed'], dtype=object)"
      ]
     },
     "metadata": {},
     "output_type": "display_data"
    },
    {
     "name": "stdout",
     "output_type": "stream",
     "text": [
      "Last Updated\n"
     ]
    },
    {
     "data": {
      "text/plain": [
       "array(['Aug  4 2023 11:35PM', 'Apr  6 2023 10:08PM',\n",
       "       'Feb  8 2023  8:29PM', 'May  5 2023  8:02PM',\n",
       "       'Feb 15 2023  1:35PM'], dtype=object)"
      ]
     },
     "metadata": {},
     "output_type": "display_data"
    }
   ],
   "source": [
    "for c in cdot_pdf.columns:\n",
    "    print(c)\n",
    "    display(cdot_pdf[c].unique()[:5])"
   ]
  },
  {
   "cell_type": "code",
   "execution_count": 17,
   "id": "40b3159a-0405-4987-af1e-4b9d41ac66ee",
   "metadata": {},
   "outputs": [
    {
     "name": "stdout",
     "output_type": "stream",
     "text": [
      "total rows 102166\n",
      "\n",
      "Column CUID\n",
      "unique rows 102166\n",
      "nan rows 0\n",
      "\n",
      "Column Crash Date\n",
      "unique rows 365\n",
      "nan rows 0\n",
      "\n",
      "Column Crash Time\n",
      "unique rows 1440\n",
      "nan rows 215\n",
      "\n",
      "Column City\n",
      "unique rows 248\n",
      "nan rows 29184\n",
      "\n",
      "Column County\n",
      "unique rows 64\n",
      "nan rows 0\n",
      "\n",
      "Column Latitude\n",
      "unique rows 56812\n",
      "nan rows 7982\n",
      "\n",
      "Column Longitude\n",
      "unique rows 54080\n",
      "nan rows 7982\n",
      "\n",
      "Column Location 1\n",
      "unique rows 15292\n",
      "nan rows 0\n",
      "\n",
      "Column Link\n",
      "unique rows 5012\n",
      "nan rows 0\n",
      "\n",
      "Column Location 2\n",
      "unique rows 33741\n",
      "nan rows 15\n",
      "\n"
     ]
    }
   ],
   "source": [
    "# Check for missing values in columns of interest \n",
    "columns_of_interest = ['CUID', 'Crash Date', 'Crash Time', 'City', 'County', 'Latitude', 'Longitude', 'Location 1', 'Link', 'Location 2']\n",
    "\n",
    "print('total rows', cdot_pdf.shape[0])\n",
    "print()\n",
    "\n",
    "for col in columns_of_interest:\n",
    "\n",
    "    unique_count = cdot_pdf[col].nunique()\n",
    "    nan_count = cdot_pdf[col].isna().sum()\n",
    "\n",
    "    print('Column', col)\n",
    "    print('unique rows', unique_count)\n",
    "    print('nan rows', nan_count)\n",
    "\n",
    "    print()"
   ]
  },
  {
   "cell_type": "code",
   "execution_count": null,
   "id": "bb108967-48ca-443e-a2e8-a6543ed8bbd0",
   "metadata": {},
   "outputs": [],
   "source": []
  }
 ],
 "metadata": {
  "kernelspec": {
   "display_name": "Python 3 (ipykernel)",
   "language": "python",
   "name": "python3"
  },
  "language_info": {
   "codemirror_mode": {
    "name": "ipython",
    "version": 3
   },
   "file_extension": ".py",
   "mimetype": "text/x-python",
   "name": "python",
   "nbconvert_exporter": "python",
   "pygments_lexer": "ipython3",
   "version": "3.13.1"
  }
 },
 "nbformat": 4,
 "nbformat_minor": 5
}
